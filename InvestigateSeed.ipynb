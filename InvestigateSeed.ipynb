{
 "cells": [
  {
   "cell_type": "code",
   "execution_count": 1,
   "metadata": {},
   "outputs": [],
   "source": [
    "from gamestate import *\n",
    "from benchmarking import *"
   ]
  },
  {
   "cell_type": "code",
   "execution_count": 200,
   "metadata": {},
   "outputs": [
    {
     "data": {
      "text/plain": [
       "187"
      ]
     },
     "execution_count": 200,
     "metadata": {},
     "output_type": "execute_result"
    }
   ],
   "source": [
    "path = ['DR7', '21', 'DR1', 'DR2', 'DR1', 'DR1', '16-2', 'DR3', 'DR4', 'DR6', 'DR5', '61-3', 'DR5', 'DR7', '32', 'DR2', 'DR5', 'W7', 'DR4', '47', '75-2', 'DR10', 'DR6', '42', '53-3', 'DR5', 'DR6', 'DR7', 'DR7', '34-4', 'DR4', 'DR7', 'DR2', '63', 'DR4', 'DR3', '34-2', 'DR3', 'DR7', 'DR4', 'DR6', '47-4', 'DR2', 'W7', 'DR3', 'DR4', '74-5', 'DR6', '41-7', 'DR3', '17-5', 'DR3', 'DR6', 'W7', 'DR6', 'DR2', 'DR4', 'DR5', 'DR6', 'DR2', '67', '14-2', '74-7', 'DR5', 'DR5', '67', 'DR5', '41-9', 'DR4', 'DR6', '17-6', 'DR6', '6H', '7H', '71-5', 'DR3', 'DR2', '62', '14-8', 'W2', 'DR7', '47-5', 'H7', 'DR6', 'DR5', '7H', 'W6', 'DR10', 'DR5', 'W5', 'DR2', 'DR1', 'DR2', '41-3', '16-5', '64-3', 'DR3', 'DR4', 'DR1', '74-5', 'DR5', 'DR4', 'DR1', '61-2', '41-8', 'DR4', '16-10', '67-5', '61-5', 'DR5', 'W7', 'DR5', '16-5', 'DR3', '64-3', '61-2', 'W2', 'WC', 'C7', '52-2', '74-7', 'W5', '16-2', 'DR4', '47-7', '61-2', 'W6', '46-4', '74-4', 'DR2', 'W7', 'DR7', '76-4', 'W2', 'DR4', '52-2', '65-6', '51-7', '17-4', '25-4', '71-4', '4C', '76-2', 'DR1', 'WS', 'S4', '72', 'DR3', '41-3', 'DR2', '52-3', '14-3', 'DR2', 'DR3', '16-4', '46-3', 'DR2', '25-3', '7C', 'DR2', 'W3', '64-3', '71', 'DR1', '27-8', '73-8', 'DR3', '72', 'DR1', 'W3', '46-3', '67-5', '7S', '61', '41-2', 'S7', 'DR2', '7S', 'DR2', '32-9', 'S7', '16-3', 'DR1', 'DR1', '7S', 'W2', '71-5']\n",
    "len(path)"
   ]
  },
  {
   "cell_type": "code",
   "execution_count": 205,
   "metadata": {},
   "outputs": [],
   "source": [
    "seed = \"9484.txt\""
   ]
  },
  {
   "cell_type": "code",
   "execution_count": 206,
   "metadata": {},
   "outputs": [],
   "source": [
    "with open(f'./bench/shootme/{seed}') as f:\n",
    "    ret = f.read()"
   ]
  },
  {
   "cell_type": "code",
   "execution_count": 210,
   "metadata": {},
   "outputs": [],
   "source": [
    "state, seq = state_with_moveseq(f'./bench/shootme/{seed}')"
   ]
  },
  {
   "cell_type": "code",
   "execution_count": 211,
   "metadata": {},
   "outputs": [
    {
     "data": {
      "text/plain": [
       "['DR1',\n",
       " 'W7',\n",
       " '47',\n",
       " 'F4',\n",
       " 'W4',\n",
       " 'DR5',\n",
       " 'W6',\n",
       " 'W4',\n",
       " '43-3',\n",
       " 'F4',\n",
       " '46',\n",
       " 'F4',\n",
       " 'DR2',\n",
       " 'W4',\n",
       " 'W3',\n",
       " 'WC',\n",
       " '21',\n",
       " 'F2',\n",
       " '32-5',\n",
       " 'F3',\n",
       " '53',\n",
       " 'F5',\n",
       " '52',\n",
       " 'F5',\n",
       " 'W5',\n",
       " 'WS',\n",
       " '5S',\n",
       " '31-2',\n",
       " 'F3',\n",
       " '37',\n",
       " '63-3',\n",
       " 'F6',\n",
       " '67',\n",
       " 'F6',\n",
       " 'NEW',\n",
       " 'DR1',\n",
       " 'W7',\n",
       " 'W4',\n",
       " '64',\n",
       " 'F6',\n",
       " '61',\n",
       " 'F6',\n",
       " '6H',\n",
       " 'F6',\n",
       " '4H',\n",
       " '5H',\n",
       " 'F5',\n",
       " '7H',\n",
       " '4S',\n",
       " '75-5',\n",
       " 'F7',\n",
       " '72',\n",
       " 'F7',\n",
       " '7C',\n",
       " 'F7',\n",
       " 'DR3',\n",
       " 'W2',\n",
       " 'WC',\n",
       " 'DR1',\n",
       " 'WS',\n",
       " '5S',\n",
       " '2C',\n",
       " '2H',\n",
       " '5H',\n",
       " '2S',\n",
       " '7S',\n",
       " 'F7',\n",
       " '2H',\n",
       " '27-5',\n",
       " '72-6',\n",
       " 'F7',\n",
       " '75',\n",
       " 'F7',\n",
       " '7D',\n",
       " 'WD',\n",
       " 'WD',\n",
       " '4D',\n",
       " '4C',\n",
       " 'WD',\n",
       " '5D',\n",
       " 'WS',\n",
       " 'W4',\n",
       " '53-4',\n",
       " 'F5',\n",
       " '5C',\n",
       " '3C',\n",
       " '3H',\n",
       " '2C',\n",
       " '3C',\n",
       " 'WC',\n",
       " '2H',\n",
       " '3H',\n",
       " '3C',\n",
       " 'W5',\n",
       " 'W4',\n",
       " 'WD',\n",
       " '1D',\n",
       " '1S',\n",
       " '6D',\n",
       " '1D',\n",
       " '2S',\n",
       " '1S',\n",
       " '2H',\n",
       " 'WD',\n",
       " '1D',\n",
       " '2C',\n",
       " '3H',\n",
       " '4S',\n",
       " '2H',\n",
       " '3S',\n",
       " '4D',\n",
       " '5C']"
      ]
     },
     "execution_count": 211,
     "metadata": {},
     "output_type": "execute_result"
    }
   ],
   "source": [
    "seq"
   ]
  },
  {
   "cell_type": "code",
   "execution_count": 212,
   "metadata": {},
   "outputs": [],
   "source": [
    "from tuplestate import *"
   ]
  },
  {
   "cell_type": "code",
   "execution_count": 214,
   "metadata": {},
   "outputs": [],
   "source": [
    "d = to_ui_state(state)\n",
    "d['moveSeq'] = seq"
   ]
  },
  {
   "cell_type": "code",
   "execution_count": 215,
   "metadata": {},
   "outputs": [
    {
     "data": {
      "text/plain": [
       "{'stock': ['4d',\n",
       "  '7h',\n",
       "  'ac',\n",
       "  '2s',\n",
       "  'as',\n",
       "  '4s',\n",
       "  'qh',\n",
       "  '8c',\n",
       "  '2d',\n",
       "  '3d',\n",
       "  '4c',\n",
       "  '3c',\n",
       "  '5d',\n",
       "  '8s',\n",
       "  'kd',\n",
       "  '10c',\n",
       "  'kc',\n",
       "  'qs',\n",
       "  '7d',\n",
       "  '4h',\n",
       "  '3s',\n",
       "  '8h',\n",
       "  '9h',\n",
       "  'jd'],\n",
       " 'waste': [],\n",
       " 'tableau': [['QD'],\n",
       "  ['qc', 'JS'],\n",
       "  ['6h', '10d', 'JH'],\n",
       "  ['5c', 'jc', '10s', '7C'],\n",
       "  ['6c', '10h', '3h', '6s', '9S'],\n",
       "  ['9d', 'ah', '8d', '2h', '5s', 'KS'],\n",
       "  ['ad', '6d', 'kh', '7s', '2c', '5h', '9C']],\n",
       " 'foundation': [[], [], [], []],\n",
       " 'moveSeq': ['DR1',\n",
       "  'W7',\n",
       "  '47',\n",
       "  'F4',\n",
       "  'W4',\n",
       "  'DR5',\n",
       "  'W6',\n",
       "  'W4',\n",
       "  '43-3',\n",
       "  'F4',\n",
       "  '46',\n",
       "  'F4',\n",
       "  'DR2',\n",
       "  'W4',\n",
       "  'W3',\n",
       "  'WC',\n",
       "  '21',\n",
       "  'F2',\n",
       "  '32-5',\n",
       "  'F3',\n",
       "  '53',\n",
       "  'F5',\n",
       "  '52',\n",
       "  'F5',\n",
       "  'W5',\n",
       "  'WS',\n",
       "  '5S',\n",
       "  '31-2',\n",
       "  'F3',\n",
       "  '37',\n",
       "  '63-3',\n",
       "  'F6',\n",
       "  '67',\n",
       "  'F6',\n",
       "  'NEW',\n",
       "  'DR1',\n",
       "  'W7',\n",
       "  'W4',\n",
       "  '64',\n",
       "  'F6',\n",
       "  '61',\n",
       "  'F6',\n",
       "  '6H',\n",
       "  'F6',\n",
       "  '4H',\n",
       "  '5H',\n",
       "  'F5',\n",
       "  '7H',\n",
       "  '4S',\n",
       "  '75-5',\n",
       "  'F7',\n",
       "  '72',\n",
       "  'F7',\n",
       "  '7C',\n",
       "  'F7',\n",
       "  'DR3',\n",
       "  'W2',\n",
       "  'WC',\n",
       "  'DR1',\n",
       "  'WS',\n",
       "  '5S',\n",
       "  '2C',\n",
       "  '2H',\n",
       "  '5H',\n",
       "  '2S',\n",
       "  '7S',\n",
       "  'F7',\n",
       "  '2H',\n",
       "  '27-5',\n",
       "  '72-6',\n",
       "  'F7',\n",
       "  '75',\n",
       "  'F7',\n",
       "  '7D',\n",
       "  'WD',\n",
       "  'WD',\n",
       "  '4D',\n",
       "  '4C',\n",
       "  'WD',\n",
       "  '5D',\n",
       "  'WS',\n",
       "  'W4',\n",
       "  '53-4',\n",
       "  'F5',\n",
       "  '5C',\n",
       "  '3C',\n",
       "  '3H',\n",
       "  '2C',\n",
       "  '3C',\n",
       "  'WC',\n",
       "  '2H',\n",
       "  '3H',\n",
       "  '3C',\n",
       "  'W5',\n",
       "  'W4',\n",
       "  'WD',\n",
       "  '1D',\n",
       "  '1S',\n",
       "  '6D',\n",
       "  '1D',\n",
       "  '2S',\n",
       "  '1S',\n",
       "  '2H',\n",
       "  'WD',\n",
       "  '1D',\n",
       "  '2C',\n",
       "  '3H',\n",
       "  '4S',\n",
       "  '2H',\n",
       "  '3S',\n",
       "  '4D',\n",
       "  '5C']}"
      ]
     },
     "execution_count": 215,
     "metadata": {},
     "output_type": "execute_result"
    }
   ],
   "source": [
    "d\n"
   ]
  },
  {
   "cell_type": "code",
   "execution_count": 207,
   "metadata": {},
   "outputs": [
    {
     "data": {
      "text/plain": [
       "{'solved': True,\n",
       " 'impossible': False,\n",
       " 'unknown': False,\n",
       " 'move_count': 118,\n",
       " 'time_ms': 60409888,\n",
       " 'result': 'Minimal solution in 118 moves. Took 60409888 ms.',\n",
       " 'moves': 'DR1 W7 47 F4 W4 DR5 W6 W4 43-3 F4 46 F4 DR2 W4 W3 WC 21 F2 32-5 F3 53 F5 52 F5 W5 WS 5S 31-2 F3 37 63-3 F6 67 F6 NEW DR1 W7 W4 64 F6 61 F6 6H F6 4H 5H F5 7H 4S 75-5 F7 72 F7 7C F7 DR3 W2 WC DR1 WS 5S 2C 2H 5H 2S 7S F7 2H 27-5 72-6 F7 75 F7 7D WD WD 4D 4C WD 5D WS W4 53-4 F5 5C 3C 3H 2C 3C WC 2H 3H 3C W5 W4 WD 1D 1S 6D 1D 2S 1S 2H WD 1D 2C 3H 4S 2H 3S 4D 5C ',\n",
       " 'deck': ' 0: \\n 1: QD \\n 2: JS -QC\\n 3: JH -TD-6H\\n 4: 7C -TS-JC-5C\\n 5: 9S -6S-3H-TH-6C\\n 6: KS -5S-2H-8D-AH-9D\\n 7: 9C -5H-2C-7S-KH-6D-AD\\n 8: JD 9H 8H 3S 4H 7D QS KC TC KD 8S 5D 3C 4C 3D 2D 8C QH 4S AS 2S AC 7H 4D \\n 9: \\n10: \\n11: \\n12: '}"
      ]
     },
     "execution_count": 207,
     "metadata": {},
     "output_type": "execute_result"
    }
   ],
   "source": [
    "parse_winnable(ret)"
   ]
  },
  {
   "cell_type": "code",
   "execution_count": 201,
   "metadata": {},
   "outputs": [
    {
     "name": "stdout",
     "output_type": "stream",
     "text": [
      "Stock: 4D 7H AC 2S AS 4S QH 8C 2D 3D 4C 3C 5D 8S KD TC KC QS 7D 4H 3S 8H 9H JD\n",
      "Waste: \n",
      "Fnd C: \n",
      "Fnd D: \n",
      "Fnd S: \n",
      "Fnd H: \n",
      "Tab 1: QD\n",
      "Tab 2: qc JS\n",
      "Tab 3: 6h td JH\n",
      "Tab 4: 5c jc ts 7C\n",
      "Tab 5: 6c th 3h 6s 9S\n",
      "Tab 6: 9d ah 8d 2h 5s KS\n",
      "Tab 7: ad 6d kh 7s 2c 5h 9C\n"
     ]
    }
   ],
   "source": [
    "state = filename_to_klonstate('./bench/shootme/9484.txt')\n",
    "print(to_pretty_string(state))"
   ]
  },
  {
   "cell_type": "code",
   "execution_count": 204,
   "metadata": {},
   "outputs": [
    {
     "name": "stdout",
     "output_type": "stream",
     "text": [
      "185\n",
      "Stock: \n",
      "Waste: JD 9H 8H 3S 4H 7D QS KC TC KD 8S 5D 3C 4C 3D 2D 8C QH 4S AS 2S AC 7H 4D\n",
      "Fnd C: \n",
      "Fnd D: \n",
      "Fnd S: \n",
      "Fnd H: \n",
      "Tab 1: QD JS\n",
      "Tab 2: QC\n",
      "Tab 3: 6h td JH\n",
      "Tab 4: 5c jc ts 7C\n",
      "Tab 5: 6c th 3h 6s 9S\n",
      "Tab 6: 9d ah 8d 2h 5s KS\n",
      "Tab 7: ad 6d kh 7s 2c 5h 9C\n"
     ]
    }
   ],
   "source": [
    "print(len(path))\n",
    "if len(path):\n",
    "    state = play_move(state, path.pop(0))\n",
    "    print(to_pretty_string(state))"
   ]
  }
 ],
 "metadata": {
  "kernelspec": {
   "display_name": "Python 3",
   "language": "python",
   "name": "python3"
  },
  "language_info": {
   "codemirror_mode": {
    "name": "ipython",
    "version": 3
   },
   "file_extension": ".py",
   "mimetype": "text/x-python",
   "name": "python",
   "nbconvert_exporter": "python",
   "pygments_lexer": "ipython3",
   "version": "3.6.9"
  }
 },
 "nbformat": 4,
 "nbformat_minor": 2
}
