{
 "cells": [
  {
   "cell_type": "code",
   "execution_count": 20,
   "metadata": {},
   "outputs": [],
   "source": [
    "import numpy as np\n",
    "from gamestate import *\n",
    "from benchmarking import *\n",
    "from vectorize import *\n",
    "from klon_tree import KlonTree\n",
    "import itertools"
   ]
  },
  {
   "cell_type": "code",
   "execution_count": 50,
   "metadata": {},
   "outputs": [],
   "source": [
    "all_seeds = clf_seeds(all_solutions)\n",
    "\n",
    "def seed_sequence():\n",
    "    seeds = sorted(list(all_seeds['Solved-Min'].union(all_seeds['Solved'])))\n",
    "    rand = np.random.RandomState(0)\n",
    "    rand.shuffle(seeds)\n",
    "    for s in seeds:\n",
    "        yield s"
   ]
  },
  {
   "cell_type": "code",
   "execution_count": 73,
   "metadata": {
    "scrolled": false
   },
   "outputs": [],
   "source": [
    "def state_best_action_vec(seed):\n",
    "    state, seq = state_with_moveseq(f\"./bench/shootme/{seed}\")\n",
    "    while len(seq) > 0:\n",
    "        action = seq.pop()\n",
    "        state_vec = state_to_vec(state)\n",
    "        action_vec = vectorize_legal_moves(set([action]))\n",
    "        yield state_vec, action_vec\n",
    "        state = play_move(state, action)"
   ]
  },
  {
   "cell_type": "code",
   "execution_count": 80,
   "metadata": {},
   "outputs": [],
   "source": [
    "# for s, bestmove in itertools.islice(state_best_action_vec(seed), 4):\n",
    "#     print(to_pretty_string(vec_to_state(s)))\n",
    "#     print('best move', all_moves[np.argmax(bestmove)])\n",
    "#     print()"
   ]
  },
  {
   "cell_type": "code",
   "execution_count": 78,
   "metadata": {},
   "outputs": [],
   "source": [
    "    import torch"
   ]
  },
  {
   "cell_type": "code",
   "execution_count": 79,
   "metadata": {},
   "outputs": [
    {
     "data": {
      "text/plain": [
       "torch.utils.data.dataloader.DataLoader"
      ]
     },
     "execution_count": 79,
     "metadata": {},
     "output_type": "execute_result"
    }
   ],
   "source": [
    "torch.utils.data.DataLoader"
   ]
  },
  {
   "cell_type": "code",
   "execution_count": 120,
   "metadata": {},
   "outputs": [
    {
     "name": "stdout",
     "output_type": "stream",
     "text": [
      "CPU times: user 8.75 s, sys: 610 ms, total: 9.36 s\n",
      "Wall time: 9.41 s\n"
     ]
    }
   ],
   "source": [
    "data = []\n",
    "for seed in itertools.islice(seed_sequence(), 100):\n",
    "    state_actions = state_best_action_vec(seed)\n",
    "    for s, a in state_actions:\n",
    "        if all_cards_faceup(vec_to_state(s)):\n",
    "            continue\n",
    "        data.append((s,a))\n",
    "        \n",
    "loader = torch.utils.data.DataLoader(data, batch_size=4)"
   ]
  },
  {
   "cell_type": "code",
   "execution_count": 113,
   "metadata": {},
   "outputs": [],
   "source": []
  }
 ],
 "metadata": {
  "kernelspec": {
   "display_name": "klonsolve",
   "language": "python",
   "name": "klonsolve"
  },
  "language_info": {
   "codemirror_mode": {
    "name": "ipython",
    "version": 3
   },
   "file_extension": ".py",
   "mimetype": "text/x-python",
   "name": "python",
   "nbconvert_exporter": "python",
   "pygments_lexer": "ipython3",
   "version": "3.6.9"
  }
 },
 "nbformat": 4,
 "nbformat_minor": 2
}
