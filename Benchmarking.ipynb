{
 "cells": [
  {
   "cell_type": "code",
   "execution_count": 24,
   "metadata": {},
   "outputs": [],
   "source": [
    "import re\n",
    "import os\n",
    "import time\n",
    "import random\n",
    "import multiprocessing\n",
    "from benchmarking import *"
   ]
  },
  {
   "cell_type": "code",
   "execution_count": 2,
   "metadata": {},
   "outputs": [],
   "source": [
    "cache = {}\n",
    "def shootme(seed):\n",
    "    if seed not in cache:\n",
    "        ret = run_shootme_seed(seed)\n",
    "        cache[seed] = ret\n",
    "    return cache[seed]"
   ]
  },
  {
   "cell_type": "code",
   "execution_count": 3,
   "metadata": {
    "scrolled": false
   },
   "outputs": [],
   "source": [
    "def summary(ret):\n",
    "    print('\\n'.join(ret.splitlines()[:16]))"
   ]
  },
  {
   "cell_type": "code",
   "execution_count": 4,
   "metadata": {},
   "outputs": [
    {
     "name": "stdout",
     "output_type": "stream",
     "text": [
      " 0: \n",
      " 1: 8H \n",
      " 2: 6C -3D\n",
      " 3: JS -JD-5S\n",
      " 4: 9S -7C-KD-2H\n",
      " 5: AC -2C-JC-8D-QH\n",
      " 6: 5C -9D-3S-2S-6S-4S\n",
      " 7: JH -9H-TS-4D-5D-6D-5H\n",
      " 8: 3H TD 2D AS 4H 6H AH 8S TH QD KH QS AD KS 7D 4C TC 7H 7S 3C 8C QC 9C KC \n",
      " 9: \n",
      "10: \n",
      "11: \n",
      "12: \n",
      "Minimum Moves Needed: 86\n",
      "\n",
      "Minimal solution in 116 moves. Took 5290955 ms.\n"
     ]
    }
   ],
   "source": [
    "summary(shootme(12))"
   ]
  },
  {
   "cell_type": "code",
   "execution_count": 5,
   "metadata": {},
   "outputs": [],
   "source": [
    "# got these results by trying seeds in the past\n",
    "impossible_seeds = [5, 8, 11, 17]\n",
    "indeterminate_seeds = []"
   ]
  },
  {
   "cell_type": "code",
   "execution_count": 6,
   "metadata": {},
   "outputs": [
    {
     "data": {
      "text/plain": [
       "[12]"
      ]
     },
     "execution_count": 6,
     "metadata": {},
     "output_type": "execute_result"
    }
   ],
   "source": [
    "sorted(cache.keys())"
   ]
  },
  {
   "cell_type": "code",
   "execution_count": 7,
   "metadata": {},
   "outputs": [],
   "source": [
    "impossible = shootme(5)\n",
    "winnable = shootme(1)"
   ]
  },
  {
   "cell_type": "code",
   "execution_count": 8,
   "metadata": {},
   "outputs": [],
   "source": [
    "took_time = re.compile(r'.* Took (\\d+) ms.$')\n",
    "win_result = re.compile(r'Minimal solution in (\\d+) moves. Took (\\d+) ms.')"
   ]
  },
  {
   "cell_type": "code",
   "execution_count": 9,
   "metadata": {},
   "outputs": [
    {
     "name": "stdout",
     "output_type": "stream",
     "text": [
      " 0: \n",
      " 1: 4D \n",
      " 2: 4C -3C\n",
      " 3: 6H -7D-9S\n",
      " 4: JD -2C-7S-AH\n",
      " 5: AS -TS-2H-6S-AD\n",
      " 6: 5C -JC-KS-2D-8H-4H\n",
      " 7: KD -6C-JH-5D-3S-4S-3H\n",
      " 8: 9D TC 2S QC KH 5S 9C AC QH QD 8S 6D 7C 9H JS QS 8C 5H TD 3D KC 7H 8D TH \n",
      " 9: \n",
      "10: \n",
      "11: \n",
      "12: \n"
     ]
    }
   ],
   "source": [
    "print('\\n'.join(winnable.splitlines()[:13]))"
   ]
  },
  {
   "cell_type": "code",
   "execution_count": 10,
   "metadata": {},
   "outputs": [
    {
     "data": {
      "text/plain": [
       "{'solved': True,\n",
       " 'impossible': False,\n",
       " 'move_count': 117,\n",
       " 'time_ms': 8547995,\n",
       " 'result': 'Minimal solution in 117 moves. Took 8547995 ms.',\n",
       " 'moves': '5S F5 DR1 WS 16 71 F7 DR5 W7 27 F2 63-2 F6 23 DR1 W2 W7 W6 DR1 NEW DR1 W1 DR2 W2 62-2 F6 W6 WC 54 F5 41-2 F4 4C F4 53 F5 34-5 F3 53 F5 5D 65-2 F6 6D F6 7D 46-6 F4 4H 6H 6C 7C 6D 6C 73 7C F7 W2 W6 W4 DR1 WC 62-4 F6 DR1 W4 W5 74 F7 7D F7 7S F7 7S F7 7H 6H 2S 3H 2H 3S 2S W1 WD 3D F3 DR1 WD WH 2H WC WS 1H 2C 3S DR1 WH WC WD 1S 2D 1D 2C 4H 5S 1C 2D 4S 5H 1D 2C 4H 5S ',\n",
       " 'deck': ' 0: \\n 1: 4D \\n 2: 4C -3C\\n 3: 6H -7D-9S\\n 4: JD -2C-7S-AH\\n 5: AS -TS-2H-6S-AD\\n 6: 5C -JC-KS-2D-8H-4H\\n 7: KD -6C-JH-5D-3S-4S-3H\\n 8: 9D TC 2S QC KH 5S 9C AC QH QD 8S 6D 7C 9H JS QS 8C 5H TD 3D KC 7H 8D TH \\n 9: \\n10: \\n11: \\n12: '}"
      ]
     },
     "execution_count": 10,
     "metadata": {},
     "output_type": "execute_result"
    }
   ],
   "source": [
    "def parse_winnable(ret):\n",
    "    lines = ret.splitlines()\n",
    "    solution_result = lines[15]\n",
    "    moveseq = lines[-2]\n",
    "    deck = '\\n'.join(lines[:13])\n",
    "    move_count, ms = map(int, win_result.match(solution_result).groups())\n",
    "    return {\n",
    "        'solved': True,\n",
    "        'impossible': False,\n",
    "        'move_count': move_count,\n",
    "        'time_ms': ms,\n",
    "        'result': solution_result,\n",
    "        'moves': moveseq,\n",
    "        'deck': deck,\n",
    "    }\n",
    "\n",
    "parse_winnable(winnable)"
   ]
  },
  {
   "cell_type": "code",
   "execution_count": 11,
   "metadata": {},
   "outputs": [
    {
     "data": {
      "text/plain": [
       "{'solved': False,\n",
       " 'impossible': True,\n",
       " 'time_ms': 297667,\n",
       " 'result': 'Impossible. Max cards in foundation 6 at 40 moves. Took 297667 ms.',\n",
       " 'deck': ' 0: \\n 1: 3D \\n 2: 9C -JH\\n 3: KS -9S-7D\\n 4: KC -6C-9H-5S\\n 5: 4D -QD-7S-4S-3C\\n 6: JD -5D-5H-AD-KH-4H\\n 7: 6D -AS-2D-2C-TC-5C-TH\\n 8: 4C QS 7H 3S TS 9D 8H JS 8D AC 7C 2H QC TD 6H AH JC 6S QH KD 2S 8C 3H 8S \\n 9: \\n10: \\n11: \\n12: '}"
      ]
     },
     "execution_count": 11,
     "metadata": {},
     "output_type": "execute_result"
    }
   ],
   "source": [
    "def parse_impossible(ret):\n",
    "    lines = ret.splitlines()\n",
    "    solution_result = lines[15]\n",
    "    moveseq = lines[-2]\n",
    "    deck = '\\n'.join(lines[:13])\n",
    "    ms = int(took_time.match(solution_result).groups()[0])\n",
    "    return {\n",
    "        'solved': False,\n",
    "        'impossible': True,\n",
    "        'time_ms': ms,\n",
    "        'result': solution_result,\n",
    "        'deck': deck,\n",
    "    }\n",
    "\n",
    "parse_impossible(impossible)"
   ]
  },
  {
   "cell_type": "code",
   "execution_count": 12,
   "metadata": {},
   "outputs": [],
   "source": [
    "def get_and_save_shootme_seed(seed):\n",
    "    ret = run_shootme_seed(seed)\n",
    "    with open(f'bench/shootme/{seed}.txt', 'w') as f:\n",
    "        f.write(ret)\n",
    "get_and_save_shootme_seed(12)"
   ]
  },
  {
   "cell_type": "code",
   "execution_count": 13,
   "metadata": {},
   "outputs": [
    {
     "name": "stderr",
     "output_type": "stream",
     "text": [
      "Process ForkPoolWorker-11:\n",
      "Process ForkPoolWorker-19:\n",
      "Process ForkPoolWorker-28:\n",
      "Process ForkPoolWorker-12:\n",
      "Process ForkPoolWorker-21:\n",
      "Process ForkPoolWorker-25:\n",
      "Process ForkPoolWorker-9:\n",
      "Process ForkPoolWorker-6:\n",
      "Process ForkPoolWorker-20:\n",
      "Process ForkPoolWorker-22:\n",
      "Process ForkPoolWorker-16:\n",
      "Process ForkPoolWorker-2:\n",
      "Process ForkPoolWorker-13:\n",
      "Process ForkPoolWorker-4:\n",
      "Process ForkPoolWorker-27:\n",
      "Process ForkPoolWorker-17:\n",
      "Process ForkPoolWorker-5:\n",
      "Traceback (most recent call last):\n",
      "Traceback (most recent call last):\n",
      "Process ForkPoolWorker-15:\n",
      "Traceback (most recent call last):\n",
      "  File \"/usr/lib/python3.6/multiprocessing/process.py\", line 258, in _bootstrap\n",
      "    self.run()\n",
      "Traceback (most recent call last):\n",
      "Traceback (most recent call last):\n",
      "Process ForkPoolWorker-14:\n",
      "Traceback (most recent call last):\n",
      "Traceback (most recent call last):\n",
      "  File \"/usr/lib/python3.6/multiprocessing/process.py\", line 258, in _bootstrap\n",
      "    self.run()\n",
      "  File \"/usr/lib/python3.6/multiprocessing/process.py\", line 258, in _bootstrap\n",
      "    self.run()\n",
      "Traceback (most recent call last):\n",
      "  File \"/usr/lib/python3.6/multiprocessing/process.py\", line 93, in run\n",
      "    self._target(*self._args, **self._kwargs)\n",
      "Traceback (most recent call last):\n",
      "Traceback (most recent call last):\n",
      "Traceback (most recent call last):\n",
      "  File \"/usr/lib/python3.6/multiprocessing/process.py\", line 93, in run\n",
      "    self._target(*self._args, **self._kwargs)\n",
      "  File \"/usr/lib/python3.6/multiprocessing/process.py\", line 93, in run\n",
      "    self._target(*self._args, **self._kwargs)\n",
      "  File \"/usr/lib/python3.6/multiprocessing/process.py\", line 258, in _bootstrap\n",
      "    self.run()\n",
      "Traceback (most recent call last):\n",
      "Traceback (most recent call last):\n",
      "Traceback (most recent call last):\n",
      "  File \"/usr/lib/python3.6/multiprocessing/process.py\", line 258, in _bootstrap\n",
      "    self.run()\n",
      "  File \"/usr/lib/python3.6/multiprocessing/process.py\", line 258, in _bootstrap\n",
      "    self.run()\n",
      "  File \"/usr/lib/python3.6/multiprocessing/process.py\", line 258, in _bootstrap\n",
      "    self.run()\n",
      "  File \"/usr/lib/python3.6/multiprocessing/pool.py\", line 119, in worker\n",
      "    result = (True, func(*args, **kwds))\n",
      "  File \"/usr/lib/python3.6/multiprocessing/pool.py\", line 119, in worker\n",
      "    result = (True, func(*args, **kwds))\n",
      "Traceback (most recent call last):\n",
      "  File \"/usr/lib/python3.6/multiprocessing/process.py\", line 258, in _bootstrap\n",
      "    self.run()\n",
      "  File \"/usr/lib/python3.6/multiprocessing/process.py\", line 258, in _bootstrap\n",
      "    self.run()\n",
      "  File \"/usr/lib/python3.6/multiprocessing/pool.py\", line 119, in worker\n",
      "    result = (True, func(*args, **kwds))\n",
      "Traceback (most recent call last):\n",
      "Traceback (most recent call last):\n",
      "  File \"/usr/lib/python3.6/multiprocessing/process.py\", line 258, in _bootstrap\n",
      "    self.run()\n",
      "  File \"/usr/lib/python3.6/multiprocessing/process.py\", line 258, in _bootstrap\n",
      "    self.run()\n",
      "Traceback (most recent call last):\n",
      "Process ForkPoolWorker-8:\n",
      "  File \"/usr/lib/python3.6/multiprocessing/process.py\", line 93, in run\n",
      "    self._target(*self._args, **self._kwargs)\n",
      "  File \"/usr/lib/python3.6/multiprocessing/process.py\", line 258, in _bootstrap\n",
      "    self.run()\n",
      "  File \"<ipython-input-12-49fadcedd944>\", line 2, in get_and_save_shootme_seed\n",
      "    ret = run_shootme_seed(seed)\n",
      "  File \"/usr/lib/python3.6/multiprocessing/process.py\", line 93, in run\n",
      "    self._target(*self._args, **self._kwargs)\n",
      "  File \"<ipython-input-12-49fadcedd944>\", line 2, in get_and_save_shootme_seed\n",
      "    ret = run_shootme_seed(seed)\n",
      "Process ForkPoolWorker-30:\n",
      "  File \"/usr/lib/python3.6/multiprocessing/process.py\", line 258, in _bootstrap\n",
      "    self.run()\n",
      "  File \"/usr/lib/python3.6/multiprocessing/process.py\", line 258, in _bootstrap\n",
      "    self.run()\n",
      "  File \"/usr/lib/python3.6/multiprocessing/process.py\", line 93, in run\n",
      "    self._target(*self._args, **self._kwargs)\n",
      "  File \"/usr/lib/python3.6/multiprocessing/process.py\", line 93, in run\n",
      "    self._target(*self._args, **self._kwargs)\n",
      "Traceback (most recent call last):\n",
      "  File \"/usr/lib/python3.6/multiprocessing/process.py\", line 93, in run\n",
      "    self._target(*self._args, **self._kwargs)\n",
      "  File \"<ipython-input-12-49fadcedd944>\", line 2, in get_and_save_shootme_seed\n",
      "    ret = run_shootme_seed(seed)\n",
      "  File \"/usr/lib/python3.6/multiprocessing/process.py\", line 93, in run\n",
      "    self._target(*self._args, **self._kwargs)\n",
      "  File \"/usr/lib/python3.6/multiprocessing/process.py\", line 258, in _bootstrap\n",
      "    self.run()\n",
      "  File \"/usr/lib/python3.6/multiprocessing/process.py\", line 258, in _bootstrap\n",
      "    self.run()\n",
      "Process ForkPoolWorker-1:\n",
      "  File \"/usr/lib/python3.6/multiprocessing/process.py\", line 93, in run\n",
      "    self._target(*self._args, **self._kwargs)\n",
      "Process ForkPoolWorker-26:\n",
      "  File \"/usr/lib/python3.6/multiprocessing/process.py\", line 258, in _bootstrap\n",
      "    self.run()\n",
      "  File \"/usr/lib/python3.6/multiprocessing/pool.py\", line 119, in worker\n",
      "    result = (True, func(*args, **kwds))\n",
      "  File \"/usr/lib/python3.6/multiprocessing/process.py\", line 258, in _bootstrap\n",
      "    self.run()\n",
      "  File \"/usr/lib/python3.6/multiprocessing/process.py\", line 93, in run\n",
      "    self._target(*self._args, **self._kwargs)\n",
      "Process ForkPoolWorker-24:\n",
      "  File \"/ada/projects/klonsolve/KlonSolve/benchmarking.py\", line 9, in run_shootme_seed\n",
      "    data = subprocess.run(cmd, stdout=subprocess.PIPE).stdout.decode(\"utf-8\")\n",
      "  File \"/ada/projects/klonsolve/KlonSolve/benchmarking.py\", line 9, in run_shootme_seed\n",
      "    data = subprocess.run(cmd, stdout=subprocess.PIPE).stdout.decode(\"utf-8\")\n",
      "  File \"/usr/lib/python3.6/multiprocessing/process.py\", line 93, in run\n",
      "    self._target(*self._args, **self._kwargs)\n",
      "  File \"/usr/lib/python3.6/multiprocessing/pool.py\", line 119, in worker\n",
      "    result = (True, func(*args, **kwds))\n",
      "  File \"/usr/lib/python3.6/multiprocessing/pool.py\", line 119, in worker\n",
      "    result = (True, func(*args, **kwds))\n",
      "  File \"/usr/lib/python3.6/multiprocessing/process.py\", line 93, in run\n",
      "    self._target(*self._args, **self._kwargs)\n",
      "  File \"/usr/lib/python3.6/multiprocessing/process.py\", line 93, in run\n",
      "    self._target(*self._args, **self._kwargs)\n",
      "  File \"/usr/lib/python3.6/multiprocessing/pool.py\", line 119, in worker\n",
      "    result = (True, func(*args, **kwds))\n",
      "  File \"/usr/lib/python3.6/multiprocessing/process.py\", line 258, in _bootstrap\n",
      "    self.run()\n",
      "Traceback (most recent call last):\n",
      "  File \"/ada/projects/klonsolve/KlonSolve/benchmarking.py\", line 9, in run_shootme_seed\n",
      "    data = subprocess.run(cmd, stdout=subprocess.PIPE).stdout.decode(\"utf-8\")\n",
      "  File \"/usr/lib/python3.6/multiprocessing/pool.py\", line 119, in worker\n",
      "    result = (True, func(*args, **kwds))\n",
      "  File \"/usr/lib/python3.6/multiprocessing/process.py\", line 93, in run\n",
      "    self._target(*self._args, **self._kwargs)\n",
      "  File \"/usr/lib/python3.6/multiprocessing/process.py\", line 93, in run\n",
      "    self._target(*self._args, **self._kwargs)\n",
      "  File \"/usr/lib/python3.6/multiprocessing/pool.py\", line 119, in worker\n",
      "    result = (True, func(*args, **kwds))\n",
      "  File \"/usr/lib/python3.6/multiprocessing/process.py\", line 93, in run\n",
      "    self._target(*self._args, **self._kwargs)\n",
      "  File \"/usr/lib/python3.6/multiprocessing/pool.py\", line 119, in worker\n",
      "    result = (True, func(*args, **kwds))\n",
      "Traceback (most recent call last):\n",
      "  File \"/usr/lib/python3.6/subprocess.py\", line 425, in run\n",
      "    stdout, stderr = process.communicate(input, timeout=timeout)\n",
      "  File \"<ipython-input-12-49fadcedd944>\", line 2, in get_and_save_shootme_seed\n",
      "    ret = run_shootme_seed(seed)\n",
      "  File \"/usr/lib/python3.6/multiprocessing/process.py\", line 93, in run\n",
      "    self._target(*self._args, **self._kwargs)\n",
      "  File \"/usr/lib/python3.6/multiprocessing/pool.py\", line 119, in worker\n",
      "    result = (True, func(*args, **kwds))\n",
      "  File \"/usr/lib/python3.6/subprocess.py\", line 425, in run\n",
      "    stdout, stderr = process.communicate(input, timeout=timeout)\n",
      "  File \"/usr/lib/python3.6/multiprocessing/pool.py\", line 119, in worker\n",
      "    result = (True, func(*args, **kwds))\n",
      "  File \"<ipython-input-12-49fadcedd944>\", line 2, in get_and_save_shootme_seed\n",
      "    ret = run_shootme_seed(seed)\n",
      "  File \"/usr/lib/python3.6/multiprocessing/process.py\", line 93, in run\n",
      "    self._target(*self._args, **self._kwargs)\n",
      "  File \"<ipython-input-12-49fadcedd944>\", line 2, in get_and_save_shootme_seed\n",
      "    ret = run_shootme_seed(seed)\n"
     ]
    },
    {
     "name": "stderr",
     "output_type": "stream",
     "text": [
      "Traceback (most recent call last):\n",
      "Traceback (most recent call last):\n",
      "  File \"<ipython-input-12-49fadcedd944>\", line 2, in get_and_save_shootme_seed\n",
      "    ret = run_shootme_seed(seed)\n",
      "  File \"/usr/lib/python3.6/multiprocessing/pool.py\", line 119, in worker\n",
      "    result = (True, func(*args, **kwds))\n",
      "  File \"/usr/lib/python3.6/multiprocessing/process.py\", line 258, in _bootstrap\n",
      "    self.run()\n",
      "  File \"/usr/lib/python3.6/multiprocessing/pool.py\", line 119, in worker\n",
      "    result = (True, func(*args, **kwds))\n",
      "  File \"/usr/lib/python3.6/multiprocessing/pool.py\", line 119, in worker\n",
      "    result = (True, func(*args, **kwds))\n",
      "  File \"/usr/lib/python3.6/subprocess.py\", line 425, in run\n",
      "    stdout, stderr = process.communicate(input, timeout=timeout)\n",
      "Process ForkPoolWorker-18:\n",
      "  File \"<ipython-input-12-49fadcedd944>\", line 2, in get_and_save_shootme_seed\n",
      "    ret = run_shootme_seed(seed)\n",
      "  File \"/usr/lib/python3.6/multiprocessing/pool.py\", line 119, in worker\n",
      "    result = (True, func(*args, **kwds))\n",
      "Process ForkPoolWorker-10:\n",
      "  File \"/usr/lib/python3.6/multiprocessing/pool.py\", line 119, in worker\n",
      "    result = (True, func(*args, **kwds))\n",
      "  File \"<ipython-input-12-49fadcedd944>\", line 2, in get_and_save_shootme_seed\n",
      "    ret = run_shootme_seed(seed)\n",
      "Traceback (most recent call last):\n",
      "  File \"/usr/lib/python3.6/subprocess.py\", line 850, in communicate\n",
      "    stdout = self.stdout.read()\n",
      "  File \"<ipython-input-12-49fadcedd944>\", line 2, in get_and_save_shootme_seed\n",
      "    ret = run_shootme_seed(seed)\n",
      "  File \"/ada/projects/klonsolve/KlonSolve/benchmarking.py\", line 9, in run_shootme_seed\n",
      "    data = subprocess.run(cmd, stdout=subprocess.PIPE).stdout.decode(\"utf-8\")\n",
      "  File \"/usr/lib/python3.6/multiprocessing/process.py\", line 258, in _bootstrap\n",
      "    self.run()\n",
      "  File \"/usr/lib/python3.6/multiprocessing/pool.py\", line 119, in worker\n",
      "    result = (True, func(*args, **kwds))\n",
      "  File \"/usr/lib/python3.6/subprocess.py\", line 850, in communicate\n",
      "    stdout = self.stdout.read()\n",
      "  File \"<ipython-input-12-49fadcedd944>\", line 2, in get_and_save_shootme_seed\n",
      "    ret = run_shootme_seed(seed)\n",
      "  File \"<ipython-input-12-49fadcedd944>\", line 2, in get_and_save_shootme_seed\n",
      "    ret = run_shootme_seed(seed)\n",
      "  File \"/usr/lib/python3.6/multiprocessing/pool.py\", line 119, in worker\n",
      "    result = (True, func(*args, **kwds))\n",
      "  File \"/ada/projects/klonsolve/KlonSolve/benchmarking.py\", line 9, in run_shootme_seed\n",
      "    data = subprocess.run(cmd, stdout=subprocess.PIPE).stdout.decode(\"utf-8\")\n",
      "Process ForkPoolWorker-29:\n",
      "  File \"/ada/projects/klonsolve/KlonSolve/benchmarking.py\", line 9, in run_shootme_seed\n",
      "    data = subprocess.run(cmd, stdout=subprocess.PIPE).stdout.decode(\"utf-8\")\n",
      "  File \"/usr/lib/python3.6/multiprocessing/process.py\", line 258, in _bootstrap\n",
      "    self.run()\n",
      "  File \"/usr/lib/python3.6/multiprocessing/process.py\", line 258, in _bootstrap\n",
      "    self.run()\n",
      "  File \"/usr/lib/python3.6/multiprocessing/process.py\", line 93, in run\n",
      "    self._target(*self._args, **self._kwargs)\n",
      "  File \"<ipython-input-12-49fadcedd944>\", line 2, in get_and_save_shootme_seed\n",
      "    ret = run_shootme_seed(seed)\n",
      "  File \"<ipython-input-12-49fadcedd944>\", line 2, in get_and_save_shootme_seed\n",
      "    ret = run_shootme_seed(seed)\n",
      "  File \"/ada/projects/klonsolve/KlonSolve/benchmarking.py\", line 9, in run_shootme_seed\n",
      "    data = subprocess.run(cmd, stdout=subprocess.PIPE).stdout.decode(\"utf-8\")\n",
      "  File \"/usr/lib/python3.6/subprocess.py\", line 850, in communicate\n",
      "    stdout = self.stdout.read()\n",
      "  File \"/ada/projects/klonsolve/KlonSolve/benchmarking.py\", line 9, in run_shootme_seed\n",
      "    data = subprocess.run(cmd, stdout=subprocess.PIPE).stdout.decode(\"utf-8\")\n",
      "  File \"<ipython-input-12-49fadcedd944>\", line 2, in get_and_save_shootme_seed\n",
      "    ret = run_shootme_seed(seed)\n",
      "  File \"<ipython-input-12-49fadcedd944>\", line 2, in get_and_save_shootme_seed\n",
      "    ret = run_shootme_seed(seed)\n",
      "  File \"<ipython-input-12-49fadcedd944>\", line 2, in get_and_save_shootme_seed\n",
      "    ret = run_shootme_seed(seed)\n",
      "  File \"/ada/projects/klonsolve/KlonSolve/benchmarking.py\", line 9, in run_shootme_seed\n",
      "    data = subprocess.run(cmd, stdout=subprocess.PIPE).stdout.decode(\"utf-8\")\n",
      "KeyboardInterrupt\n",
      "  File \"/ada/projects/klonsolve/KlonSolve/benchmarking.py\", line 9, in run_shootme_seed\n",
      "    data = subprocess.run(cmd, stdout=subprocess.PIPE).stdout.decode(\"utf-8\")\n",
      "Process ForkPoolWorker-23:\n",
      "  File \"/usr/lib/python3.6/multiprocessing/process.py\", line 258, in _bootstrap\n",
      "    self.run()\n",
      "  File \"/usr/lib/python3.6/subprocess.py\", line 425, in run\n",
      "    stdout, stderr = process.communicate(input, timeout=timeout)\n",
      "Traceback (most recent call last):\n",
      "  File \"<ipython-input-12-49fadcedd944>\", line 2, in get_and_save_shootme_seed\n",
      "    ret = run_shootme_seed(seed)\n",
      "  File \"/usr/lib/python3.6/multiprocessing/process.py\", line 93, in run\n",
      "    self._target(*self._args, **self._kwargs)\n",
      "KeyboardInterrupt\n",
      "  File \"<ipython-input-12-49fadcedd944>\", line 2, in get_and_save_shootme_seed\n",
      "    ret = run_shootme_seed(seed)\n",
      "  File \"/ada/projects/klonsolve/KlonSolve/benchmarking.py\", line 9, in run_shootme_seed\n",
      "    data = subprocess.run(cmd, stdout=subprocess.PIPE).stdout.decode(\"utf-8\")\n",
      "  File \"/ada/projects/klonsolve/KlonSolve/benchmarking.py\", line 9, in run_shootme_seed\n",
      "    data = subprocess.run(cmd, stdout=subprocess.PIPE).stdout.decode(\"utf-8\")\n",
      "  File \"/usr/lib/python3.6/subprocess.py\", line 425, in run\n",
      "    stdout, stderr = process.communicate(input, timeout=timeout)\n",
      "  File \"/usr/lib/python3.6/subprocess.py\", line 425, in run\n",
      "    stdout, stderr = process.communicate(input, timeout=timeout)\n",
      "Traceback (most recent call last):\n",
      "  File \"/usr/lib/python3.6/multiprocessing/process.py\", line 93, in run\n",
      "    self._target(*self._args, **self._kwargs)\n",
      "  File \"/usr/lib/python3.6/multiprocessing/pool.py\", line 119, in worker\n",
      "    result = (True, func(*args, **kwds))\n",
      "  File \"/ada/projects/klonsolve/KlonSolve/benchmarking.py\", line 9, in run_shootme_seed\n",
      "    data = subprocess.run(cmd, stdout=subprocess.PIPE).stdout.decode(\"utf-8\")\n",
      "  File \"/usr/lib/python3.6/multiprocessing/process.py\", line 93, in run\n",
      "    self._target(*self._args, **self._kwargs)\n",
      "  File \"/ada/projects/klonsolve/KlonSolve/benchmarking.py\", line 9, in run_shootme_seed\n",
      "    data = subprocess.run(cmd, stdout=subprocess.PIPE).stdout.decode(\"utf-8\")\n",
      "  File \"/usr/lib/python3.6/subprocess.py\", line 425, in run\n",
      "    stdout, stderr = process.communicate(input, timeout=timeout)\n",
      "  File \"/usr/lib/python3.6/subprocess.py\", line 425, in run\n",
      "    stdout, stderr = process.communicate(input, timeout=timeout)\n",
      "KeyboardInterrupt\n",
      "  File \"/ada/projects/klonsolve/KlonSolve/benchmarking.py\", line 9, in run_shootme_seed\n",
      "    data = subprocess.run(cmd, stdout=subprocess.PIPE).stdout.decode(\"utf-8\")\n",
      "  File \"/ada/projects/klonsolve/KlonSolve/benchmarking.py\", line 9, in run_shootme_seed\n",
      "    data = subprocess.run(cmd, stdout=subprocess.PIPE).stdout.decode(\"utf-8\")\n",
      "  File \"/ada/projects/klonsolve/KlonSolve/benchmarking.py\", line 9, in run_shootme_seed\n",
      "    data = subprocess.run(cmd, stdout=subprocess.PIPE).stdout.decode(\"utf-8\")\n",
      "  File \"/usr/lib/python3.6/subprocess.py\", line 425, in run\n",
      "    stdout, stderr = process.communicate(input, timeout=timeout)\n",
      "  File \"/usr/lib/python3.6/subprocess.py\", line 425, in run\n",
      "    stdout, stderr = process.communicate(input, timeout=timeout)\n",
      "Traceback (most recent call last):\n",
      "  File \"/usr/lib/python3.6/subprocess.py\", line 850, in communicate\n",
      "    stdout = self.stdout.read()\n",
      "  File \"/usr/lib/python3.6/multiprocessing/process.py\", line 93, in run\n",
      "    self._target(*self._args, **self._kwargs)\n",
      "  File \"/ada/projects/klonsolve/KlonSolve/benchmarking.py\", line 9, in run_shootme_seed\n",
      "    data = subprocess.run(cmd, stdout=subprocess.PIPE).stdout.decode(\"utf-8\")\n",
      "  File \"/usr/lib/python3.6/multiprocessing/process.py\", line 258, in _bootstrap\n",
      "    self.run()\n",
      "  File \"/ada/projects/klonsolve/KlonSolve/benchmarking.py\", line 9, in run_shootme_seed\n",
      "    data = subprocess.run(cmd, stdout=subprocess.PIPE).stdout.decode(\"utf-8\")\n",
      "  File \"/usr/lib/python3.6/subprocess.py\", line 425, in run\n",
      "    stdout, stderr = process.communicate(input, timeout=timeout)\n",
      "  File \"/usr/lib/python3.6/multiprocessing/pool.py\", line 119, in worker\n",
      "    result = (True, func(*args, **kwds))\n"
     ]
    },
    {
     "name": "stderr",
     "output_type": "stream",
     "text": [
      "  File \"/usr/lib/python3.6/subprocess.py\", line 425, in run\n",
      "    stdout, stderr = process.communicate(input, timeout=timeout)\n",
      "  File \"/usr/lib/python3.6/subprocess.py\", line 850, in communicate\n",
      "    stdout = self.stdout.read()\n",
      "  File \"/usr/lib/python3.6/subprocess.py\", line 850, in communicate\n",
      "    stdout = self.stdout.read()\n",
      "  File \"/usr/lib/python3.6/multiprocessing/pool.py\", line 119, in worker\n",
      "    result = (True, func(*args, **kwds))\n",
      "  File \"<ipython-input-12-49fadcedd944>\", line 2, in get_and_save_shootme_seed\n",
      "    ret = run_shootme_seed(seed)\n",
      "  File \"/usr/lib/python3.6/multiprocessing/process.py\", line 258, in _bootstrap\n",
      "    self.run()\n",
      "Traceback (most recent call last):\n",
      "  File \"/usr/lib/python3.6/multiprocessing/pool.py\", line 119, in worker\n",
      "    result = (True, func(*args, **kwds))\n",
      "  File \"/usr/lib/python3.6/subprocess.py\", line 425, in run\n",
      "    stdout, stderr = process.communicate(input, timeout=timeout)\n",
      "  File \"/usr/lib/python3.6/subprocess.py\", line 425, in run\n",
      "    stdout, stderr = process.communicate(input, timeout=timeout)\n",
      "  File \"/usr/lib/python3.6/subprocess.py\", line 850, in communicate\n",
      "    stdout = self.stdout.read()\n",
      "  File \"/usr/lib/python3.6/subprocess.py\", line 850, in communicate\n",
      "    stdout = self.stdout.read()\n",
      "  File \"/usr/lib/python3.6/subprocess.py\", line 425, in run\n",
      "    stdout, stderr = process.communicate(input, timeout=timeout)\n",
      "  File \"/usr/lib/python3.6/subprocess.py\", line 425, in run\n",
      "    stdout, stderr = process.communicate(input, timeout=timeout)\n",
      "  File \"/usr/lib/python3.6/subprocess.py\", line 850, in communicate\n",
      "    stdout = self.stdout.read()\n",
      "  File \"/usr/lib/python3.6/subprocess.py\", line 850, in communicate\n",
      "    stdout = self.stdout.read()\n",
      "  File \"/usr/lib/python3.6/subprocess.py\", line 425, in run\n",
      "    stdout, stderr = process.communicate(input, timeout=timeout)\n",
      "  File \"/usr/lib/python3.6/multiprocessing/process.py\", line 258, in _bootstrap\n",
      "    self.run()\n",
      "KeyboardInterrupt\n",
      "  File \"/usr/lib/python3.6/subprocess.py\", line 425, in run\n",
      "    stdout, stderr = process.communicate(input, timeout=timeout)\n",
      "  File \"/usr/lib/python3.6/multiprocessing/pool.py\", line 119, in worker\n",
      "    result = (True, func(*args, **kwds))\n",
      "  File \"/usr/lib/python3.6/subprocess.py\", line 425, in run\n",
      "    stdout, stderr = process.communicate(input, timeout=timeout)\n",
      "  File \"/usr/lib/python3.6/multiprocessing/process.py\", line 93, in run\n",
      "    self._target(*self._args, **self._kwargs)\n",
      "  File \"/usr/lib/python3.6/subprocess.py\", line 850, in communicate\n",
      "    stdout = self.stdout.read()\n",
      "  File \"<ipython-input-12-49fadcedd944>\", line 2, in get_and_save_shootme_seed\n",
      "    ret = run_shootme_seed(seed)\n",
      "KeyboardInterrupt\n",
      "  File \"/ada/projects/klonsolve/KlonSolve/benchmarking.py\", line 9, in run_shootme_seed\n",
      "    data = subprocess.run(cmd, stdout=subprocess.PIPE).stdout.decode(\"utf-8\")\n",
      "  File \"/usr/lib/python3.6/subprocess.py\", line 850, in communicate\n",
      "    stdout = self.stdout.read()\n",
      "  File \"<ipython-input-12-49fadcedd944>\", line 2, in get_and_save_shootme_seed\n",
      "    ret = run_shootme_seed(seed)\n",
      "KeyboardInterrupt\n",
      "  File \"/usr/lib/python3.6/multiprocessing/process.py\", line 93, in run\n",
      "    self._target(*self._args, **self._kwargs)\n",
      "Process ForkPoolWorker-7:\n",
      "  File \"/usr/lib/python3.6/multiprocessing/process.py\", line 258, in _bootstrap\n",
      "    self.run()\n",
      "  File \"<ipython-input-12-49fadcedd944>\", line 2, in get_and_save_shootme_seed\n",
      "    ret = run_shootme_seed(seed)\n",
      "  File \"/usr/lib/python3.6/subprocess.py\", line 850, in communicate\n",
      "    stdout = self.stdout.read()\n",
      "  File \"/usr/lib/python3.6/subprocess.py\", line 850, in communicate\n",
      "    stdout = self.stdout.read()\n",
      "KeyboardInterrupt\n",
      "KeyboardInterrupt\n",
      "  File \"/usr/lib/python3.6/subprocess.py\", line 850, in communicate\n",
      "    stdout = self.stdout.read()\n",
      "  File \"/usr/lib/python3.6/subprocess.py\", line 850, in communicate\n",
      "    stdout = self.stdout.read()\n",
      "KeyboardInterrupt\n",
      "KeyboardInterrupt\n",
      "  File \"/usr/lib/python3.6/subprocess.py\", line 850, in communicate\n",
      "    stdout = self.stdout.read()\n",
      "  File \"/usr/lib/python3.6/subprocess.py\", line 850, in communicate\n",
      "    stdout = self.stdout.read()\n",
      "  File \"/usr/lib/python3.6/multiprocessing/process.py\", line 93, in run\n",
      "    self._target(*self._args, **self._kwargs)\n",
      "  File \"<ipython-input-12-49fadcedd944>\", line 2, in get_and_save_shootme_seed\n",
      "    ret = run_shootme_seed(seed)\n",
      "KeyboardInterrupt\n",
      "  File \"/usr/lib/python3.6/subprocess.py\", line 850, in communicate\n",
      "    stdout = self.stdout.read()\n",
      "  File \"/usr/lib/python3.6/multiprocessing/pool.py\", line 119, in worker\n",
      "    result = (True, func(*args, **kwds))\n",
      "  File \"/ada/projects/klonsolve/KlonSolve/benchmarking.py\", line 9, in run_shootme_seed\n",
      "    data = subprocess.run(cmd, stdout=subprocess.PIPE).stdout.decode(\"utf-8\")\n",
      "  File \"/usr/lib/python3.6/subprocess.py\", line 425, in run\n",
      "    stdout, stderr = process.communicate(input, timeout=timeout)\n",
      "  File \"/ada/projects/klonsolve/KlonSolve/benchmarking.py\", line 9, in run_shootme_seed\n",
      "    data = subprocess.run(cmd, stdout=subprocess.PIPE).stdout.decode(\"utf-8\")\n",
      "KeyboardInterrupt\n",
      "  File \"/usr/lib/python3.6/multiprocessing/pool.py\", line 119, in worker\n",
      "    result = (True, func(*args, **kwds))\n",
      "  File \"/usr/lib/python3.6/multiprocessing/process.py\", line 93, in run\n",
      "    self._target(*self._args, **self._kwargs)\n",
      "  File \"/ada/projects/klonsolve/KlonSolve/benchmarking.py\", line 9, in run_shootme_seed\n",
      "    data = subprocess.run(cmd, stdout=subprocess.PIPE).stdout.decode(\"utf-8\")\n",
      "KeyboardInterrupt\n",
      "KeyboardInterrupt\n",
      "KeyboardInterrupt\n",
      "KeyboardInterrupt\n",
      "KeyboardInterrupt\n",
      "KeyboardInterrupt\n",
      "  File \"/usr/lib/python3.6/multiprocessing/pool.py\", line 119, in worker\n",
      "    result = (True, func(*args, **kwds))\n",
      "  File \"/ada/projects/klonsolve/KlonSolve/benchmarking.py\", line 9, in run_shootme_seed\n",
      "    data = subprocess.run(cmd, stdout=subprocess.PIPE).stdout.decode(\"utf-8\")\n",
      "  File \"<ipython-input-12-49fadcedd944>\", line 2, in get_and_save_shootme_seed\n",
      "    ret = run_shootme_seed(seed)\n",
      "  File \"/usr/lib/python3.6/subprocess.py\", line 425, in run\n",
      "    stdout, stderr = process.communicate(input, timeout=timeout)\n",
      "KeyboardInterrupt\n",
      "  File \"/usr/lib/python3.6/subprocess.py\", line 850, in communicate\n",
      "    stdout = self.stdout.read()\n",
      "  File \"/usr/lib/python3.6/subprocess.py\", line 425, in run\n",
      "    stdout, stderr = process.communicate(input, timeout=timeout)\n",
      "Traceback (most recent call last):\n",
      "  File \"<ipython-input-12-49fadcedd944>\", line 2, in get_and_save_shootme_seed\n",
      "    ret = run_shootme_seed(seed)\n",
      "  File \"/usr/lib/python3.6/subprocess.py\", line 425, in run\n",
      "    stdout, stderr = process.communicate(input, timeout=timeout)\n",
      "  File \"/usr/lib/python3.6/multiprocessing/pool.py\", line 119, in worker\n",
      "    result = (True, func(*args, **kwds))\n",
      "  File \"<ipython-input-12-49fadcedd944>\", line 2, in get_and_save_shootme_seed\n",
      "    ret = run_shootme_seed(seed)\n",
      "  File \"/ada/projects/klonsolve/KlonSolve/benchmarking.py\", line 9, in run_shootme_seed\n",
      "    data = subprocess.run(cmd, stdout=subprocess.PIPE).stdout.decode(\"utf-8\")\n",
      "  File \"/usr/lib/python3.6/subprocess.py\", line 850, in communicate\n",
      "    stdout = self.stdout.read()\n",
      "  File \"/usr/lib/python3.6/subprocess.py\", line 850, in communicate\n",
      "    stdout = self.stdout.read()\n",
      "KeyboardInterrupt\n",
      "  File \"/usr/lib/python3.6/multiprocessing/process.py\", line 258, in _bootstrap\n",
      "    self.run()\n",
      "  File \"/usr/lib/python3.6/subprocess.py\", line 425, in run\n",
      "    stdout, stderr = process.communicate(input, timeout=timeout)\n",
      "  File \"/ada/projects/klonsolve/KlonSolve/benchmarking.py\", line 9, in run_shootme_seed\n",
      "    data = subprocess.run(cmd, stdout=subprocess.PIPE).stdout.decode(\"utf-8\")\n",
      "  File \"/usr/lib/python3.6/subprocess.py\", line 850, in communicate\n",
      "    stdout = self.stdout.read()\n",
      "Process ForkPoolWorker-3:\n",
      "  File \"<ipython-input-12-49fadcedd944>\", line 2, in get_and_save_shootme_seed\n",
      "    ret = run_shootme_seed(seed)\n",
      "KeyboardInterrupt\n",
      "  File \"/ada/projects/klonsolve/KlonSolve/benchmarking.py\", line 9, in run_shootme_seed\n",
      "    data = subprocess.run(cmd, stdout=subprocess.PIPE).stdout.decode(\"utf-8\")\n",
      "  File \"/usr/lib/python3.6/subprocess.py\", line 425, in run\n",
      "    stdout, stderr = process.communicate(input, timeout=timeout)\n",
      "  File \"/usr/lib/python3.6/multiprocessing/process.py\", line 93, in run\n",
      "    self._target(*self._args, **self._kwargs)\n"
     ]
    },
    {
     "name": "stderr",
     "output_type": "stream",
     "text": [
      "KeyboardInterrupt\n",
      "  File \"/usr/lib/python3.6/subprocess.py\", line 850, in communicate\n",
      "    stdout = self.stdout.read()\n",
      "  File \"/usr/lib/python3.6/subprocess.py\", line 425, in run\n",
      "    stdout, stderr = process.communicate(input, timeout=timeout)\n",
      "KeyboardInterrupt\n",
      "  File \"/ada/projects/klonsolve/KlonSolve/benchmarking.py\", line 9, in run_shootme_seed\n",
      "    data = subprocess.run(cmd, stdout=subprocess.PIPE).stdout.decode(\"utf-8\")\n",
      "  File \"/usr/lib/python3.6/multiprocessing/pool.py\", line 119, in worker\n",
      "    result = (True, func(*args, **kwds))\n",
      "  File \"/usr/lib/python3.6/subprocess.py\", line 425, in run\n",
      "    stdout, stderr = process.communicate(input, timeout=timeout)\n",
      "  File \"/usr/lib/python3.6/subprocess.py\", line 850, in communicate\n",
      "    stdout = self.stdout.read()\n",
      "KeyboardInterrupt\n",
      "  File \"/usr/lib/python3.6/subprocess.py\", line 850, in communicate\n",
      "    stdout = self.stdout.read()\n",
      "  File \"/usr/lib/python3.6/subprocess.py\", line 425, in run\n",
      "    stdout, stderr = process.communicate(input, timeout=timeout)\n",
      "  File \"<ipython-input-12-49fadcedd944>\", line 2, in get_and_save_shootme_seed\n",
      "    ret = run_shootme_seed(seed)\n",
      "  File \"/usr/lib/python3.6/subprocess.py\", line 850, in communicate\n",
      "    stdout = self.stdout.read()\n",
      "KeyboardInterrupt\n",
      "Traceback (most recent call last):\n",
      "KeyboardInterrupt\n",
      "  File \"/ada/projects/klonsolve/KlonSolve/benchmarking.py\", line 9, in run_shootme_seed\n",
      "    data = subprocess.run(cmd, stdout=subprocess.PIPE).stdout.decode(\"utf-8\")\n",
      "  File \"/usr/lib/python3.6/subprocess.py\", line 850, in communicate\n",
      "    stdout = self.stdout.read()\n",
      "KeyboardInterrupt\n",
      "  File \"/usr/lib/python3.6/multiprocessing/process.py\", line 258, in _bootstrap\n",
      "    self.run()\n",
      "KeyboardInterrupt\n",
      "  File \"/usr/lib/python3.6/subprocess.py\", line 425, in run\n",
      "    stdout, stderr = process.communicate(input, timeout=timeout)\n",
      "  File \"/usr/lib/python3.6/multiprocessing/process.py\", line 93, in run\n",
      "    self._target(*self._args, **self._kwargs)\n",
      "  File \"/usr/lib/python3.6/subprocess.py\", line 850, in communicate\n",
      "    stdout = self.stdout.read()\n",
      "  File \"/usr/lib/python3.6/multiprocessing/pool.py\", line 119, in worker\n",
      "    result = (True, func(*args, **kwds))\n",
      "KeyboardInterrupt\n",
      "  File \"<ipython-input-12-49fadcedd944>\", line 2, in get_and_save_shootme_seed\n",
      "    ret = run_shootme_seed(seed)\n",
      "  File \"/ada/projects/klonsolve/KlonSolve/benchmarking.py\", line 9, in run_shootme_seed\n",
      "    data = subprocess.run(cmd, stdout=subprocess.PIPE).stdout.decode(\"utf-8\")\n",
      "  File \"/usr/lib/python3.6/subprocess.py\", line 425, in run\n",
      "    stdout, stderr = process.communicate(input, timeout=timeout)\n",
      "  File \"/usr/lib/python3.6/subprocess.py\", line 850, in communicate\n",
      "    stdout = self.stdout.read()\n",
      "KeyboardInterrupt\n"
     ]
    }
   ],
   "source": [
    "p = multiprocessing.Pool(30)"
   ]
  },
  {
   "cell_type": "code",
   "execution_count": 89,
   "metadata": {},
   "outputs": [
    {
     "data": {
      "text/plain": [
       "3896"
      ]
     },
     "execution_count": 89,
     "metadata": {},
     "output_type": "execute_result"
    }
   ],
   "source": [
    "collected = {int(f[:-4]) for f in os.listdir('./bench/shootme/')}\n",
    "len(collected)"
   ]
  },
  {
   "cell_type": "code",
   "execution_count": 83,
   "metadata": {},
   "outputs": [],
   "source": [
    "desired = set(range(998, 10000+1))"
   ]
  },
  {
   "cell_type": "code",
   "execution_count": 71,
   "metadata": {},
   "outputs": [],
   "source": [
    "remaining = desired-collected"
   ]
  },
  {
   "cell_type": "code",
   "execution_count": 72,
   "metadata": {},
   "outputs": [
    {
     "data": {
      "text/plain": [
       "8321"
      ]
     },
     "execution_count": 72,
     "metadata": {},
     "output_type": "execute_result"
    }
   ],
   "source": [
    "len(remaining)"
   ]
  },
  {
   "cell_type": "code",
   "execution_count": 25,
   "metadata": {},
   "outputs": [
    {
     "name": "stdout",
     "output_type": "stream",
     "text": [
      "collecting 9001 solutions\n",
      "done in 0.00019550323486328125 seconds\n"
     ]
    }
   ],
   "source": [
    "# print(f\"collecting {len(remaining)} solutions\")\n",
    "# ret = p.imap_unordered(get_and_save_shootme_seed, remaining)"
   ]
  },
  {
   "cell_type": "code",
   "execution_count": 78,
   "metadata": {},
   "outputs": [],
   "source": [
    "def solve_state(ret):\n",
    "    lines = ret.splitlines()\n",
    "    result = lines[15]\n",
    "    if result.startswith('Minimal solution'):\n",
    "        return \"Solved-Min\"\n",
    "    elif result.startswith(\"Solved\"):\n",
    "        return \"Solved\"\n",
    "    elif result.startswith('Impossible'):\n",
    "        return \"Impossible\"\n",
    "    elif result.startswith('Unknown'):\n",
    "        return \"Unknown\""
   ]
  },
  {
   "cell_type": "code",
   "execution_count": 129,
   "metadata": {
    "scrolled": false
   },
   "outputs": [
    {
     "name": "stdout",
     "output_type": "stream",
     "text": [
      "Solved-Min      3,506\n",
      "Impossible        551\n",
      "Unknown           226\n",
      "Solved            122\n",
      "---------------------\n",
      "Total           4,405\n"
     ]
    }
   ],
   "source": [
    "from collections import defaultdict\n",
    "\n",
    "results = defaultdict(set)\n",
    "\n",
    "all_solutions = os.listdir('./bench/shootme/')\n",
    "seeds = list(map(lambda fname: int(fname[:-4]), all_solutions))\n",
    "\n",
    "for seed in sorted(seeds):\n",
    "    with open(f\"bench/shootme/{seed}.txt\") as f:\n",
    "        ret = f.read()\n",
    "        result = solve_state(ret)\n",
    "        results[result].add(seed)\n",
    "        \n",
    "for res, seeds in results.items():\n",
    "    print(f\"{res:12} {len(seeds):8,}\")\n",
    "total = sum(len(s) for s in results.values())\n",
    "print(('-'*12) + '-' + ('-'*8))\n",
    "print(f\"{'Total':12} {total:8,}\")"
   ]
  },
  {
   "cell_type": "code",
   "execution_count": 135,
   "metadata": {},
   "outputs": [
    {
     "data": {
      "text/plain": [
       "1337"
      ]
     },
     "execution_count": 135,
     "metadata": {},
     "output_type": "execute_result"
    }
   ],
   "source": [
    "solvedmin = random.sample(results[\"Solved-Min\"], k=1)[0]\n",
    "solvedmin"
   ]
  },
  {
   "cell_type": "code",
   "execution_count": 156,
   "metadata": {},
   "outputs": [
    {
     "name": "stdout",
     "output_type": "stream",
     "text": [
      "Solved-Min 47\n",
      "Impossible 5\n",
      "Unknown 96\n",
      "Solved 49\n"
     ]
    }
   ],
   "source": [
    "lownums = set(range(100))\n",
    "for res, seeds in results.items():\n",
    "    print(res, random.sample(seeds & lownums,k=1)[0])"
   ]
  },
  {
   "cell_type": "code",
   "execution_count": 136,
   "metadata": {},
   "outputs": [],
   "source": [
    "def load_ret_from_seed(seed):\n",
    "    with open(f\"bench/shootme/{seed}.txt\") as f:\n",
    "        ret = f.read()\n",
    "        return ret"
   ]
  },
  {
   "cell_type": "code",
   "execution_count": 139,
   "metadata": {
    "scrolled": false
   },
   "outputs": [
    {
     "data": {
      "text/plain": [
       "{'solved': True,\n",
       " 'impossible': False,\n",
       " 'move_count': 111,\n",
       " 'time_ms': 1141354,\n",
       " 'result': 'Minimal solution in 111 moves. Took 1141354 ms.',\n",
       " 'moves': '23 F2 62 F6 25-2 62 F6 6S F6 54-3 F5 5S F5 64 F6 DR2 W5 W6 DR5 W5 WC 34-2 F3 35 F3 W3 32-2 43-7 F4 4H F4 DR1 W6 NEW DR2 WD 4D F4 7D F7 4D 71 F7 DR2 W5 WH WD WH W7 W4 WD 67-3 F6 6C 54-5 F5 5C F5 7C W5 WH 7H W2 WH DR2 WC WS 7C WC 7D 7C F7 75 F7 7S F7 7S F7 WS 3S WS WH 3D 4H 3S 4C 5H 7D 2C 3H 4D 5S 2D 3C 4S 5H 1C 2S 3H 4D 1H 2D 3C 4S ',\n",
       " 'deck': ' 0: \\n 1: KH \\n 2: 7S -JC\\n 3: 8D -9C-QS\\n 4: KC -AH-2D-4D\\n 5: QH -2S-QD-3C-JH\\n 6: TH -KD-AS-9S-6C-2C\\n 7: 3D -QC-8C-9H-4S-5S-9D\\n 8: 6H TC 4H TS 5H JS 6D AD KS 7D 3H 5D 2H 8H 7H 8S 6S 7C JD AC TD 3S 5C 4C \\n 9: \\n10: \\n11: \\n12: '}"
      ]
     },
     "execution_count": 139,
     "metadata": {},
     "output_type": "execute_result"
    }
   ],
   "source": [
    "ret = load_ret_from_seed(solvedmin)\n",
    "parse_winnable(ret)"
   ]
  },
  {
   "cell_type": "code",
   "execution_count": 140,
   "metadata": {},
   "outputs": [
    {
     "data": {
      "text/plain": [
       "{'tableau piles': [['KH'],\n",
       "  ['jc', '7S'],\n",
       "  ['qs', '9c', '8D'],\n",
       "  ['4d', '2d', 'ah', 'KC'],\n",
       "  ['jh', '3c', 'qd', '2s', 'QH'],\n",
       "  ['2c', '6c', '9s', 'as', 'kd', '10H'],\n",
       "  ['9d', '5s', '4s', '9h', '8c', 'qc', '3D']],\n",
       " 'stock': ['4C',\n",
       "  '5C',\n",
       "  '3S',\n",
       "  '10D',\n",
       "  'AC',\n",
       "  'JD',\n",
       "  '7C',\n",
       "  '6S',\n",
       "  '8S',\n",
       "  '7H',\n",
       "  '8H',\n",
       "  '2H',\n",
       "  '5D',\n",
       "  '3H',\n",
       "  '7D',\n",
       "  'KS',\n",
       "  'AD',\n",
       "  '6D',\n",
       "  'JS',\n",
       "  '5H',\n",
       "  '10S',\n",
       "  '4H',\n",
       "  '10C',\n",
       "  '6H']}"
      ]
     },
     "execution_count": 140,
     "metadata": {},
     "output_type": "execute_result"
    }
   ],
   "source": [
    "convert_shootme_to_solvitaire_json(ret)"
   ]
  },
  {
   "cell_type": "code",
   "execution_count": null,
   "metadata": {},
   "outputs": [],
   "source": []
  }
 ],
 "metadata": {
  "kernelspec": {
   "display_name": "Python 3",
   "language": "python",
   "name": "python3"
  },
  "language_info": {
   "codemirror_mode": {
    "name": "ipython",
    "version": 3
   },
   "file_extension": ".py",
   "mimetype": "text/x-python",
   "name": "python",
   "nbconvert_exporter": "python",
   "pygments_lexer": "ipython3",
   "version": "3.6.8"
  }
 },
 "nbformat": 4,
 "nbformat_minor": 2
}
