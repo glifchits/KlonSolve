{
 "cells": [
  {
   "cell_type": "code",
   "execution_count": 1,
   "metadata": {},
   "outputs": [],
   "source": [
    "from tuplestate import init_from_solvitaire, to_dict, pprint_st\n",
    "from benchmarking import *\n",
    "from solver import solve"
   ]
  },
  {
   "cell_type": "code",
   "execution_count": 2,
   "metadata": {},
   "outputs": [],
   "source": [
    "with open('./bench/47-solvedmin.txt') as f:\n",
    "    ret = f.read()"
   ]
  },
  {
   "cell_type": "code",
   "execution_count": 3,
   "metadata": {},
   "outputs": [],
   "source": [
    "def get_state(ret):\n",
    "    deck_json = convert_shootme_to_solvitaire_json(ret)\n",
    "    return init_from_solvitaire(deck_json)"
   ]
  },
  {
   "cell_type": "code",
   "execution_count": 4,
   "metadata": {},
   "outputs": [],
   "source": [
    "def prepare_ui_state(ret):\n",
    "    parsed = parse_winnable(ret)\n",
    "    game_state = to_dict(get_state(ret))\n",
    "    \n",
    "    def card(c):\n",
    "        ''' UI uses 10 instead of T '''\n",
    "        return c.replace('t', '10').replace('T', '10')\n",
    "    \n",
    "    return {\n",
    "        'stock': [card(c).lower() for c in game_state['stock']],\n",
    "        'tableau': [\n",
    "            [card(c) for c in tab] \n",
    "            for tab in game_state['tableau']\n",
    "        ],\n",
    "        'waste': game_state['waste'],\n",
    "        'foundation': game_state['foundation'],\n",
    "        'moveSeq': parsed['moves'].strip().split(' ')\n",
    "    }"
   ]
  },
  {
   "cell_type": "code",
   "execution_count": 5,
   "metadata": {
    "scrolled": false
   },
   "outputs": [
    {
     "name": "stdout",
     "output_type": "stream",
     "text": [
      "{'stock': ['4d', 'ah', 'ac', '9d', '8c', '8h', '6s', '3s', '5d', '4s', 'jd', '2c', '4h', 'ks', '6h', 'jh', '6d', '7s', '3c', 'kc', 'jc', '3d', '2d', '3h'], 'tableau': [['7H'], ['10s', '9H'], ['ad', 'qs', 'AS'], ['kd', '6c', '5s', 'JS'], ['7d', '8s', '5c', '2h', '10D'], ['8d', 'qd', '9s', '4c', 'qh', '2S'], ['qc', 'kh', '10c', '10h', '5h', '7c', '9C']], 'waste': [], 'foundation': [[], [], [], []], 'moveSeq': ['3S', 'F3', '6S', 'F6', 'DR3', 'W3', 'DR3', 'W1', 'WS', 'W1', 'WS', '46', 'F4', 'DR2', 'W4', 'WH', 'WC', '56', 'F5', '5H', 'F5', '45', '4S', 'F4', '14', '1S', '41-2', 'F4', '34-2', 'F3', '3D', 'NEW', 'DR2', 'W5', 'W3', '63-3', 'F6', 'DR2', 'WC', '5C', 'DR2', 'NEW', 'DR1', 'W6', 'WD', '6D', 'WH', '5D', '6C', 'F6', '5C', 'F5', '1D', 'DR1', 'WD', 'WS', 'DR1', 'WH', '5S', 'F5', '6S', 'F6', '5D', '1C', '73', 'F7', '7C', 'F7', '7H', 'F7', 'W5', 'WH', '1H', 'DR1', 'WC', 'WH', '3C', '2H', 'F2', '7H', 'F7', '7C', 'F7', '4H', '2S', '65', 'F6', '6D', 'DR1', 'WD', '3D', '3S', 'WD', 'WC', '3H', '4S', '5D', '7H', 'F7', '7C', '3C', '4D', '5S']}\n"
     ]
    }
   ],
   "source": [
    "print(prepare_ui_state(ret))"
   ]
  },
  {
   "cell_type": "code",
   "execution_count": 6,
   "metadata": {},
   "outputs": [
    {
     "data": {
      "text/plain": [
       "()"
      ]
     },
     "execution_count": 6,
     "metadata": {},
     "output_type": "execute_result"
    }
   ],
   "source": [
    "solution = solve(get_state(ret))\n",
    "solution"
   ]
  }
 ],
 "metadata": {
  "kernelspec": {
   "display_name": "Python 3",
   "language": "python",
   "name": "python3"
  },
  "language_info": {
   "codemirror_mode": {
    "name": "ipython",
    "version": 3
   },
   "file_extension": ".py",
   "mimetype": "text/x-python",
   "name": "python",
   "nbconvert_exporter": "python",
   "pygments_lexer": "ipython3",
   "version": "3.7.1"
  }
 },
 "nbformat": 4,
 "nbformat_minor": 2
}
