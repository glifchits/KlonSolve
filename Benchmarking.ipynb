{
 "cells": [
  {
   "cell_type": "code",
   "execution_count": 1,
   "metadata": {},
   "outputs": [],
   "source": [
    "import re\n",
    "from benchmarking import *"
   ]
  },
  {
   "cell_type": "code",
   "execution_count": 2,
   "metadata": {},
   "outputs": [],
   "source": [
    "cache = {}\n",
    "def shootme(seed):\n",
    "    if seed not in cache:\n",
    "        ret = run_shootme_seed(seed)\n",
    "        cache[seed] = ret\n",
    "    return cache[seed]"
   ]
  },
  {
   "cell_type": "code",
   "execution_count": 3,
   "metadata": {
    "scrolled": false
   },
   "outputs": [],
   "source": [
    "def summary(ret):\n",
    "    print('\\n'.join(ret.splitlines()[:16]))"
   ]
  },
  {
   "cell_type": "code",
   "execution_count": 4,
   "metadata": {},
   "outputs": [
    {
     "name": "stdout",
     "output_type": "stream",
     "text": [
      " 0: \n",
      " 1: 8H \n",
      " 2: 6C -3D\n",
      " 3: JS -JD-5S\n",
      " 4: 9S -7C-KD-2H\n",
      " 5: AC -2C-JC-8D-QH\n",
      " 6: 5C -9D-3S-2S-6S-4S\n",
      " 7: JH -9H-TS-4D-5D-6D-5H\n",
      " 8: 3H TD 2D AS 4H 6H AH 8S TH QD KH QS AD KS 7D 4C TC 7H 7S 3C 8C QC 9C KC \n",
      " 9: \n",
      "10: \n",
      "11: \n",
      "12: \n",
      "Minimum Moves Needed: 86\n",
      "\n",
      "Minimal solution in 116 moves. Took 5221604 ms.\n"
     ]
    }
   ],
   "source": [
    "summary(shootme(12))"
   ]
  },
  {
   "cell_type": "code",
   "execution_count": 5,
   "metadata": {},
   "outputs": [],
   "source": [
    "# got these results by trying seeds in the past\n",
    "impossible_seeds = [5, 8, 11]\n",
    "indeterminate_seeds = []"
   ]
  },
  {
   "cell_type": "code",
   "execution_count": 6,
   "metadata": {},
   "outputs": [
    {
     "data": {
      "text/plain": [
       "[12]"
      ]
     },
     "execution_count": 6,
     "metadata": {},
     "output_type": "execute_result"
    }
   ],
   "source": [
    "sorted(cache.keys())"
   ]
  },
  {
   "cell_type": "code",
   "execution_count": 7,
   "metadata": {},
   "outputs": [],
   "source": [
    "impossible = shootme(5)\n",
    "winnable = shootme(1)"
   ]
  },
  {
   "cell_type": "code",
   "execution_count": 8,
   "metadata": {},
   "outputs": [],
   "source": [
    "took_time = re.compile(r'.* Took (\\d+) ms.$')\n",
    "win_result = re.compile(r'Minimal solution in (\\d+) moves. Took (\\d+) ms.')"
   ]
  },
  {
   "cell_type": "code",
   "execution_count": 9,
   "metadata": {},
   "outputs": [
    {
     "name": "stdout",
     "output_type": "stream",
     "text": [
      " 0: \n",
      " 1: 4D \n",
      " 2: 4C -3C\n",
      " 3: 6H -7D-9S\n",
      " 4: JD -2C-7S-AH\n",
      " 5: AS -TS-2H-6S-AD\n",
      " 6: 5C -JC-KS-2D-8H-4H\n",
      " 7: KD -6C-JH-5D-3S-4S-3H\n",
      " 8: 9D TC 2S QC KH 5S 9C AC QH QD 8S 6D 7C 9H JS QS 8C 5H TD 3D KC 7H 8D TH \n",
      " 9: \n",
      "10: \n",
      "11: \n",
      "12: \n"
     ]
    }
   ],
   "source": [
    "print('\\n'.join(winnable.splitlines()[:13]))"
   ]
  },
  {
   "cell_type": "code",
   "execution_count": 10,
   "metadata": {},
   "outputs": [
    {
     "data": {
      "text/plain": [
       "{'solved': True,\n",
       " 'impossible': False,\n",
       " 'move_count': 117,\n",
       " 'time_ms': 9115068,\n",
       " 'result': 'Minimal solution in 117 moves. Took 9115068 ms.',\n",
       " 'moves': '5S F5 DR1 WS 16 71 F7 DR5 W7 27 F2 63-2 F6 23 DR1 W2 W7 W6 DR1 NEW DR1 W1 DR2 W2 62-2 F6 W6 WC 54 F5 41-2 F4 4C F4 53 F5 34-5 F3 53 F5 5D 65-2 F6 6D F6 7D 46-6 F4 4H 6H 6C 7C 6D 6C 73 7C F7 W2 W6 W4 DR1 WC 62-4 F6 DR1 W4 W5 74 F7 7D F7 7S F7 7S F7 7H 6H 2S 3H 2H 3S 2S W1 WD 3D F3 DR1 WD WH 2H WC WS 1H 2C 3S DR1 WH WC WD 1S 2D 1D 2C 4H 5S 1C 2D 4S 5H 1D 2C 4H 5S ',\n",
       " 'deck': ' 0: \\n 1: 4D \\n 2: 4C -3C\\n 3: 6H -7D-9S\\n 4: JD -2C-7S-AH\\n 5: AS -TS-2H-6S-AD\\n 6: 5C -JC-KS-2D-8H-4H\\n 7: KD -6C-JH-5D-3S-4S-3H\\n 8: 9D TC 2S QC KH 5S 9C AC QH QD 8S 6D 7C 9H JS QS 8C 5H TD 3D KC 7H 8D TH \\n 9: \\n10: \\n11: \\n12: '}"
      ]
     },
     "execution_count": 10,
     "metadata": {},
     "output_type": "execute_result"
    }
   ],
   "source": [
    "def parse_winnable(ret):\n",
    "    lines = ret.splitlines()\n",
    "    solution_result = lines[15]\n",
    "    moveseq = lines[-2]\n",
    "    deck = '\\n'.join(lines[:13])\n",
    "    move_count, ms = map(int, win_result.match(solution_result).groups())\n",
    "    return {\n",
    "        'solved': True,\n",
    "        'impossible': False,\n",
    "        'move_count': move_count,\n",
    "        'time_ms': ms,\n",
    "        'result': solution_result,\n",
    "        'moves': moveseq,\n",
    "        'deck': deck,\n",
    "    }\n",
    "\n",
    "parse_winnable(winnable)"
   ]
  },
  {
   "cell_type": "code",
   "execution_count": 11,
   "metadata": {},
   "outputs": [
    {
     "data": {
      "text/plain": [
       "{'solved': False,\n",
       " 'impossible': True,\n",
       " 'time_ms': 225038,\n",
       " 'result': 'Impossible. Max cards in foundation 6 at 40 moves. Took 225038 ms.',\n",
       " 'deck': ' 0: \\n 1: 3D \\n 2: 9C -JH\\n 3: KS -9S-7D\\n 4: KC -6C-9H-5S\\n 5: 4D -QD-7S-4S-3C\\n 6: JD -5D-5H-AD-KH-4H\\n 7: 6D -AS-2D-2C-TC-5C-TH\\n 8: 4C QS 7H 3S TS 9D 8H JS 8D AC 7C 2H QC TD 6H AH JC 6S QH KD 2S 8C 3H 8S \\n 9: \\n10: \\n11: \\n12: '}"
      ]
     },
     "execution_count": 11,
     "metadata": {},
     "output_type": "execute_result"
    }
   ],
   "source": [
    "def parse_impossible(ret):\n",
    "    lines = ret.splitlines()\n",
    "    solution_result = lines[15]\n",
    "    moveseq = lines[-2]\n",
    "    deck = '\\n'.join(lines[:13])\n",
    "    ms = int(took_time.match(solution_result).groups()[0])\n",
    "    return {\n",
    "        'solved': False,\n",
    "        'impossible': True,\n",
    "        'time_ms': ms,\n",
    "        'result': solution_result,\n",
    "        'deck': deck,\n",
    "    }\n",
    "\n",
    "parse_impossible(impossible)"
   ]
  }
 ],
 "metadata": {
  "kernelspec": {
   "display_name": "Python 3",
   "language": "python",
   "name": "python3"
  },
  "language_info": {
   "codemirror_mode": {
    "name": "ipython",
    "version": 3
   },
   "file_extension": ".py",
   "mimetype": "text/x-python",
   "name": "python",
   "nbconvert_exporter": "python",
   "pygments_lexer": "ipython3",
   "version": "3.7.1"
  }
 },
 "nbformat": 4,
 "nbformat_minor": 2
}
