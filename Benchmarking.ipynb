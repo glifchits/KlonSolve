{
 "cells": [
  {
   "cell_type": "code",
   "execution_count": 1,
   "metadata": {},
   "outputs": [],
   "source": [
    "import os\n",
    "import time\n",
    "import random\n",
    "import numpy as np\n",
    "import pandas as pd\n",
    "import multiprocessing\n",
    "from datetime import datetime\n",
    "from itertools import islice\n",
    "from collections import defaultdict, namedtuple\n",
    "from tuplestate import init_from_solvitaire, to_dict, pprint_st\n",
    "from benchmarking import *\n",
    "from solver import solve"
   ]
  },
  {
   "cell_type": "code",
   "execution_count": 2,
   "metadata": {},
   "outputs": [],
   "source": [
    "def get_state(ret):\n",
    "    deck_json = convert_shootme_to_solvitaire_json(ret)\n",
    "    return init_from_solvitaire(deck_json)\n",
    "\n",
    "\n",
    "def prepare_ui_state(ret):\n",
    "    parsed = parse_winnable(ret)\n",
    "    game_state = to_dict(get_state(ret))\n",
    "    \n",
    "    def card(c):\n",
    "        ''' UI uses 10 instead of T '''\n",
    "        return c.replace('t', '10').replace('T', '10')\n",
    "    \n",
    "    return {\n",
    "        'stock': [card(c).lower() for c in game_state['stock']],\n",
    "        'tableau': [\n",
    "            [card(c) for c in tab] \n",
    "            for tab in game_state['tableau']\n",
    "        ],\n",
    "        'waste': game_state['waste'],\n",
    "        'foundation': game_state['foundation'],\n",
    "        'moveSeq': parsed['moves'].strip().split(' ')\n",
    "    }"
   ]
  },
  {
   "cell_type": "markdown",
   "metadata": {},
   "source": [
    "## Read benchmark output"
   ]
  },
  {
   "cell_type": "code",
   "execution_count": 3,
   "metadata": {},
   "outputs": [
    {
     "name": "stdout",
     "output_type": "stream",
     "text": [
      "Solved-Min      7,876\n",
      "Impossible      1,282\n",
      "Unknown           522\n",
      "Solved            320\n",
      "---------------------\n",
      "Total          10,000\n"
     ]
    }
   ],
   "source": [
    "results = defaultdict(set)\n",
    "\n",
    "all_solutions = os.listdir('./bench/shootme/')\n",
    "seeds = list(map(lambda fname: int(fname[:-4]), all_solutions))\n",
    "\n",
    "def solve_state(ret):\n",
    "    lines = ret.splitlines()\n",
    "    result = lines[15]\n",
    "    if result.startswith('Minimal solution'):\n",
    "        return \"Solved-Min\"\n",
    "    elif result.startswith(\"Solved\"):\n",
    "        return \"Solved\"\n",
    "    elif result.startswith('Impossible'):\n",
    "        return \"Impossible\"\n",
    "    elif result.startswith('Unknown'):\n",
    "        return \"Unknown\"\n",
    "\n",
    "for seed in sorted(seeds):\n",
    "    with open(f\"bench/shootme/{seed}.txt\") as f:\n",
    "        ret = f.read()\n",
    "        result = solve_state(ret)\n",
    "        results[result].add(seed)\n",
    "    \n",
    "seed_class = {}\n",
    "for cls in results.keys():\n",
    "    seeds_cls = results[cls]\n",
    "    for seed in seeds_cls:\n",
    "        seed_class[seed] = cls\n",
    "        \n",
    "for res, seeds in results.items():\n",
    "    print(f\"{res:12} {len(seeds):8,}\")\n",
    "total = sum(len(s) for s in results.values())\n",
    "print(('-'*12) + '-' + ('-'*8))\n",
    "print(f\"{'Total':12} {total:8,}\")"
   ]
  },
  {
   "cell_type": "markdown",
   "metadata": {},
   "source": [
    "## Generate suites"
   ]
  },
  {
   "cell_type": "code",
   "execution_count": 4,
   "metadata": {},
   "outputs": [],
   "source": [
    "# seeds = np.fromiter(seed_class.keys(), dtype=np.int16)\n",
    "# rand = np.random.RandomState(0)\n",
    "\n",
    "# def get_suites(size=10, max=30):\n",
    "#     rand.shuffle(seeds)\n",
    "#     start = 0\n",
    "#     suites = 0\n",
    "#     while suites < max:\n",
    "#         end = start + size\n",
    "#         yield list(map(int, seeds[start:end]))\n",
    "#         start = end\n",
    "#         suites += 1\n",
    "\n",
    "# size = 100\n",
    "# for i, suite in enumerate(get_suites()):\n",
    "#     with open(f'./bench/suites/{size}/suite_{i:0>4}.txt', 'w') as f:\n",
    "#         out = ' '.join(map(str,suite))\n",
    "#         f.write(out)"
   ]
  },
  {
   "cell_type": "markdown",
   "metadata": {},
   "source": [
    "## Run suites"
   ]
  },
  {
   "cell_type": "code",
   "execution_count": 5,
   "metadata": {},
   "outputs": [],
   "source": [
    "def map_seeds_to_states(seed_seq):\n",
    "    for seed in seed_seq:\n",
    "        with open(f\"bench/shootme/{seed}.txt\") as f:\n",
    "            ret = f.read()\n",
    "            state = get_state(ret)\n",
    "            yield seed, state\n",
    "\n",
    "def get_seeds(fname):\n",
    "    with open(fname) as f:\n",
    "        return map(int, f.read().strip().split(' '))\n",
    "    \n",
    "    \n",
    "def get_suite_states(fname):\n",
    "    return list(map_seeds_to_states(get_seeds(fname)))\n",
    "\n",
    "\n",
    "def get_suite_files(size):\n",
    "    pref = f'./bench/suites/{size}/'\n",
    "    ls = sorted(os.listdir(pref))\n",
    "    if len(ls) == 0:\n",
    "        raise Exception(f\"no suite files in {pref}\")\n",
    "    return [os.path.join(pref, f) for f in ls]"
   ]
  },
  {
   "cell_type": "code",
   "execution_count": 6,
   "metadata": {},
   "outputs": [],
   "source": [
    "Result = namedtuple('Result', \n",
    "    ['seed', 'time', \n",
    "     'solved', 'visited', 'msg',\n",
    "     'seq', 'seqlen', \n",
    "     'datetime', 'shootme']\n",
    ")\n",
    "\n",
    "def run_solver(seedstate):\n",
    "    seed, state = seedstate\n",
    "    print(f\"starting seed {seed}\")\n",
    "    start = time.time()\n",
    "    sol = solve(state, max_states=200_000)\n",
    "    seq = None\n",
    "    seqlen = -1\n",
    "    if sol.solved:\n",
    "        seq = \" \".join(sol.moveseq)\n",
    "        seqlen = len(seq)\n",
    "    end = time.time()\n",
    "    elapsed = end-start\n",
    "    shootme = seed_class[seed]\n",
    "    now = datetime.now().isoformat()\n",
    "    print(f\"done solving {seed} after {elapsed:.1f}\")\n",
    "    return Result(\n",
    "        seed=seed, time=elapsed,\n",
    "        solved=sol.solved,\n",
    "        visited=sol.visited,\n",
    "        msg=sol.msg,\n",
    "        seq=seq, seqlen=seqlen, \n",
    "        datetime=now, shootme=shootme\n",
    "    )"
   ]
  },
  {
   "cell_type": "code",
   "execution_count": 7,
   "metadata": {},
   "outputs": [],
   "source": [
    "def timestr():\n",
    "    now = datetime.now()\n",
    "    return now.strftime(\"%Y%m%d-%H%M%S\")\n",
    "\n",
    "def save_results(results, suite_file):\n",
    "    df = pd.DataFrame(results)\n",
    "    df.to_csv(f\"./bench/results/{suite_file}-{timestr()}.csv\")\n"
   ]
  },
  {
   "cell_type": "code",
   "execution_count": 10,
   "metadata": {},
   "outputs": [],
   "source": [
    "with multiprocessing.Pool() as pool:\n",
    "    for suite_file in get_suite_files(size=10):\n",
    "        print(f\"starting {suite_file}\")\n",
    "        states = get_suite_states(suite_file)\n",
    "        ret = pool.map(run_solver, states)\n",
    "        _, fname = os.path.split(suite_file)\n",
    "        fname, _ = os.path.splitext(fname)\n",
    "        save_results(ret, fname)\n",
    "        print(f'done {suite_file}')"
   ]
  }
 ],
 "metadata": {
  "kernelspec": {
   "display_name": "klonsolve",
   "language": "python",
   "name": "klonsolve"
  },
  "language_info": {
   "codemirror_mode": {
    "name": "ipython",
    "version": 3
   },
   "file_extension": ".py",
   "mimetype": "text/x-python",
   "name": "python",
   "nbconvert_exporter": "python",
   "pygments_lexer": "ipython3",
   "version": "3.6.8"
  }
 },
 "nbformat": 4,
 "nbformat_minor": 2
}
