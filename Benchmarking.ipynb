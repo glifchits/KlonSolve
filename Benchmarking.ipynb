{
 "cells": [
  {
   "cell_type": "code",
   "execution_count": 1,
   "metadata": {},
   "outputs": [],
   "source": [
    "import os\n",
    "import time\n",
    "import random\n",
    "from datetime import datetime\n",
    "from itertools import islice\n",
    "from collections import defaultdict, namedtuple\n",
    "from tuplestate import init_from_solvitaire, to_dict, pprint_st\n",
    "from benchmarking import *\n",
    "from solver import solve"
   ]
  },
  {
   "cell_type": "code",
   "execution_count": 2,
   "metadata": {},
   "outputs": [],
   "source": [
    "def get_state(ret):\n",
    "    deck_json = convert_shootme_to_solvitaire_json(ret)\n",
    "    return init_from_solvitaire(deck_json)\n",
    "\n",
    "\n",
    "def prepare_ui_state(ret):\n",
    "    parsed = parse_winnable(ret)\n",
    "    game_state = to_dict(get_state(ret))\n",
    "    \n",
    "    def card(c):\n",
    "        ''' UI uses 10 instead of T '''\n",
    "        return c.replace('t', '10').replace('T', '10')\n",
    "    \n",
    "    return {\n",
    "        'stock': [card(c).lower() for c in game_state['stock']],\n",
    "        'tableau': [\n",
    "            [card(c) for c in tab] \n",
    "            for tab in game_state['tableau']\n",
    "        ],\n",
    "        'waste': game_state['waste'],\n",
    "        'foundation': game_state['foundation'],\n",
    "        'moveSeq': parsed['moves'].strip().split(' ')\n",
    "    }"
   ]
  },
  {
   "cell_type": "code",
   "execution_count": 3,
   "metadata": {},
   "outputs": [
    {
     "name": "stdout",
     "output_type": "stream",
     "text": [
      "Solved-Min      7,876\n",
      "Impossible      1,282\n",
      "Unknown           522\n",
      "Solved            320\n",
      "---------------------\n",
      "Total          10,000\n"
     ]
    }
   ],
   "source": [
    "results = defaultdict(set)\n",
    "\n",
    "all_solutions = os.listdir('./bench/shootme/')\n",
    "seeds = list(map(lambda fname: int(fname[:-4]), all_solutions))\n",
    "\n",
    "def solve_state(ret):\n",
    "    lines = ret.splitlines()\n",
    "    result = lines[15]\n",
    "    if result.startswith('Minimal solution'):\n",
    "        return \"Solved-Min\"\n",
    "    elif result.startswith(\"Solved\"):\n",
    "        return \"Solved\"\n",
    "    elif result.startswith('Impossible'):\n",
    "        return \"Impossible\"\n",
    "    elif result.startswith('Unknown'):\n",
    "        return \"Unknown\"\n",
    "\n",
    "for seed in sorted(seeds):\n",
    "    with open(f\"bench/shootme/{seed}.txt\") as f:\n",
    "        ret = f.read()\n",
    "        result = solve_state(ret)\n",
    "        results[result].add(seed)\n",
    "        \n",
    "for res, seeds in results.items():\n",
    "    print(f\"{res:12} {len(seeds):8,}\")\n",
    "total = sum(len(s) for s in results.values())\n",
    "print(('-'*12) + '-' + ('-'*8))\n",
    "print(f\"{'Total':12} {total:8,}\")"
   ]
  },
  {
   "cell_type": "code",
   "execution_count": 4,
   "metadata": {},
   "outputs": [],
   "source": [
    "seeds = list(range(1, 10_001))"
   ]
  },
  {
   "cell_type": "code",
   "execution_count": 5,
   "metadata": {},
   "outputs": [],
   "source": [
    "suite1 = random.sample(seeds, k=10)"
   ]
  },
  {
   "cell_type": "code",
   "execution_count": 6,
   "metadata": {},
   "outputs": [
    {
     "data": {
      "text/plain": [
       "[2599, 8677, 1011, 8635, 8394, 2886, 8867, 4605, 2286, 7123]"
      ]
     },
     "execution_count": 6,
     "metadata": {},
     "output_type": "execute_result"
    }
   ],
   "source": [
    "suite1"
   ]
  },
  {
   "cell_type": "code",
   "execution_count": 7,
   "metadata": {},
   "outputs": [],
   "source": [
    "def map_seeds_to_states(seed_seq):\n",
    "    for seed in seed_seq:\n",
    "        with open(f\"bench/shootme/{seed}.txt\") as f:\n",
    "            ret = f.read()\n",
    "            state = get_state(ret)\n",
    "            yield seed, state"
   ]
  },
  {
   "cell_type": "code",
   "execution_count": 8,
   "metadata": {},
   "outputs": [],
   "source": [
    "Result = namedtuple('Result', ['seed', 'time', 'seq', 'seqlen', 'datetime'])"
   ]
  },
  {
   "cell_type": "code",
   "execution_count": 9,
   "metadata": {
    "scrolled": false
   },
   "outputs": [
    {
     "data": {
      "text/plain": [
       "KlonState(stock=('TH', '8D', '7H', 'KC', '3D', 'TD', '5H', '8C', 'QS', 'JS', '9H', '7C', '6D', '8S', 'QD', 'QH', 'AC', '9C', '5S', 'KH', 'QC', '2S', 'TC', '9D'), tableau1=('4D',), tableau2=('3c', '4C'), tableau3=('9s', '7d', '6H'), tableau4=('ah', '7s', '2c', 'JD'), tableau5=('ad', '6s', '2h', 'ts', 'AS'), tableau6=('4h', '8h', '2d', 'ks', 'jc', '5C'), tableau7=('3h', '4s', '3s', '5d', 'jh', '6c', 'KD'), waste=(), foundation1=(), foundation2=(), foundation3=(), foundation4=())"
      ]
     },
     "execution_count": 9,
     "metadata": {},
     "output_type": "execute_result"
    }
   ],
   "source": [
    "solvemin = list(islice(map_seeds_to_states(results['Solved-Min']), 3))\n",
    "seed, state = solvemin[0]\n",
    "state"
   ]
  },
  {
   "cell_type": "code",
   "execution_count": 10,
   "metadata": {},
   "outputs": [],
   "source": [
    "def run_solver(seed, state):\n",
    "    start = time.time()\n",
    "    moveseq = solve(state)\n",
    "    seq = \" \".join(moveseq)\n",
    "    end = time.time()\n",
    "    elapsed = end-start\n",
    "    now = datetime.now().isoformat()\n",
    "    return Result(seed=seed, time=elapsed, seq=seq, seqlen=len(moveseq), datetime=now)"
   ]
  },
  {
   "cell_type": "code",
   "execution_count": 11,
   "metadata": {
    "scrolled": false
   },
   "outputs": [
    {
     "data": {
      "text/plain": [
       "Result(seed=2, time=1.124732494354248, seq='5C 6H 67 12 31 63 32-2 DR1 DR1 DR1 DR1 DR1 W6 DR1 DR1 DR1 W5 W2 72-2 73 7S 72 7H 47 46 DR1 DR1 DR1 W3 DR1 DR1 W5 DR1 W4 DR3 DR1 W1 71-2 72 DR1 W7 27-9 DR1 DR1 W5 DR1 DR1 DR1 W6 DR1 DR1 DR1 DR1 DR1 DR1 12 DR1 DR1 DR1 DR1 73-5 DR1 DR1 DR1 DR1 21 DR1 DR1 DR1 DR1 54-2 DR1 DR1 DR1 DR1 12 DR1 DR1 DR1 DR1 37-5 DR1 DR1 DR1 DR1 21 DR1 DR1 DR1 DR1 WD W4 W3 63-4 56-2 52 5C 61-3 61 W6 W2 W3 42-5 4H 51 76-9 DR1 W4 W1 W1 DR1 W2 W4 W7 2C 6C 24-8 37-9 DR1 W1 W7 1D 7S 7D 4D 4C 1S 1H 6H 6C 7S 7D 4D 4C 1S 1H 6H 6C 4H 7S 7D 1S 1D 1C 6D 7S 7H 1H 7C 4S 4D 7D 6S 6H 4C 6C 1S 1D 4H 6D 4C 7S 1S 7H', seqlen=164, datetime='2019-11-25T17:41:24.558499')"
      ]
     },
     "execution_count": 11,
     "metadata": {},
     "output_type": "execute_result"
    }
   ],
   "source": [
    "ret = run_solver(*solvemin[1])\n",
    "ret"
   ]
  }
 ],
 "metadata": {
  "kernelspec": {
   "display_name": "klonsolve",
   "language": "python",
   "name": "klonsolve"
  },
  "language_info": {
   "codemirror_mode": {
    "name": "ipython",
    "version": 3
   },
   "file_extension": ".py",
   "mimetype": "text/x-python",
   "name": "python",
   "nbconvert_exporter": "python",
   "pygments_lexer": "ipython3",
   "version": "3.6.8"
  }
 },
 "nbformat": 4,
 "nbformat_minor": 2
}
