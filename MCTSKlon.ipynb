{
 "cells": [
  {
   "cell_type": "markdown",
   "metadata": {},
   "source": [
    "https://gist.github.com/qpwo/c538c6f73727e254fdc7fab81024f6e1"
   ]
  },
  {
   "cell_type": "code",
   "execution_count": 1,
   "metadata": {},
   "outputs": [],
   "source": [
    "import numpy as np\n",
    "import matplotlib.pyplot as plt\n",
    "from itertools import count\n",
    "from collections import namedtuple\n",
    "import os\n",
    "import json\n",
    "import pandas as pd\n",
    "import random\n",
    "# import torch\n",
    "# import torch.nn as nn\n",
    "# import torch.optim as optim\n",
    "# import torch.nn.functional as F\n",
    "# from torch.autograd import Variable\n",
    "# from torch.distributions import Categorical\n",
    "%matplotlib inline"
   ]
  },
  {
   "cell_type": "code",
   "execution_count": null,
   "metadata": {},
   "outputs": [],
   "source": [
    "from mcts import MCTS, KlondikeNode\n",
    "from benchmarking import random_state\n",
    "random.seed(0)\n",
    "root_state = KlondikeNode(*random_state())\n",
    "tree = MCTS()\n",
    "state = root_state"
   ]
  },
  {
   "cell_type": "code",
   "execution_count": null,
   "metadata": {
    "scrolled": true
   },
   "outputs": [
    {
     "name": "stdout",
     "output_type": "stream",
     "text": [
      "1\n",
      "K32311\n",
      "Stock: TC 8D 6D 7D 7H AH 2D 2H 4H 2S 2C 7C KH JC AD 6C 3H 7S 3C 6S AS 3S 5H TD\n",
      "Waste: \n",
      "Fnd C: \n",
      "Fnd D: \n",
      "Fnd S: \n",
      "Fnd H: \n",
      "Tab 1: KS\n",
      "Tab 2: 4d 9H\n",
      "Tab 3: th ac 4C\n",
      "Tab 4: 8h qc js 5S\n",
      "Tab 5: 5d qh kc jh 8S\n",
      "Tab 6: qd 3d 4s 9d qs 5C\n",
      "Tab 7: kd 9s 6h jd 9c 8c TS\n",
      "2\n",
      "K73181\n",
      "Stock: TC 8D 6D 7D 7H AH\n",
      "Waste: TD 5H 3S AS 6S 3C 7S 3H 6C AD JC KH 7C 2C 2S 4H 2H 2D\n",
      "Fnd C: \n",
      "Fnd D: \n",
      "Fnd S: \n",
      "Fnd H: \n",
      "Tab 1: KS\n",
      "Tab 2: 4d 9H\n",
      "Tab 3: th ac 4C\n",
      "Tab 4: 8h qc js 5S\n",
      "Tab 5: 5d qh kc jh 8S\n",
      "Tab 6: qd 3d 4s 9d qs 5C\n",
      "Tab 7: kd 9s 6h jd 9c 8c TS\n",
      "3\n",
      "K95068\n",
      "Stock: TC 8D 6D 7D 7H AH\n",
      "Waste: TD 5H 3S AS 6S 3C 7S 3H 6C AD JC KH 7C 2C 2S 4H 2H 2D\n",
      "Fnd C: \n",
      "Fnd D: \n",
      "Fnd S: \n",
      "Fnd H: \n",
      "Tab 1: KS\n",
      "Tab 2: 4D\n",
      "Tab 3: th ac 4C\n",
      "Tab 4: 8h qc js 5S\n",
      "Tab 5: 5d qh kc jh 8S\n",
      "Tab 6: qd 3d 4s 9d qs 5C\n",
      "Tab 7: kd 9s 6h jd 9c 8c TS 9H\n"
     ]
    }
   ],
   "source": [
    "for i in count(1):\n",
    "    print(i)\n",
    "    print(state)\n",
    "    print(state.to_pretty_string())\n",
    "    for _ in range(50):\n",
    "        tree.do_rollout(state)\n",
    "    state = tree.choose(state)\n",
    "    if state.is_terminal():\n",
    "        print(\"TERMINAL\")\n",
    "        print(state.to_pretty_string())"
   ]
  },
  {
   "cell_type": "code",
   "execution_count": null,
   "metadata": {},
   "outputs": [],
   "source": [
    "import cProfile\n",
    "cProfile.run('for _ in range(50): tree.do_rollout(state)', 'restats')\n",
    "\n",
    "import pstats\n",
    "from pstats import SortKey\n",
    "p = pstats.Stats('restats')\n",
    "p.sort_stats(SortKey.CUMULATIVE).print_stats()\n",
    "\n",
    "import os\n",
    "os.remove('restats')"
   ]
  }
 ],
 "metadata": {
  "kernelspec": {
   "display_name": "Python 3",
   "language": "python",
   "name": "python3"
  },
  "language_info": {
   "codemirror_mode": {
    "name": "ipython",
    "version": 3
   },
   "file_extension": ".py",
   "mimetype": "text/x-python",
   "name": "python",
   "nbconvert_exporter": "python",
   "pygments_lexer": "ipython3",
   "version": "3.7.1"
  }
 },
 "nbformat": 4,
 "nbformat_minor": 2
}
