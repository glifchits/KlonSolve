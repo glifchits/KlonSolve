{
 "cells": [
  {
   "cell_type": "markdown",
   "metadata": {},
   "source": [
    "https://gist.github.com/qpwo/c538c6f73727e254fdc7fab81024f6e1"
   ]
  },
  {
   "cell_type": "code",
   "execution_count": 1,
   "metadata": {},
   "outputs": [],
   "source": [
    "import numpy as np\n",
    "import matplotlib.pyplot as plt\n",
    "from itertools import count\n",
    "from collections import namedtuple\n",
    "import os\n",
    "import json\n",
    "import pandas as pd\n",
    "import random\n",
    "import torch\n",
    "import torch.nn as nn\n",
    "import torch.optim as optim\n",
    "import torch.nn.functional as F\n",
    "from torch.autograd import Variable\n",
    "from torch.distributions import Categorical\n",
    "%matplotlib inline"
   ]
  },
  {
   "cell_type": "code",
   "execution_count": 2,
   "metadata": {},
   "outputs": [],
   "source": [
    "from mcts import MCTS, KlondikeNode"
   ]
  },
  {
   "cell_type": "code",
   "execution_count": 3,
   "metadata": {},
   "outputs": [],
   "source": [
    "from tuplestate import init_from_solvitaire\n",
    "from benchmarking import convert_shootme_to_solvitaire_json\n",
    "\n",
    "\n",
    "def listdir(path):\n",
    "    ls = os.listdir(path)\n",
    "    return [os.path.join(path, f) for f in ls]\n",
    "\n",
    "solved = listdir('./fixtures/shootme/solved/')\n",
    "solvedmin = listdir('./fixtures/shootme/solvedmin/')\n",
    "fixtures = solved + solvedmin\n",
    "\n",
    "def filename_to_klonstate(fname):\n",
    "    with open(fname) as f:\n",
    "        solv = convert_shootme_to_solvitaire_json(f.read())\n",
    "        state = init_from_solvitaire(solv)\n",
    "    return state\n",
    "\n",
    "def random_state():\n",
    "    fname = random.choice(fixtures)\n",
    "    state = filename_to_klonstate(fname)\n",
    "    return KlondikeNode(*state)"
   ]
  },
  {
   "cell_type": "code",
   "execution_count": 4,
   "metadata": {},
   "outputs": [],
   "source": [
    "random.seed(0)\n",
    "root_state = random_state()\n",
    "tree = MCTS()\n",
    "state = root_state"
   ]
  },
  {
   "cell_type": "code",
   "execution_count": 5,
   "metadata": {},
   "outputs": [
    {
     "name": "stdout",
     "output_type": "stream",
     "text": [
      "0 1 "
     ]
    }
   ],
   "source": [
    "for i in range(2):\n",
    "    print(i, end=\" \")\n",
    "    for _ in range(50):\n",
    "        tree.do_rollout(state)\n",
    "    state = tree.choose(state)\n",
    "    if state.is_terminal():\n",
    "        print(\"TERMINAL\")\n",
    "        print(state.to_pretty_string())"
   ]
  },
  {
   "cell_type": "code",
   "execution_count": 7,
   "metadata": {},
   "outputs": [],
   "source": [
    "import cProfile\n",
    "cProfile.run('for _ in range(20): tree.do_rollout(state)', 'restats')"
   ]
  },
  {
   "cell_type": "code",
   "execution_count": 8,
   "metadata": {},
   "outputs": [
    {
     "name": "stdout",
     "output_type": "stream",
     "text": [
      "Tue Dec  3 01:10:28 2019    restats\n",
      "\n",
      "         766848 function calls in 2.077 seconds\n",
      "\n",
      "   Ordered by: cumulative time\n",
      "\n",
      "   ncalls  tottime  percall  cumtime  percall filename:lineno(function)\n",
      "        1    0.000    0.000    2.077    2.077 {built-in method builtins.exec}\n",
      "        1    0.000    0.000    2.077    2.077 <string>:1(<module>)\n",
      "       20    0.000    0.000    2.077    0.104 /Users/glifchits/Development/KlonSolve/mcts.py:43(do_rollout)\n",
      "       20    0.003    0.000    2.061    0.103 /Users/glifchits/Development/KlonSolve/mcts.py:80(_simulate)\n",
      "     5224    0.004    0.000    2.040    0.000 /Users/glifchits/Development/KlonSolve/mcts.py:169(is_terminal)\n",
      "     7864    0.049    0.000    2.031    0.000 /Users/glifchits/Development/KlonSolve/mcts.py:137(find_children)\n",
      "     5244    0.007    0.000    2.029    0.000 /Users/glifchits/Development/KlonSolve/mcts.py:163(is_childless)\n",
      "    22386    0.042    0.000    1.695    0.000 /Users/glifchits/Development/KlonSolve/mcts.py:133(make_move)\n",
      "    22386    1.073    0.000    1.218    0.000 /Users/glifchits/Development/KlonSolve/mcts.py:114(__new__)\n",
      "    22386    0.116    0.000    0.436    0.000 /Users/glifchits/Development/KlonSolve/tuplestate.py:245(play_move)\n",
      "     2619    0.174    0.000    0.278    0.000 {get_legal_moves.get_legal_moves}\n",
      "    56004    0.176    0.000    0.230    0.000 /Users/glifchits/Development/KlonSolve/tuplestate.py:130(draw)\n",
      "    22386    0.131    0.000    0.131    0.000 {method 'union' of 'set' objects}\n",
      "     9842    0.067    0.000    0.090    0.000 /Users/glifchits/Development/KlonSolve/tuplestate.py:121(move)\n",
      "   112615    0.039    0.000    0.066    0.000 <string>:1(__new__)\n",
      "     9220    0.022    0.000    0.027    0.000 /Users/glifchits/Development/KlonSolve/tuplestate.py:147(replace_stock)\n",
      "    18333    0.024    0.000    0.027    0.000 /Users/glifchits/Development/KlonSolve/tuplestate.py:156(count_face_up)\n",
      "   112615    0.027    0.000    0.027    0.000 {built-in method __new__ of type object at 0x102bca6a8}\n",
      "     2602    0.007    0.000    0.027    0.000 /Users/glifchits/Development/KlonSolve/mcts.py:148(find_random_child)\n",
      "    15163    0.013    0.000    0.023    0.000 /Users/glifchits/Development/KlonSolve/tuplestate.py:143(copy)\n",
      "    56004    0.018    0.000    0.018    0.000 {built-in method builtins.min}\n",
      "     9842    0.014    0.000    0.017    0.000 /Users/glifchits/Development/KlonSolve/tuplestate.py:115(last_face_up)\n",
      "   158233    0.016    0.000    0.016    0.000 {built-in method builtins.len}\n",
      "    32228    0.010    0.000    0.010    0.000 {method 'startswith' of 'str' objects}\n",
      "     2602    0.003    0.000    0.010    0.000 /Users/glifchits/miniconda3/lib/python3.7/random.py:256(choice)\n",
      "    12544    0.010    0.000    0.010    0.000 /Users/glifchits/Development/KlonSolve/tuplestate.py:46(irange)\n",
      "       20    0.000    0.000    0.009    0.000 /Users/glifchits/Development/KlonSolve/mcts.py:68(_expand)\n",
      "    15952    0.009    0.000    0.009    0.000 {method 'add' of 'set' objects}\n",
      "     5244    0.003    0.000    0.007    0.000 /Users/glifchits/Development/KlonSolve/mcts.py:160(is_win)\n",
      "     2602    0.004    0.000    0.007    0.000 /Users/glifchits/miniconda3/lib/python3.7/random.py:224(_randbelow)\n",
      "       20    0.004    0.000    0.006    0.000 /Users/glifchits/Development/KlonSolve/mcts.py:51(_select)\n",
      "     5244    0.003    0.000    0.004    0.000 /Users/glifchits/Development/KlonSolve/tuplestate.py:223(state_is_win)\n",
      "       85    0.000    0.000    0.002    0.000 /Users/glifchits/Development/KlonSolve/mcts.py:97(_uct_select)\n",
      "     4098    0.002    0.000    0.002    0.000 {method 'getrandbits' of '_random.Random' objects}\n",
      "     8813    0.002    0.000    0.002    0.000 {method 'upper' of 'str' objects}\n",
      "     2328    0.002    0.000    0.002    0.000 {method 'split' of 'str' objects}\n",
      "       85    0.000    0.000    0.001    0.000 {built-in method builtins.max}\n",
      "      277    0.001    0.000    0.001    0.000 /Users/glifchits/Development/KlonSolve/mcts.py:105(uct)\n",
      "     2602    0.001    0.000    0.001    0.000 {method 'bit_length' of 'int' objects}\n",
      "       20    0.000    0.000    0.000    0.000 /Users/glifchits/Development/KlonSolve/mcts.py:90(_backpropagate)\n",
      "       85    0.000    0.000    0.000    0.000 {built-in method builtins.all}\n",
      "      362    0.000    0.000    0.000    0.000 /Users/glifchits/Development/KlonSolve/mcts.py:101(<genexpr>)\n",
      "       20    0.000    0.000    0.000    0.000 /Users/glifchits/Development/KlonSolve/mcts.py:172(reward)\n",
      "       85    0.000    0.000    0.000    0.000 {built-in method math.log}\n",
      "      277    0.000    0.000    0.000    0.000 {built-in method math.sqrt}\n",
      "      123    0.000    0.000    0.000    0.000 {method 'append' of 'list' objects}\n",
      "      103    0.000    0.000    0.000    0.000 {method 'keys' of 'dict' objects}\n",
      "       18    0.000    0.000    0.000    0.000 {method 'pop' of 'set' objects}\n",
      "        1    0.000    0.000    0.000    0.000 {method 'disable' of '_lsprof.Profiler' objects}\n",
      "\n",
      "\n"
     ]
    },
    {
     "data": {
      "text/plain": [
       "<pstats.Stats at 0x149f60ac8>"
      ]
     },
     "execution_count": 8,
     "metadata": {},
     "output_type": "execute_result"
    }
   ],
   "source": [
    "import pstats\n",
    "from pstats import SortKey\n",
    "p = pstats.Stats('restats')\n",
    "p.sort_stats(SortKey.CUMULATIVE).print_stats()"
   ]
  }
 ],
 "metadata": {
  "kernelspec": {
   "display_name": "Python 3",
   "language": "python",
   "name": "python3"
  },
  "language_info": {
   "codemirror_mode": {
    "name": "ipython",
    "version": 3
   },
   "file_extension": ".py",
   "mimetype": "text/x-python",
   "name": "python",
   "nbconvert_exporter": "python",
   "pygments_lexer": "ipython3",
   "version": "3.7.1"
  }
 },
 "nbformat": 4,
 "nbformat_minor": 2
}
