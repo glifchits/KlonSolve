{
 "cells": [
  {
   "cell_type": "markdown",
   "metadata": {},
   "source": [
    "https://gist.github.com/qpwo/c538c6f73727e254fdc7fab81024f6e1"
   ]
  },
  {
   "cell_type": "code",
   "execution_count": 1,
   "metadata": {},
   "outputs": [],
   "source": [
    "import numpy as np\n",
    "import matplotlib.pyplot as plt\n",
    "from itertools import count\n",
    "from collections import namedtuple\n",
    "import os\n",
    "import json\n",
    "import pandas as pd\n",
    "import random\n",
    "%matplotlib inline"
   ]
  },
  {
   "cell_type": "code",
   "execution_count": 2,
   "metadata": {},
   "outputs": [
    {
     "name": "stdout",
     "output_type": "stream",
     "text": [
      "Building Cython extension\n",
      "python setup.py build_ext --inplace\n",
      "running build_ext\n"
     ]
    }
   ],
   "source": [
    "!make build"
   ]
  },
  {
   "cell_type": "code",
   "execution_count": 3,
   "metadata": {},
   "outputs": [],
   "source": [
    "from mcts import MCTS, KlondikeNode\n",
    "from benchmarking import random_state\n",
    "random.seed(0)\n",
    "root_state = KlondikeNode(*random_state())\n",
    "tree = MCTS()\n",
    "state = root_state"
   ]
  },
  {
   "cell_type": "code",
   "execution_count": 4,
   "metadata": {
    "scrolled": false
   },
   "outputs": [
    {
     "name": "stdout",
     "output_type": "stream",
     "text": [
      "\n",
      "1 K98879\n",
      "Stock: TC 8D 6D 7D 7H AH 2D 2H 4H 2S 2C 7C KH JC AD 6C 3H 7S 3C 6S AS 3S 5H TD\n",
      "Waste: \n",
      "Fnd C: \n",
      "Fnd D: \n",
      "Fnd S: \n",
      "Fnd H: \n",
      "Tab 1: KS\n",
      "Tab 2: 4d 9H\n",
      "Tab 3: th ac 4C\n",
      "Tab 4: 8h qc js 5S\n",
      "Tab 5: 5d qh kc jh 8S\n",
      "Tab 6: qd 3d 4s 9d qs 5C\n",
      "Tab 7: kd 9s 6h jd 9c 8c TS\n",
      "\n",
      "2 K4985\n",
      "Stock: TC 8D 6D 7D 7H AH 2D 2H 4H 2S 2C 7C KH JC AD 6C 3H 7S 3C 6S AS\n",
      "Waste: TD 5H 3S\n",
      "Fnd C: \n",
      "Fnd D: \n",
      "Fnd S: \n",
      "Fnd H: \n",
      "Tab 1: KS\n",
      "Tab 2: 4d 9H\n",
      "Tab 3: th ac 4C\n",
      "Tab 4: 8h qc js 5S\n",
      "Tab 5: 5d qh kc jh 8S\n",
      "Tab 6: qd 3d 4s 9d qs 5C\n",
      "Tab 7: kd 9s 6h jd 9c 8c TS\n",
      "\n",
      "3 K73521\n",
      "Stock: TC 8D 6D 7D 7H AH 2D 2H 4H\n",
      "Waste: TD 5H 3S AS 6S 3C 7S 3H 6C AD JC KH 7C 2C 2S\n",
      "Fnd C: \n",
      "Fnd D: \n",
      "Fnd S: \n",
      "Fnd H: \n",
      "Tab 1: KS\n",
      "Tab 2: 4d 9H\n",
      "Tab 3: th ac 4C\n",
      "Tab 4: 8h qc js 5S\n",
      "Tab 5: 5d qh kc jh 8S\n",
      "Tab 6: qd 3d 4s 9d qs 5C\n",
      "Tab 7: kd 9s 6h jd 9c 8c TS\n",
      "\n",
      "4 K72685\n",
      "Stock: TC 8D 6D 7D 7H AH 2D 2H 4H\n",
      "Waste: TD 5H 3S AS 6S 3C 7S 3H 6C AD JC KH 7C 2C 2S\n",
      "Fnd C: \n",
      "Fnd D: \n",
      "Fnd S: \n",
      "Fnd H: \n",
      "Tab 1: KS\n",
      "Tab 2: 4D\n",
      "Tab 3: th ac 4C\n",
      "Tab 4: 8h qc js 5S\n",
      "Tab 5: 5d qh kc jh 8S\n",
      "Tab 6: qd 3d 4s 9d qs 5C\n",
      "Tab 7: kd 9s 6h jd 9c 8c TS 9H\n",
      "\n",
      "5 K72213\n",
      "Stock: TC 8D 6D 7D 7H AH 2D 2H 4H\n",
      "Waste: TD 5H 3S AS 6S 3C 7S 3H 6C AD JC KH 7C 2C 2S\n",
      "Fnd C: \n",
      "Fnd D: \n",
      "Fnd S: \n",
      "Fnd H: \n",
      "Tab 1: KS\n",
      "Tab 2: \n",
      "Tab 3: th ac 4C\n",
      "Tab 4: 8h qc js 5S\n",
      "Tab 5: 5d qh kc jh 8S\n",
      "Tab 6: qd 3d 4s 9d qs 5C 4D\n",
      "Tab 7: kd 9s 6h jd 9c 8c TS 9H\n",
      "\n",
      "6 K72917\n",
      "Stock: \n",
      "Waste: TD 5H 3S AS 6S 3C 7S 3H 6C AD JC KH 7C 2C 2S 4H 2H 2D AH 7H 7D 6D 8D TC\n",
      "Fnd C: \n",
      "Fnd D: \n",
      "Fnd S: \n",
      "Fnd H: \n",
      "Tab 1: KS\n",
      "Tab 2: \n",
      "Tab 3: th ac 4C\n",
      "Tab 4: 8h qc js 5S\n",
      "Tab 5: 5d qh kc jh 8S\n",
      "Tab 6: qd 3d 4s 9d qs 5C 4D\n",
      "Tab 7: kd 9s 6h jd 9c 8c TS 9H\n",
      "\n",
      "7 K87947\n",
      "Stock: TC 8D 6D 7D 7H AH 2D 2H 4H 2S 2C 7C KH JC AD 6C 3H 7S\n",
      "Waste: TD 5H 3S AS 6S 3C\n",
      "Fnd C: \n",
      "Fnd D: \n",
      "Fnd S: \n",
      "Fnd H: \n",
      "Tab 1: KS\n",
      "Tab 2: \n",
      "Tab 3: th ac 4C\n",
      "Tab 4: 8h qc js 5S\n",
      "Tab 5: 5d qh kc jh 8S\n",
      "Tab 6: qd 3d 4s 9d qs 5C 4D\n",
      "Tab 7: kd 9s 6h jd 9c 8c TS 9H\n",
      "\n",
      "8 K7104\n",
      "Stock: TC 8D 6D 7D 7H AH 2D 2H 4H 2S 2C 7C KH JC AD 6C 3H 7S\n",
      "Waste: TD 5H 3S AS 6S 3C\n",
      "Fnd C: \n",
      "Fnd D: \n",
      "Fnd S: \n",
      "Fnd H: \n",
      "Tab 1: KS\n",
      "Tab 2: \n",
      "Tab 3: th ac 4C\n",
      "Tab 4: 8h qc js 5S 4D\n",
      "Tab 5: 5d qh kc jh 8S\n",
      "Tab 6: qd 3d 4s 9d qs 5C\n",
      "Tab 7: kd 9s 6h jd 9c 8c TS 9H\n",
      "\n",
      "9 K16913\n",
      "Stock: TC 8D 6D 7D 7H AH 2D 2H 4H 2S 2C 7C KH JC AD 6C 3H 7S\n",
      "Waste: TD 5H 3S AS 6S\n",
      "Fnd C: \n",
      "Fnd D: \n",
      "Fnd S: \n",
      "Fnd H: \n",
      "Tab 1: KS\n",
      "Tab 2: \n",
      "Tab 3: th ac 4C\n",
      "Tab 4: 8h qc js 5S 4D 3C\n",
      "Tab 5: 5d qh kc jh 8S\n",
      "Tab 6: qd 3d 4s 9d qs 5C\n",
      "Tab 7: kd 9s 6h jd 9c 8c TS 9H\n",
      "\n",
      "10 K36568\n",
      "Stock: TC 8D 6D 7D 7H AH 2D 2H 4H 2S 2C 7C KH JC\n",
      "Waste: TD 5H 3S AS 6S 7S 3H 6C AD\n",
      "Fnd C: \n",
      "Fnd D: \n",
      "Fnd S: \n",
      "Fnd H: \n",
      "Tab 1: KS\n",
      "Tab 2: \n",
      "Tab 3: th ac 4C\n",
      "Tab 4: 8h qc js 5S 4D 3C\n",
      "Tab 5: 5d qh kc jh 8S\n",
      "Tab 6: qd 3d 4s 9d qs 5C\n",
      "Tab 7: kd 9s 6h jd 9c 8c TS 9H\n",
      "\n",
      "11 K17230\n",
      "Stock: TC 8D 6D 7D 7H AH 2D 2H 4H 2S 2C 7C KH JC AD 6C 3H 7S 6S AS\n",
      "Waste: TD 5H 3S\n",
      "Fnd C: \n",
      "Fnd D: \n",
      "Fnd S: \n",
      "Fnd H: \n",
      "Tab 1: KS\n",
      "Tab 2: \n",
      "Tab 3: th ac 4C\n",
      "Tab 4: 8h qc js 5S 4D 3C\n",
      "Tab 5: 5d qh kc jh 8S\n",
      "Tab 6: qd 3d 4s 9d qs 5C\n",
      "Tab 7: kd 9s 6h jd 9c 8c TS 9H\n",
      "\n",
      "12 K75073\n",
      "Stock: TC 8D 6D 7D 7H AH 2D 2H 4H 2S 2C 7C KH JC AD 6C 3H 7S 6S AS\n",
      "Waste: TD 5H 3S\n",
      "Fnd C: \n",
      "Fnd D: \n",
      "Fnd S: \n",
      "Fnd H: \n",
      "Tab 1: KS\n",
      "Tab 2: \n",
      "Tab 3: th ac 4C\n",
      "Tab 4: 8h qc js 5S 4D 3C\n",
      "Tab 5: 5d qh kc JH\n",
      "Tab 6: qd 3d 4s 9d qs 5C\n",
      "Tab 7: kd 9s 6h jd 9c 8c TS 9H 8S\n",
      "\n",
      "13 K93225\n",
      "Stock: TC 8D\n",
      "Waste: TD 5H 3S AS 6S 7S 3H 6C AD JC KH 7C 2C 2S 4H 2H 2D AH 7H 7D 6D\n",
      "Fnd C: \n",
      "Fnd D: \n",
      "Fnd S: \n",
      "Fnd H: \n",
      "Tab 1: KS\n",
      "Tab 2: \n",
      "Tab 3: th ac 4C\n",
      "Tab 4: 8h qc js 5S 4D 3C\n",
      "Tab 5: 5d qh kc JH\n",
      "Tab 6: qd 3d 4s 9d qs 5C\n",
      "Tab 7: kd 9s 6h jd 9c 8c TS 9H 8S\n",
      "\n",
      "14 K65031\n",
      "Stock: TC 8D 6D 7D 7H\n",
      "Waste: TD 5H 3S AS 6S 7S 3H 6C AD JC KH 7C 2C 2S 4H 2H 2D AH\n",
      "Fnd C: \n",
      "Fnd D: \n",
      "Fnd S: \n",
      "Fnd H: \n",
      "Tab 1: KS\n",
      "Tab 2: \n",
      "Tab 3: th ac 4C\n",
      "Tab 4: 8h qc js 5S 4D 3C\n",
      "Tab 5: 5d qh kc JH\n",
      "Tab 6: qd 3d 4s 9d qs 5C\n",
      "Tab 7: kd 9s 6h jd 9c 8c TS 9H 8S\n",
      "\n",
      "15 K45953\n",
      "Stock: TC 8D 6D 7D 7H\n",
      "Waste: TD 5H 3S AS 6S 7S 3H 6C AD JC KH 7C 2C 2S 4H 2H 2D AH\n",
      "Fnd C: \n",
      "Fnd D: \n",
      "Fnd S: \n",
      "Fnd H: \n",
      "Tab 1: KS\n",
      "Tab 2: \n",
      "Tab 3: th ac 4C\n",
      "Tab 4: 8h qc js 5S\n",
      "Tab 5: 5d qh kc JH\n",
      "Tab 6: qd 3d 4s 9d qs 5C 4D 3C\n",
      "Tab 7: kd 9s 6h jd 9c 8c TS 9H 8S\n",
      "\n",
      "16 K76025\n",
      "Stock: TC 8D 6D 7D 7H AH 2D 2H 4H 2S 2C 7C KH JC AD 6C 3H 7S 6S AS\n",
      "Waste: TD 5H 3S\n",
      "Fnd C: \n",
      "Fnd D: \n",
      "Fnd S: \n",
      "Fnd H: \n",
      "Tab 1: KS\n",
      "Tab 2: \n",
      "Tab 3: th ac 4C\n",
      "Tab 4: 8h qc js 5S\n",
      "Tab 5: 5d qh kc JH\n",
      "Tab 6: qd 3d 4s 9d qs 5C 4D 3C\n",
      "Tab 7: kd 9s 6h jd 9c 8c TS 9H 8S\n",
      "\n",
      "17 K94074\n",
      "Stock: \n",
      "Waste: TD 5H 3S AS 6S 7S 3H 6C AD JC KH 7C 2C 2S 4H 2H 2D AH 7H 7D 6D 8D TC\n",
      "Fnd C: \n",
      "Fnd D: \n",
      "Fnd S: \n",
      "Fnd H: \n",
      "Tab 1: KS\n",
      "Tab 2: \n",
      "Tab 3: th ac 4C\n",
      "Tab 4: 8h qc js 5S\n",
      "Tab 5: 5d qh kc JH\n",
      "Tab 6: qd 3d 4s 9d qs 5C 4D 3C\n",
      "Tab 7: kd 9s 6h jd 9c 8c TS 9H 8S\n",
      "\n",
      "18 K43231\n",
      "Stock: TC 8D\n",
      "Waste: TD 5H 3S AS 6S 7S 3H 6C AD JC KH 7C 2C 2S 4H 2H 2D AH 7H 7D 6D\n",
      "Fnd C: \n",
      "Fnd D: \n",
      "Fnd S: \n",
      "Fnd H: \n",
      "Tab 1: KS\n",
      "Tab 2: \n",
      "Tab 3: th ac 4C\n",
      "Tab 4: 8h qc js 5S\n",
      "Tab 5: 5d qh kc JH\n",
      "Tab 6: qd 3d 4s 9d qs 5C 4D 3C\n",
      "Tab 7: kd 9s 6h jd 9c 8c TS 9H 8S\n",
      "\n",
      "19 K9245\n",
      "Stock: TC 8D\n",
      "Waste: TD 5H 3S AS 6S 7S 3H 6C AD JC KH 7C 2C 2S 4H 2H 2D AH 7H 7D 6D\n",
      "Fnd C: \n",
      "Fnd D: \n",
      "Fnd S: \n",
      "Fnd H: \n",
      "Tab 1: KS\n",
      "Tab 2: \n",
      "Tab 3: th ac 4C\n",
      "Tab 4: 8h qc js 5S\n",
      "Tab 5: 5d qh kc JH TS 9H 8S\n",
      "Tab 6: qd 3d 4s 9d qs 5C 4D 3C\n",
      "Tab 7: kd 9s 6h jd 9c 8C\n",
      "\n",
      "20 K74501\n",
      "Stock: \n",
      "Waste: TD 5H 3S AS 6S 7S 3H 6C AD JC KH 7C 2C 2S 4H 2H 2D AH 7H 7D 6D 8D TC\n",
      "Fnd C: \n",
      "Fnd D: \n",
      "Fnd S: \n",
      "Fnd H: \n",
      "Tab 1: KS\n",
      "Tab 2: \n",
      "Tab 3: th ac 4C\n",
      "Tab 4: 8h qc js 5S\n",
      "Tab 5: 5d qh kc JH TS 9H 8S\n",
      "Tab 6: qd 3d 4s 9d qs 5C 4D 3C\n",
      "Tab 7: kd 9s 6h jd 9c 8C\n",
      "\n",
      "21 K85077\n",
      "Stock: TC 8D 6D 7D 7H AH 2D 2H 4H 2S 2C 7C KH JC AD 6C 3H\n",
      "Waste: TD 5H 3S AS 6S 7S\n",
      "Fnd C: \n",
      "Fnd D: \n",
      "Fnd S: \n",
      "Fnd H: \n",
      "Tab 1: KS\n",
      "Tab 2: \n",
      "Tab 3: th ac 4C\n",
      "Tab 4: 8h qc js 5S\n",
      "Tab 5: 5d qh kc JH TS 9H 8S\n",
      "Tab 6: qd 3d 4s 9d qs 5C 4D 3C\n",
      "Tab 7: kd 9s 6h jd 9c 8C\n",
      "\n",
      "22 K23259\n",
      "Stock: TC 8D 6D 7D 7H\n",
      "Waste: TD 5H 3S AS 6S 7S 3H 6C AD JC KH 7C 2C 2S 4H 2H 2D AH\n",
      "Fnd C: \n",
      "Fnd D: \n",
      "Fnd S: \n",
      "Fnd H: \n",
      "Tab 1: KS\n",
      "Tab 2: \n",
      "Tab 3: th ac 4C\n",
      "Tab 4: 8h qc js 5S\n",
      "Tab 5: 5d qh kc JH TS 9H 8S\n",
      "Tab 6: qd 3d 4s 9d qs 5C 4D 3C\n",
      "Tab 7: kd 9s 6h jd 9c 8C\n"
     ]
    },
    {
     "ename": "Exception",
     "evalue": "cycle: K9245 was already visited",
     "output_type": "error",
     "traceback": [
      "\u001b[0;31m---------------------------------------------------------------------------\u001b[0m",
      "\u001b[0;31mException\u001b[0m                                 Traceback (most recent call last)",
      "\u001b[0;32m<ipython-input-4-fc6d347ae26b>\u001b[0m in \u001b[0;36m<module>\u001b[0;34m()\u001b[0m\n\u001b[1;32m      8\u001b[0m     \u001b[0mstate\u001b[0m \u001b[0;34m=\u001b[0m \u001b[0mtree\u001b[0m\u001b[0;34m.\u001b[0m\u001b[0mchoose\u001b[0m\u001b[0;34m(\u001b[0m\u001b[0mstate\u001b[0m\u001b[0;34m)\u001b[0m\u001b[0;34m\u001b[0m\u001b[0;34m\u001b[0m\u001b[0m\n\u001b[1;32m      9\u001b[0m     \u001b[0;32mif\u001b[0m \u001b[0mstate\u001b[0m \u001b[0;32min\u001b[0m \u001b[0mvisited\u001b[0m\u001b[0;34m:\u001b[0m\u001b[0;34m\u001b[0m\u001b[0;34m\u001b[0m\u001b[0m\n\u001b[0;32m---> 10\u001b[0;31m         \u001b[0;32mraise\u001b[0m \u001b[0mException\u001b[0m\u001b[0;34m(\u001b[0m\u001b[0;34mf'cycle: {state} was already visited'\u001b[0m\u001b[0;34m)\u001b[0m\u001b[0;34m\u001b[0m\u001b[0;34m\u001b[0m\u001b[0m\n\u001b[0m\u001b[1;32m     11\u001b[0m     \u001b[0mvisited\u001b[0m\u001b[0;34m.\u001b[0m\u001b[0madd\u001b[0m\u001b[0;34m(\u001b[0m\u001b[0mstate\u001b[0m\u001b[0;34m)\u001b[0m\u001b[0;34m\u001b[0m\u001b[0;34m\u001b[0m\u001b[0m\n\u001b[1;32m     12\u001b[0m     \u001b[0;32mif\u001b[0m \u001b[0mstate\u001b[0m\u001b[0;34m.\u001b[0m\u001b[0mis_terminal\u001b[0m\u001b[0;34m(\u001b[0m\u001b[0;34m)\u001b[0m\u001b[0;34m:\u001b[0m\u001b[0;34m\u001b[0m\u001b[0;34m\u001b[0m\u001b[0m\n",
      "\u001b[0;31mException\u001b[0m: cycle: K9245 was already visited"
     ]
    }
   ],
   "source": [
    "visited = set([ state ])\n",
    "for i in count(1):\n",
    "    print()\n",
    "    print(i, state)\n",
    "    print(state.to_pretty_string())\n",
    "    for _ in range(5):\n",
    "        tree.do_rollout(state)\n",
    "    state = tree.choose(state)\n",
    "    if state in visited:\n",
    "        raise Exception(f'cycle: {state} was already visited')\n",
    "    visited.add(state)\n",
    "    if state.is_terminal():\n",
    "        print(\"TERMINAL\")\n",
    "        print(state.to_pretty_string())\n",
    "        break"
   ]
  },
  {
   "cell_type": "code",
   "execution_count": 9,
   "metadata": {},
   "outputs": [],
   "source": [
    "vis = {str(s): s for s in visited}"
   ]
  },
  {
   "cell_type": "code",
   "execution_count": 40,
   "metadata": {},
   "outputs": [
    {
     "data": {
      "text/plain": [
       "{K94074, K9245, K45953, K1354, K23002, K85924, K75700, K76025}"
      ]
     },
     "execution_count": 40,
     "metadata": {},
     "output_type": "execute_result"
    }
   ],
   "source": [
    "tree.children[vis['K43231']]"
   ]
  },
  {
   "cell_type": "code",
   "execution_count": 39,
   "metadata": {},
   "outputs": [
    {
     "data": {
      "text/plain": [
       "K71577"
      ]
     },
     "execution_count": 39,
     "metadata": {},
     "output_type": "execute_result"
    }
   ],
   "source": [
    "tree.choose(vis['K23259'])"
   ]
  },
  {
   "cell_type": "code",
   "execution_count": null,
   "metadata": {},
   "outputs": [],
   "source": [
    "# ch = tree.choose(state)\n",
    "# print(ch)\n",
    "# ch in visited"
   ]
  },
  {
   "cell_type": "code",
   "execution_count": 6,
   "metadata": {},
   "outputs": [
    {
     "name": "stdout",
     "output_type": "stream",
     "text": [
      "K9245\n",
      "{K23259, K74501, K39557, K87079, K10526, K59507, K85077, K71577}\n",
      "K23259 -0.1 -0.9 9\n",
      "K74501 -0.1 -0.8 8\n",
      "K39557 -0.1 -0.5 5\n",
      "K87079 -0.1 -0.4 4\n",
      "K10526 -0.1 -0.4 4\n",
      "K59507 -0.1 -0.3 3\n",
      "K85077 -0.1 -0.8 8\n",
      "K71577 -0.1 -0.4 4\n"
     ]
    }
   ],
   "source": [
    "print(state)\n",
    "print(tree.children[state])\n",
    "\n",
    "def score(n):\n",
    "    if tree.N[n] == 0:\n",
    "        return float(\"-inf\")  # avoid unseen moves\n",
    "    return tree.Q[n] / tree.N[n]  # average reward\n",
    "\n",
    "for c in tree.children[state]:\n",
    "    print(c, score(c), tree.Q[c], tree.N[c])"
   ]
  },
  {
   "cell_type": "code",
   "execution_count": null,
   "metadata": {},
   "outputs": [],
   "source": [
    "k25, k27, k29 = tree._select(ch)"
   ]
  },
  {
   "cell_type": "code",
   "execution_count": null,
   "metadata": {},
   "outputs": [],
   "source": [
    "children = list(tree.children[state])\n",
    "children"
   ]
  },
  {
   "cell_type": "code",
   "execution_count": null,
   "metadata": {},
   "outputs": [],
   "source": [
    "tree.Q[state]"
   ]
  },
  {
   "cell_type": "code",
   "execution_count": null,
   "metadata": {},
   "outputs": [],
   "source": [
    "tree.N[state]"
   ]
  },
  {
   "cell_type": "code",
   "execution_count": null,
   "metadata": {},
   "outputs": [],
   "source": [
    "state_backup"
   ]
  },
  {
   "cell_type": "code",
   "execution_count": null,
   "metadata": {},
   "outputs": [],
   "source": [
    "# state_backup = state"
   ]
  },
  {
   "cell_type": "code",
   "execution_count": null,
   "metadata": {},
   "outputs": [],
   "source": [
    "path = []\n",
    "node = state\n",
    "while True:\n",
    "    if node in path:\n",
    "        raise ValueError(\"detected cycle\")\n",
    "    path.append(node)\n",
    "    print(path)\n",
    "    if node not in tree.children or not tree.children[node]:\n",
    "        # node is either unexplored or terminal\n",
    "        print(\"return path\", path)\n",
    "        break\n",
    "    unexplored = tree.children[node] - tree.children.keys()\n",
    "    if unexplored:\n",
    "        n = unexplored.pop()\n",
    "        path.append(n)\n",
    "        print(\"return path\", path)\n",
    "        break\n",
    "    node = tree._uct_select(node)  # descend a layer deeper\n",
    "    print('selected', node)"
   ]
  },
  {
   "cell_type": "code",
   "execution_count": null,
   "metadata": {},
   "outputs": [],
   "source": [
    "state.find_children()"
   ]
  },
  {
   "cell_type": "code",
   "execution_count": null,
   "metadata": {},
   "outputs": [],
   "source": [
    "print(state.to_pretty_string())"
   ]
  },
  {
   "cell_type": "code",
   "execution_count": null,
   "metadata": {},
   "outputs": [],
   "source": [
    "tree.do_rollout(state)"
   ]
  },
  {
   "cell_type": "code",
   "execution_count": null,
   "metadata": {
    "scrolled": false
   },
   "outputs": [],
   "source": [
    "random.seed(0)\n",
    "root_state = KlondikeNode(*random_state())\n",
    "tree = MCTS()\n",
    "state = root_state\n",
    "\n",
    "import cProfile\n",
    "cProfile.run('for _ in range(5): tree.do_rollout(state)', 'restats')\n",
    "\n",
    "import pstats\n",
    "from pstats import SortKey\n",
    "p = pstats.Stats('restats')\n",
    "p.sort_stats(SortKey.CUMULATIVE).print_stats()\n",
    "\n",
    "import os\n",
    "os.remove('restats')"
   ]
  }
 ],
 "metadata": {
  "kernelspec": {
   "display_name": "Python 3",
   "language": "python",
   "name": "python3"
  },
  "language_info": {
   "codemirror_mode": {
    "name": "ipython",
    "version": 3
   },
   "file_extension": ".py",
   "mimetype": "text/x-python",
   "name": "python",
   "nbconvert_exporter": "python",
   "pygments_lexer": "ipython3",
   "version": "3.7.1"
  }
 },
 "nbformat": 4,
 "nbformat_minor": 2
}
