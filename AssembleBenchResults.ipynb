{
 "cells": [
  {
   "cell_type": "code",
   "execution_count": 1,
   "metadata": {},
   "outputs": [],
   "source": [
    "import os\n",
    "import pandas as pd\n",
    "import numpy as np"
   ]
  },
  {
   "cell_type": "code",
   "execution_count": 2,
   "metadata": {},
   "outputs": [],
   "source": [
    "def listdir(path):\n",
    "    ls = os.listdir(path)\n",
    "    return [os.path.join(path, f) for f in ls]"
   ]
  },
  {
   "cell_type": "code",
   "execution_count": 5,
   "metadata": {},
   "outputs": [],
   "source": [
    "def combine_data(path):\n",
    "    dfs = list(map(pd.read_csv, listdir(path)))\n",
    "    data = pd.concat(dfs)\n",
    "    data.drop('Unnamed: 0', inplace=True, axis=1)\n",
    "    return data\n",
    "    \n",
    "data = combine_data('./bench/suite-10-greedyheuristic/')"
   ]
  },
  {
   "cell_type": "code",
   "execution_count": 6,
   "metadata": {},
   "outputs": [
    {
     "name": "stdout",
     "output_type": "stream",
     "text": [
      "781 solved out of 10000 = 7.8%\n"
     ]
    }
   ],
   "source": [
    "solved = data[data.solved == True]\n",
    "print(f\"{len(solved)} solved out of {len(data)} = {np.average(data.solved)*100:.1f}%\")"
   ]
  }
 ],
 "metadata": {
  "kernelspec": {
   "display_name": "klonsolve",
   "language": "python",
   "name": "klonsolve"
  },
  "language_info": {
   "codemirror_mode": {
    "name": "ipython",
    "version": 3
   },
   "file_extension": ".py",
   "mimetype": "text/x-python",
   "name": "python",
   "nbconvert_exporter": "python",
   "pygments_lexer": "ipython3",
   "version": "3.6.8"
  }
 },
 "nbformat": 4,
 "nbformat_minor": 2
}
