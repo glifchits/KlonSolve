{
 "cells": [
  {
   "cell_type": "code",
   "execution_count": 32,
   "metadata": {},
   "outputs": [],
   "source": [
    "import os\n",
    "import pandas as pd\n",
    "import numpy as np"
   ]
  },
  {
   "cell_type": "code",
   "execution_count": 5,
   "metadata": {},
   "outputs": [],
   "source": [
    "def listdir(path):\n",
    "    ls = os.listdir(path)\n",
    "    return [os.path.join(path, f) for f in ls]"
   ]
  },
  {
   "cell_type": "code",
   "execution_count": 36,
   "metadata": {},
   "outputs": [],
   "source": [
    "dfs = list(map(pd.read_csv, listdir('./bench/suite-10-backtracking/')))"
   ]
  },
  {
   "cell_type": "code",
   "execution_count": 37,
   "metadata": {},
   "outputs": [
    {
     "data": {
      "text/html": [
       "<div>\n",
       "<style scoped>\n",
       "    .dataframe tbody tr th:only-of-type {\n",
       "        vertical-align: middle;\n",
       "    }\n",
       "\n",
       "    .dataframe tbody tr th {\n",
       "        vertical-align: top;\n",
       "    }\n",
       "\n",
       "    .dataframe thead th {\n",
       "        text-align: right;\n",
       "    }\n",
       "</style>\n",
       "<table border=\"1\" class=\"dataframe\">\n",
       "  <thead>\n",
       "    <tr style=\"text-align: right;\">\n",
       "      <th></th>\n",
       "      <th>seed</th>\n",
       "      <th>time</th>\n",
       "      <th>solved</th>\n",
       "      <th>visited</th>\n",
       "      <th>msg</th>\n",
       "      <th>seq</th>\n",
       "      <th>seqlen</th>\n",
       "      <th>datetime</th>\n",
       "      <th>shootme</th>\n",
       "    </tr>\n",
       "  </thead>\n",
       "  <tbody>\n",
       "    <tr>\n",
       "      <th>0</th>\n",
       "      <td>1432</td>\n",
       "      <td>38.208051</td>\n",
       "      <td>False</td>\n",
       "      <td>200001</td>\n",
       "      <td>exceeded max states</td>\n",
       "      <td>NaN</td>\n",
       "      <td>-1</td>\n",
       "      <td>2019-11-26T21:15:40.303174</td>\n",
       "      <td>Solved-Min</td>\n",
       "    </tr>\n",
       "    <tr>\n",
       "      <th>1</th>\n",
       "      <td>2337</td>\n",
       "      <td>53.123784</td>\n",
       "      <td>False</td>\n",
       "      <td>200001</td>\n",
       "      <td>exceeded max states</td>\n",
       "      <td>NaN</td>\n",
       "      <td>-1</td>\n",
       "      <td>2019-11-26T21:15:55.219274</td>\n",
       "      <td>Solved-Min</td>\n",
       "    </tr>\n",
       "    <tr>\n",
       "      <th>2</th>\n",
       "      <td>2919</td>\n",
       "      <td>0.031976</td>\n",
       "      <td>True</td>\n",
       "      <td>122</td>\n",
       "      <td>NaN</td>\n",
       "      <td>12 DR8 W6 W1 DR7 W1 W7 71-2 DR7 DR6 W7 DR8 DR6...</td>\n",
       "      <td>427</td>\n",
       "      <td>2019-11-26T21:15:02.127650</td>\n",
       "      <td>Solved-Min</td>\n",
       "    </tr>\n",
       "    <tr>\n",
       "      <th>3</th>\n",
       "      <td>7718</td>\n",
       "      <td>0.039170</td>\n",
       "      <td>True</td>\n",
       "      <td>141</td>\n",
       "      <td>NaN</td>\n",
       "      <td>75 73 52-2 51 37-2 35 26-3 42 74-3 76 DR8 DR7 ...</td>\n",
       "      <td>488</td>\n",
       "      <td>2019-11-26T21:15:02.134715</td>\n",
       "      <td>Solved-Min</td>\n",
       "    </tr>\n",
       "    <tr>\n",
       "      <th>4</th>\n",
       "      <td>4691</td>\n",
       "      <td>0.038805</td>\n",
       "      <td>True</td>\n",
       "      <td>152</td>\n",
       "      <td>NaN</td>\n",
       "      <td>7D 25 2C 13 DR8 DR7 DR7 DR7 DR7 DR7 DR7 W7 W3 ...</td>\n",
       "      <td>430</td>\n",
       "      <td>2019-11-26T21:15:02.134812</td>\n",
       "      <td>Solved-Min</td>\n",
       "    </tr>\n",
       "  </tbody>\n",
       "</table>\n",
       "</div>"
      ],
      "text/plain": [
       "   seed       time  solved  visited                  msg  \\\n",
       "0  1432  38.208051   False   200001  exceeded max states   \n",
       "1  2337  53.123784   False   200001  exceeded max states   \n",
       "2  2919   0.031976    True      122                  NaN   \n",
       "3  7718   0.039170    True      141                  NaN   \n",
       "4  4691   0.038805    True      152                  NaN   \n",
       "\n",
       "                                                 seq  seqlen  \\\n",
       "0                                                NaN      -1   \n",
       "1                                                NaN      -1   \n",
       "2  12 DR8 W6 W1 DR7 W1 W7 71-2 DR7 DR6 W7 DR8 DR6...     427   \n",
       "3  75 73 52-2 51 37-2 35 26-3 42 74-3 76 DR8 DR7 ...     488   \n",
       "4  7D 25 2C 13 DR8 DR7 DR7 DR7 DR7 DR7 DR7 W7 W3 ...     430   \n",
       "\n",
       "                     datetime     shootme  \n",
       "0  2019-11-26T21:15:40.303174  Solved-Min  \n",
       "1  2019-11-26T21:15:55.219274  Solved-Min  \n",
       "2  2019-11-26T21:15:02.127650  Solved-Min  \n",
       "3  2019-11-26T21:15:02.134715  Solved-Min  \n",
       "4  2019-11-26T21:15:02.134812  Solved-Min  "
      ]
     },
     "execution_count": 37,
     "metadata": {},
     "output_type": "execute_result"
    }
   ],
   "source": [
    "data = pd.concat(dfs)\n",
    "data.drop('Unnamed: 0', inplace=True, axis=1)\n",
    "data.head()"
   ]
  },
  {
   "cell_type": "code",
   "execution_count": 38,
   "metadata": {},
   "outputs": [
    {
     "name": "stdout",
     "output_type": "stream",
     "text": [
      "58 solved out of 100 = 58.0%\n"
     ]
    }
   ],
   "source": [
    "solved = data[data.solved == True]\n",
    "print(f\"{len(solved)} solved out of {len(data)} = {np.average(data.solved)*100:.1f}%\")"
   ]
  }
 ],
 "metadata": {
  "kernelspec": {
   "display_name": "klonsolve",
   "language": "python",
   "name": "klonsolve"
  },
  "language_info": {
   "codemirror_mode": {
    "name": "ipython",
    "version": 3
   },
   "file_extension": ".py",
   "mimetype": "text/x-python",
   "name": "python",
   "nbconvert_exporter": "python",
   "pygments_lexer": "ipython3",
   "version": "3.6.8"
  }
 },
 "nbformat": 4,
 "nbformat_minor": 2
}
