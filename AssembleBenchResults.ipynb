{
 "cells": [
  {
   "cell_type": "code",
   "execution_count": 1,
   "metadata": {},
   "outputs": [],
   "source": [
    "import os\n",
    "import pandas as pd"
   ]
  },
  {
   "cell_type": "code",
   "execution_count": 5,
   "metadata": {},
   "outputs": [],
   "source": [
    "def listdir(path):\n",
    "    ls = os.listdir(path)\n",
    "    return [os.path.join(path, f) for f in ls]"
   ]
  },
  {
   "cell_type": "code",
   "execution_count": 9,
   "metadata": {},
   "outputs": [],
   "source": [
    "dfs = list(map(pd.read_csv, listdir('./bench/results/')))"
   ]
  },
  {
   "cell_type": "code",
   "execution_count": 20,
   "metadata": {},
   "outputs": [
    {
     "data": {
      "text/html": [
       "<div>\n",
       "<style scoped>\n",
       "    .dataframe tbody tr th:only-of-type {\n",
       "        vertical-align: middle;\n",
       "    }\n",
       "\n",
       "    .dataframe tbody tr th {\n",
       "        vertical-align: top;\n",
       "    }\n",
       "\n",
       "    .dataframe thead th {\n",
       "        text-align: right;\n",
       "    }\n",
       "</style>\n",
       "<table border=\"1\" class=\"dataframe\">\n",
       "  <thead>\n",
       "    <tr style=\"text-align: right;\">\n",
       "      <th></th>\n",
       "      <th>seed</th>\n",
       "      <th>time</th>\n",
       "      <th>solved</th>\n",
       "      <th>visited</th>\n",
       "      <th>msg</th>\n",
       "      <th>seq</th>\n",
       "      <th>seqlen</th>\n",
       "      <th>datetime</th>\n",
       "      <th>shootme</th>\n",
       "    </tr>\n",
       "  </thead>\n",
       "  <tbody>\n",
       "    <tr>\n",
       "      <th>0</th>\n",
       "      <td>8581</td>\n",
       "      <td>0.000701</td>\n",
       "      <td>False</td>\n",
       "      <td>1</td>\n",
       "      <td>revisited state</td>\n",
       "      <td>NaN</td>\n",
       "      <td>-1</td>\n",
       "      <td>2019-11-26T22:12:46.190411</td>\n",
       "      <td>Solved-Min</td>\n",
       "    </tr>\n",
       "    <tr>\n",
       "      <th>1</th>\n",
       "      <td>1025</td>\n",
       "      <td>0.000674</td>\n",
       "      <td>False</td>\n",
       "      <td>1</td>\n",
       "      <td>revisited state</td>\n",
       "      <td>NaN</td>\n",
       "      <td>-1</td>\n",
       "      <td>2019-11-26T22:12:46.191245</td>\n",
       "      <td>Solved-Min</td>\n",
       "    </tr>\n",
       "    <tr>\n",
       "      <th>2</th>\n",
       "      <td>5426</td>\n",
       "      <td>0.000721</td>\n",
       "      <td>False</td>\n",
       "      <td>1</td>\n",
       "      <td>revisited state</td>\n",
       "      <td>NaN</td>\n",
       "      <td>-1</td>\n",
       "      <td>2019-11-26T22:12:46.191398</td>\n",
       "      <td>Solved-Min</td>\n",
       "    </tr>\n",
       "    <tr>\n",
       "      <th>3</th>\n",
       "      <td>1942</td>\n",
       "      <td>0.000614</td>\n",
       "      <td>False</td>\n",
       "      <td>1</td>\n",
       "      <td>revisited state</td>\n",
       "      <td>NaN</td>\n",
       "      <td>-1</td>\n",
       "      <td>2019-11-26T22:12:46.192020</td>\n",
       "      <td>Solved-Min</td>\n",
       "    </tr>\n",
       "    <tr>\n",
       "      <th>4</th>\n",
       "      <td>4766</td>\n",
       "      <td>0.000519</td>\n",
       "      <td>False</td>\n",
       "      <td>1</td>\n",
       "      <td>revisited state</td>\n",
       "      <td>NaN</td>\n",
       "      <td>-1</td>\n",
       "      <td>2019-11-26T22:12:46.191532</td>\n",
       "      <td>Solved-Min</td>\n",
       "    </tr>\n",
       "  </tbody>\n",
       "</table>\n",
       "</div>"
      ],
      "text/plain": [
       "   seed      time  solved  visited              msg  seq  seqlen  \\\n",
       "0  8581  0.000701   False        1  revisited state  NaN      -1   \n",
       "1  1025  0.000674   False        1  revisited state  NaN      -1   \n",
       "2  5426  0.000721   False        1  revisited state  NaN      -1   \n",
       "3  1942  0.000614   False        1  revisited state  NaN      -1   \n",
       "4  4766  0.000519   False        1  revisited state  NaN      -1   \n",
       "\n",
       "                     datetime     shootme  \n",
       "0  2019-11-26T22:12:46.190411  Solved-Min  \n",
       "1  2019-11-26T22:12:46.191245  Solved-Min  \n",
       "2  2019-11-26T22:12:46.191398  Solved-Min  \n",
       "3  2019-11-26T22:12:46.192020  Solved-Min  \n",
       "4  2019-11-26T22:12:46.191532  Solved-Min  "
      ]
     },
     "execution_count": 20,
     "metadata": {},
     "output_type": "execute_result"
    }
   ],
   "source": [
    "data = pd.concat(dfs)\n",
    "data.drop('Unnamed: 0', inplace=True, axis=1)\n",
    "data.head()"
   ]
  },
  {
   "cell_type": "code",
   "execution_count": 27,
   "metadata": {},
   "outputs": [
    {
     "name": "stdout",
     "output_type": "stream",
     "text": [
      "0 solved out of 300\n"
     ]
    }
   ],
   "source": [
    "solved = data[data.solved == True]\n",
    "print(f\"{len(solved)} solved out of {len(data)}\")"
   ]
  }
 ],
 "metadata": {
  "kernelspec": {
   "display_name": "klonsolve",
   "language": "python",
   "name": "klonsolve"
  },
  "language_info": {
   "codemirror_mode": {
    "name": "ipython",
    "version": 3
   },
   "file_extension": ".py",
   "mimetype": "text/x-python",
   "name": "python",
   "nbconvert_exporter": "python",
   "pygments_lexer": "ipython3",
   "version": "3.6.8"
  }
 },
 "nbformat": 4,
 "nbformat_minor": 2
}
