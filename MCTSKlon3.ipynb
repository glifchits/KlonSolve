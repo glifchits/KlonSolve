{
 "cells": [
  {
   "cell_type": "code",
   "execution_count": 60,
   "metadata": {
    "scrolled": false
   },
   "outputs": [
    {
     "name": "stdout",
     "output_type": "stream",
     "text": [
      "ROOT STATE: K536683\n",
      "  1: search on K536683\n",
      "Stock: 6D 9S 6H AD TD KS 6S KH 2C 8S KC TS 3S 8H 8C JS AS 3D 7D 7S QC JC 7H 4H\n",
      "Waste: \n",
      "Fnd C: \n",
      "Fnd D: \n",
      "Fnd S: \n",
      "Fnd H: \n",
      "Tab 1: QD\n",
      "Tab 2: jh 2S\n",
      "Tab 3: 9d 5s KD\n",
      "Tab 4: 6c ac 3c 4S\n",
      "Tab 5: qs 2d tc 5h 4C\n",
      "Tab 6: 3h qh th 5d 9c JD\n",
      "Tab 7: ah 4d 2h 8d 7c 5c 9H\n",
      "  2: search on K967983\n",
      "Stock: 6D 9S 6H AD TD KS 6S KH 2C 8S KC TS 3S 8H 8C JS AS 3D\n",
      "Waste: 4H 7H JC QC 7S 7D\n",
      "Fnd C: \n",
      "Fnd D: \n",
      "Fnd S: \n",
      "Fnd H: \n",
      "Tab 1: QD\n",
      "Tab 2: jh 2S\n",
      "Tab 3: 9d 5s KD\n",
      "Tab 4: 6c ac 3c 4S\n",
      "Tab 5: qs 2d tc 5h 4C\n",
      "Tab 6: 3h qh th 5d 9c JD\n",
      "Tab 7: ah 4d 2h 8d 7c 5c 9H\n",
      "  3: search on K296424\n",
      "Stock: 6D 9S 6H AD TD KS\n",
      "Waste: 4H 7H JC QC 7S 7D 3D AS JS 8C 8H 3S TS KC 8S 2C KH 6S\n",
      "Fnd C: \n",
      "Fnd D: \n",
      "Fnd S: \n",
      "Fnd H: \n",
      "Tab 1: QD\n",
      "Tab 2: jh 2S\n",
      "Tab 3: 9d 5s KD\n",
      "Tab 4: 6c ac 3c 4S\n",
      "Tab 5: qs 2d tc 5h 4C\n",
      "Tab 6: 3h qh th 5d 9c JD\n",
      "Tab 7: ah 4d 2h 8d 7c 5c 9H\n",
      "  4: search on K990167\n",
      "Stock: 6D 9S 6H AD TD KS 6S KH 2C 8S KC TS 3S 8H 8C\n",
      "Waste: 4H 7H JC QC 7S 7D 3D AS JS\n",
      "Fnd C: \n",
      "Fnd D: \n",
      "Fnd S: \n",
      "Fnd H: \n",
      "Tab 1: QD\n",
      "Tab 2: jh 2S\n",
      "Tab 3: 9d 5s KD\n",
      "Tab 4: 6c ac 3c 4S\n",
      "Tab 5: qs 2d tc 5h 4C\n",
      "Tab 6: 3h qh th 5d 9c JD\n",
      "Tab 7: ah 4d 2h 8d 7c 5c 9H\n",
      "  5: search on K720762\n",
      "Stock: 6D 9S 6H AD TD KS 6S KH 2C 8S KC TS\n",
      "Waste: 4H 7H JC QC 7S 7D 3D AS JS 8C 8H 3S\n",
      "Fnd C: \n",
      "Fnd D: \n",
      "Fnd S: \n",
      "Fnd H: \n",
      "Tab 1: QD\n",
      "Tab 2: jh 2S\n",
      "Tab 3: 9d 5s KD\n",
      "Tab 4: 6c ac 3c 4S\n",
      "Tab 5: qs 2d tc 5h 4C\n",
      "Tab 6: 3h qh th 5d 9c JD\n",
      "Tab 7: ah 4d 2h 8d 7c 5c 9H\n",
      "  6: search on K720208\n",
      "Stock: 6D 9S 6H AD TD KS 6S KH 2C 8S KC TS 3S 8H 8C JS AS 3D 7D 7S QC\n",
      "Waste: 4H 7H JC\n",
      "Fnd C: \n",
      "Fnd D: \n",
      "Fnd S: \n",
      "Fnd H: \n",
      "Tab 1: QD\n",
      "Tab 2: jh 2S\n",
      "Tab 3: 9d 5s KD\n",
      "Tab 4: 6c ac 3c 4S\n",
      "Tab 5: qs 2d tc 5h 4C\n",
      "Tab 6: 3h qh th 5d 9c JD\n",
      "Tab 7: ah 4d 2h 8d 7c 5c 9H\n",
      "  7: search on K623005\n",
      "Stock: 6D 9S 6H AD TD KS 6S KH 2C 8S KC TS 3S 8H 8C JS AS 3D 7D 7S QC\n",
      "Waste: 4H 7H\n",
      "Fnd C: \n",
      "Fnd D: \n",
      "Fnd S: \n",
      "Fnd H: \n",
      "Tab 1: QD JC\n",
      "Tab 2: jh 2S\n",
      "Tab 3: 9d 5s KD\n",
      "Tab 4: 6c ac 3c 4S\n",
      "Tab 5: qs 2d tc 5h 4C\n",
      "Tab 6: 3h qh th 5d 9c JD\n",
      "Tab 7: ah 4d 2h 8d 7c 5c 9H\n",
      "  8: search on K784327\n",
      "Stock: 6D 9S 6H AD TD KS 6S KH 2C 8S KC TS 3S 8H 8C JS AS 3D\n",
      "Waste: 4H 7H QC 7S 7D\n",
      "Fnd C: \n",
      "Fnd D: \n",
      "Fnd S: \n",
      "Fnd H: \n",
      "Tab 1: QD JC\n",
      "Tab 2: jh 2S\n",
      "Tab 3: 9d 5s KD\n",
      "Tab 4: 6c ac 3c 4S\n",
      "Tab 5: qs 2d tc 5h 4C\n",
      "Tab 6: 3h qh th 5d 9c JD\n",
      "Tab 7: ah 4d 2h 8d 7c 5c 9H\n",
      "  9: search on K332951\n",
      "Stock: 6D 9S 6H AD TD KS 6S KH 2C 8S KC TS\n",
      "Waste: 4H 7H QC 7S 7D 3D AS JS 8C 8H 3S\n",
      "Fnd C: \n",
      "Fnd D: \n",
      "Fnd S: \n",
      "Fnd H: \n",
      "Tab 1: QD JC\n",
      "Tab 2: jh 2S\n",
      "Tab 3: 9d 5s KD\n",
      "Tab 4: 6c ac 3c 4S\n",
      "Tab 5: qs 2d tc 5h 4C\n",
      "Tab 6: 3h qh th 5d 9c JD\n",
      "Tab 7: ah 4d 2h 8d 7c 5c 9H\n",
      "K332951 is TERMINAL\n"
     ]
    }
   ],
   "source": [
    "import random\n",
    "from itertools import count\n",
    "from benchmarking import random_state\n",
    "from mcts2 import KlonNode, MCTS, random_move, get_legal_moves\n",
    "\n",
    "\n",
    "# %pdb\n",
    "tree = MCTS()\n",
    "random.seed(0)\n",
    "root_state = random_state()\n",
    "def make_root_state():\n",
    "    return KlonNode(*root_state)\n",
    "\n",
    "node = make_root_state()\n",
    "print(f\"ROOT STATE: {node}\")\n",
    "path = [node]\n",
    "\n",
    "for i in count(1):\n",
    "    print(f'{i:3}: search on {node}')\n",
    "    print(node.to_pretty_string())\n",
    "    if tree.is_terminal(node):\n",
    "        print(f\"{node} is TERMINAL\")\n",
    "        break\n",
    "    node = tree.search(node)\n",
    "    if node in path:\n",
    "        print(f\"CYCLE {node} in visited\")\n",
    "    path.append(node)"
   ]
  },
  {
   "cell_type": "code",
   "execution_count": 62,
   "metadata": {},
   "outputs": [],
   "source": [
    "child = path.pop()"
   ]
  },
  {
   "cell_type": "code",
   "execution_count": 65,
   "metadata": {},
   "outputs": [
    {
     "name": "stdout",
     "output_type": "stream",
     "text": [
      "child K623005\n"
     ]
    }
   ],
   "source": [
    "print('child', child)\n",
    "if tree.is_terminal(child):\n",
    "    print('child is terminal', child)\n",
    "    parent = path.pop()\n",
    "    print('parent', parent, tree.children[parent])\n",
    "    if child in tree.children[parent]:\n",
    "        tree.children[parent].remove(child)\n",
    "    print(f'tree children parent {tree.children[parent]}')\n",
    "    child = parent"
   ]
  },
  {
   "cell_type": "code",
   "execution_count": 68,
   "metadata": {},
   "outputs": [
    {
     "data": {
      "text/plain": [
       "K735083"
      ]
     },
     "execution_count": 68,
     "metadata": {},
     "output_type": "execute_result"
    }
   ],
   "source": [
    "tree.search(child)"
   ]
  }
 ],
 "metadata": {
  "kernelspec": {
   "display_name": "Python 3",
   "language": "python",
   "name": "python3"
  },
  "language_info": {
   "codemirror_mode": {
    "name": "ipython",
    "version": 3
   },
   "file_extension": ".py",
   "mimetype": "text/x-python",
   "name": "python",
   "nbconvert_exporter": "python",
   "pygments_lexer": "ipython3",
   "version": "3.7.1"
  }
 },
 "nbformat": 4,
 "nbformat_minor": 2
}
