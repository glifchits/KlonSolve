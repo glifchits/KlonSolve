{
 "cells": [
  {
   "cell_type": "code",
   "execution_count": 1,
   "metadata": {},
   "outputs": [],
   "source": [
    "import os\n",
    "import time\n",
    "import random\n",
    "import shutil\n",
    "import subprocess\n",
    "import numpy as np\n",
    "import pandas as pd\n",
    "import multiprocessing\n",
    "from datetime import datetime\n",
    "from itertools import islice\n",
    "from collections import defaultdict, namedtuple\n",
    "from tuplestate import init_from_solvitaire, to_dict, pprint_st\n",
    "from benchmarking import *\n",
    "from solver import solve"
   ]
  },
  {
   "cell_type": "code",
   "execution_count": 2,
   "metadata": {},
   "outputs": [],
   "source": [
    "def get_state(ret):\n",
    "    deck_json = convert_shootme_to_solvitaire_json(ret)\n",
    "    return init_from_solvitaire(deck_json)\n",
    "\n",
    "\n",
    "def prepare_ui_state(ret):\n",
    "    parsed = parse_winnable(ret)\n",
    "    game_state = to_dict(get_state(ret))\n",
    "    \n",
    "    def card(c):\n",
    "        ''' UI uses 10 instead of T '''\n",
    "        return c.replace('t', '10').replace('T', '10')\n",
    "    \n",
    "    return {\n",
    "        'stock': [card(c).lower() for c in game_state['stock']],\n",
    "        'tableau': [\n",
    "            [card(c) for c in tab] \n",
    "            for tab in game_state['tableau']\n",
    "        ],\n",
    "        'waste': game_state['waste'],\n",
    "        'foundation': game_state['foundation'],\n",
    "        'moveSeq': parsed['moves'].strip().split(' ')\n",
    "    }"
   ]
  },
  {
   "cell_type": "markdown",
   "metadata": {},
   "source": [
    "## Read benchmark output"
   ]
  },
  {
   "cell_type": "code",
   "execution_count": 3,
   "metadata": {},
   "outputs": [
    {
     "name": "stdout",
     "output_type": "stream",
     "text": [
      "Solved-Min      7,876\n",
      "Impossible      1,282\n",
      "Unknown           522\n",
      "Solved            320\n",
      "---------------------\n",
      "Total          10,000\n"
     ]
    }
   ],
   "source": [
    "results = defaultdict(set)\n",
    "\n",
    "all_solutions = os.listdir('./bench/shootme/')\n",
    "seeds = list(map(lambda fname: int(fname[:-4]), all_solutions))\n",
    "\n",
    "def solve_state(ret):\n",
    "    lines = ret.splitlines()\n",
    "    result = lines[15]\n",
    "    if result.startswith('Minimal solution'):\n",
    "        return \"Solved-Min\"\n",
    "    elif result.startswith(\"Solved\"):\n",
    "        return \"Solved\"\n",
    "    elif result.startswith('Impossible'):\n",
    "        return \"Impossible\"\n",
    "    elif result.startswith('Unknown'):\n",
    "        return \"Unknown\"\n",
    "\n",
    "for seed in sorted(seeds):\n",
    "    with open(f\"bench/shootme/{seed}.txt\") as f:\n",
    "        ret = f.read()\n",
    "        result = solve_state(ret)\n",
    "        results[result].add(seed)\n",
    "    \n",
    "seed_class = {}\n",
    "for cls in results.keys():\n",
    "    seeds_cls = results[cls]\n",
    "    for seed in seeds_cls:\n",
    "        seed_class[seed] = cls\n",
    "        \n",
    "for res, seeds in results.items():\n",
    "    print(f\"{res:12} {len(seeds):8,}\")\n",
    "total = sum(len(s) for s in results.values())\n",
    "print(('-'*12) + '-' + ('-'*8))\n",
    "print(f\"{'Total':12} {total:8,}\")"
   ]
  },
  {
   "cell_type": "markdown",
   "metadata": {},
   "source": [
    "## Generate suites"
   ]
  },
  {
   "cell_type": "code",
   "execution_count": 4,
   "metadata": {},
   "outputs": [],
   "source": [
    "# seeds = np.fromiter(seed_class.keys(), dtype=np.int16)\n",
    "# rand = np.random.RandomState(0)\n",
    "\n",
    "# def get_suites(size, max_suites):\n",
    "#     rand.shuffle(seeds)\n",
    "#     start = 0\n",
    "#     suites = 0\n",
    "#     for s in range(max_suites):\n",
    "#         end = start + size\n",
    "#         if end > len(seeds):\n",
    "#             return\n",
    "#         yield list(map(int, seeds[start:end]))\n",
    "#         start = end\n",
    "#         suites += 1\n",
    "\n",
    "# size = 10\n",
    "# for i, suite in enumerate(get_suites(size=size, max_suites=1000)):\n",
    "#     with open(f'./bench/suites/{size}/suite_{i:0>4}.txt', 'w') as f:\n",
    "#         out = ' '.join(map(str,suite))\n",
    "#         f.write(out)"
   ]
  },
  {
   "cell_type": "markdown",
   "metadata": {},
   "source": [
    "## Run suites"
   ]
  },
  {
   "cell_type": "code",
   "execution_count": 5,
   "metadata": {},
   "outputs": [],
   "source": [
    "def map_seeds_to_states(seed_seq):\n",
    "    for seed in seed_seq:\n",
    "        with open(f\"bench/shootme/{seed}.txt\") as f:\n",
    "            ret = f.read()\n",
    "            state = get_state(ret)\n",
    "            yield seed, state\n",
    "\n",
    "def get_seeds(fname):\n",
    "    with open(fname) as f:\n",
    "        return map(int, f.read().strip().split(' '))\n",
    "    \n",
    "    \n",
    "def get_suite_states(fname):\n",
    "    return list(map_seeds_to_states(get_seeds(fname)))\n",
    "\n",
    "\n",
    "def get_suite_files(size):\n",
    "    pref = f'./bench/suites/{size}/'\n",
    "    ls = sorted(os.listdir(pref))\n",
    "    if len(ls) == 0:\n",
    "        raise Exception(f\"no suite files in {pref}\")\n",
    "    return [os.path.join(pref, f) for f in ls]"
   ]
  },
  {
   "cell_type": "code",
   "execution_count": 6,
   "metadata": {},
   "outputs": [],
   "source": [
    "Result = namedtuple('Result', \n",
    "    ['seed', 'time', \n",
    "     'solved', 'visited', 'msg',\n",
    "     'seq', 'seqlen', \n",
    "     'datetime', 'shootme']\n",
    ")\n",
    "\n",
    "def run_solver(seedstate):\n",
    "    seed, state = seedstate\n",
    "#     print(f\"starting seed {seed}\")\n",
    "    start = time.time()\n",
    "    sol = solve(state, max_states=200_000, k=3)\n",
    "    seq = None\n",
    "    seqlen = -1\n",
    "    if sol.solved:\n",
    "        seq = \" \".join(sol.moveseq)\n",
    "        seqlen = len(seq)\n",
    "    end = time.time()\n",
    "    elapsed = end-start\n",
    "    shootme = seed_class[seed]\n",
    "    now = datetime.now().isoformat()\n",
    "#     print(f\"done solving {seed} after {elapsed:.1f}\")\n",
    "    return Result(\n",
    "        seed=seed, time=elapsed,\n",
    "        solved=sol.solved,\n",
    "        visited=sol.visited,\n",
    "        msg=sol.msg,\n",
    "        seq=seq, seqlen=seqlen, \n",
    "        datetime=now, shootme=shootme\n",
    "    )"
   ]
  },
  {
   "cell_type": "code",
   "execution_count": 7,
   "metadata": {},
   "outputs": [],
   "source": [
    "proc = subprocess.Popen(\"git log --pretty=oneline | head -c 10\", shell=True, stdout=subprocess.PIPE)\n",
    "out, err = proc.communicate()\n",
    "git = out.decode('ascii')\n",
    "foldername = f\"suite-10-rollout-k3-{git}\"\n",
    "folderpath = os.path.join(\"./bench/\", foldername)"
   ]
  },
  {
   "cell_type": "code",
   "execution_count": 8,
   "metadata": {},
   "outputs": [
    {
     "name": "stdout",
     "output_type": "stream",
     "text": [
      "./bench/suite-10-rollout-k3-014d25000e\n"
     ]
    }
   ],
   "source": [
    "try:\n",
    "    shutil.rmtree(folderpath)\n",
    "except FileNotFoundError:\n",
    "    pass\n",
    "print(folderpath)\n",
    "\n",
    "def timestr():\n",
    "    now = datetime.now()\n",
    "    return now.strftime(\"%Y%m%d-%H%M%S\")\n",
    "\n",
    "def save_results(results, suite_file):\n",
    "    df = pd.DataFrame(results)\n",
    "    fname = os.path.join(folderpath, f\"{suite_file}-{timestr()}.csv\")\n",
    "    df.to_csv(fname)"
   ]
  },
  {
   "cell_type": "code",
   "execution_count": null,
   "metadata": {},
   "outputs": [
    {
     "name": "stdout",
     "output_type": "stream",
     "text": [
      "done ./bench/suites/10/suite_0000.txt\n",
      "done ./bench/suites/10/suite_0001.txt\n",
      "done ./bench/suites/10/suite_0002.txt\n",
      "done ./bench/suites/10/suite_0003.txt\n",
      "done ./bench/suites/10/suite_0004.txt\n",
      "done ./bench/suites/10/suite_0005.txt\n",
      "done ./bench/suites/10/suite_0006.txt\n",
      "done ./bench/suites/10/suite_0007.txt\n",
      "done ./bench/suites/10/suite_0008.txt\n",
      "done ./bench/suites/10/suite_0009.txt\n",
      "done ./bench/suites/10/suite_0010.txt\n",
      "done ./bench/suites/10/suite_0011.txt\n",
      "done ./bench/suites/10/suite_0012.txt\n",
      "done ./bench/suites/10/suite_0013.txt\n",
      "done ./bench/suites/10/suite_0014.txt\n",
      "done ./bench/suites/10/suite_0015.txt\n",
      "done ./bench/suites/10/suite_0016.txt\n",
      "done ./bench/suites/10/suite_0017.txt\n",
      "done ./bench/suites/10/suite_0018.txt\n",
      "done ./bench/suites/10/suite_0019.txt\n",
      "done ./bench/suites/10/suite_0020.txt\n",
      "done ./bench/suites/10/suite_0021.txt\n",
      "done ./bench/suites/10/suite_0022.txt\n",
      "done ./bench/suites/10/suite_0023.txt\n",
      "done ./bench/suites/10/suite_0024.txt\n",
      "done ./bench/suites/10/suite_0025.txt\n",
      "done ./bench/suites/10/suite_0026.txt\n",
      "done ./bench/suites/10/suite_0027.txt\n",
      "done ./bench/suites/10/suite_0028.txt\n",
      "done ./bench/suites/10/suite_0029.txt\n",
      "done ./bench/suites/10/suite_0030.txt\n",
      "done ./bench/suites/10/suite_0031.txt\n",
      "done ./bench/suites/10/suite_0032.txt\n",
      "done ./bench/suites/10/suite_0033.txt\n",
      "done ./bench/suites/10/suite_0034.txt\n",
      "done ./bench/suites/10/suite_0035.txt\n",
      "done ./bench/suites/10/suite_0036.txt\n",
      "done ./bench/suites/10/suite_0037.txt\n",
      "done ./bench/suites/10/suite_0038.txt\n",
      "done ./bench/suites/10/suite_0039.txt\n",
      "done ./bench/suites/10/suite_0040.txt\n",
      "done ./bench/suites/10/suite_0041.txt\n",
      "done ./bench/suites/10/suite_0042.txt\n",
      "done ./bench/suites/10/suite_0043.txt\n",
      "done ./bench/suites/10/suite_0044.txt\n",
      "done ./bench/suites/10/suite_0045.txt\n",
      "done ./bench/suites/10/suite_0046.txt\n",
      "done ./bench/suites/10/suite_0047.txt\n",
      "done ./bench/suites/10/suite_0048.txt\n",
      "done ./bench/suites/10/suite_0049.txt\n",
      "done ./bench/suites/10/suite_0050.txt\n",
      "done ./bench/suites/10/suite_0051.txt\n",
      "done ./bench/suites/10/suite_0052.txt\n",
      "done ./bench/suites/10/suite_0053.txt\n",
      "done ./bench/suites/10/suite_0054.txt\n",
      "done ./bench/suites/10/suite_0055.txt\n",
      "done ./bench/suites/10/suite_0056.txt\n",
      "done ./bench/suites/10/suite_0057.txt\n"
     ]
    }
   ],
   "source": [
    "if not os.path.exists(folderpath):\n",
    "    os.makedirs(folderpath)\n",
    "\n",
    "with multiprocessing.Pool() as pool:\n",
    "    for suite_file in get_suite_files(size=10):\n",
    "#         print(f\"starting {suite_file}\")\n",
    "        states = get_suite_states(suite_file)\n",
    "        ret = pool.map(run_solver, states)\n",
    "        _, fname = os.path.split(suite_file)\n",
    "        fname, _ = os.path.splitext(fname)\n",
    "        save_results(ret, fname)\n",
    "        print(f'done {suite_file}')"
   ]
  },
  {
   "cell_type": "code",
   "execution_count": null,
   "metadata": {},
   "outputs": [],
   "source": [
    "# suite_file = './bench/suites/10/suite_0027.txt'\n",
    "# states = get_suite_states(suite_file)\n",
    "# ret = list(map(run_solver, states))\n",
    "# ret"
   ]
  }
 ],
 "metadata": {
  "kernelspec": {
   "display_name": "klonsolve",
   "language": "python",
   "name": "klonsolve"
  },
  "language_info": {
   "codemirror_mode": {
    "name": "ipython",
    "version": 3
   },
   "file_extension": ".py",
   "mimetype": "text/x-python",
   "name": "python",
   "nbconvert_exporter": "python",
   "pygments_lexer": "ipython3",
   "version": "3.6.8"
  }
 },
 "nbformat": 4,
 "nbformat_minor": 2
}
