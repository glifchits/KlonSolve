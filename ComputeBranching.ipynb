{
 "cells": [
  {
   "cell_type": "code",
   "execution_count": 29,
   "metadata": {},
   "outputs": [],
   "source": [
    "import numpy as np\n",
    "import pandas as pd\n",
    "import random\n",
    "from itertools import islice\n",
    "from klon_tree import KlonTree\n",
    "from benchmarking import *\n",
    "import matplotlib.pyplot as plt\n",
    "%matplotlib inline"
   ]
  },
  {
   "cell_type": "code",
   "execution_count": 2,
   "metadata": {},
   "outputs": [],
   "source": [
    "all_seeds = clf_seeds(all_solutions)\n",
    "solved_min = list(all_seeds['Solved-Min'])\n",
    "seed = random.choice(solved_min)"
   ]
  },
  {
   "cell_type": "code",
   "execution_count": 5,
   "metadata": {},
   "outputs": [],
   "source": [
    "def branching_factor(seed):\n",
    "    state, seq = state_with_moveseq(f\"./bench/shootme/{seed}\")\n",
    "    tree = KlonTree(state)\n",
    "    branches = []\n",
    "    while len(seq):\n",
    "        move = seq.pop(0)\n",
    "        if move.startswith('F') or move == 'NEW':\n",
    "            continue\n",
    "        legal_moves = tree.legal_moves()\n",
    "        assert move in legal_moves, f\"illegal move {move}\"\n",
    "        branches.append(len(legal_moves))\n",
    "        tree.make_move(move)\n",
    "    return np.average(branches), len(branches)\n",
    "\n",
    "branching_factor(seed)"
   ]
  },
  {
   "cell_type": "code",
   "execution_count": 18,
   "metadata": {},
   "outputs": [
    {
     "data": {
      "text/plain": [
       "branch     9.616784\n",
       "depth     90.165312\n",
       "dtype: float64"
      ]
     },
     "execution_count": 18,
     "metadata": {},
     "output_type": "execute_result"
    }
   ],
   "source": [
    "solvedmin = pd.DataFrame(\n",
    "    map(branching_factor, all_seeds[\"Solved-Min\"]), \n",
    "    columns=['branch', 'depth']\n",
    ")\n",
    "solvedmin.mean()"
   ]
  },
  {
   "cell_type": "code",
   "execution_count": 19,
   "metadata": {},
   "outputs": [
    {
     "data": {
      "text/plain": [
       "branch     9.568696\n",
       "depth     94.559375\n",
       "dtype: float64"
      ]
     },
     "execution_count": 19,
     "metadata": {},
     "output_type": "execute_result"
    }
   ],
   "source": [
    "solved = pd.DataFrame(\n",
    "    map(branching_factor, all_seeds[\"Solved\"]), \n",
    "    columns=['branch', 'depth']\n",
    ")\n",
    "solved.mean()"
   ]
  },
  {
   "cell_type": "code",
   "execution_count": 25,
   "metadata": {},
   "outputs": [
    {
     "data": {
      "text/plain": [
       "branch     9.614906\n",
       "depth     90.336872\n",
       "dtype: float64"
      ]
     },
     "execution_count": 25,
     "metadata": {},
     "output_type": "execute_result"
    }
   ],
   "source": [
    "alldata = pd.concat([solvedmin, solved])\n",
    "alldata.mean()"
   ]
  },
  {
   "cell_type": "code",
   "execution_count": 76,
   "metadata": {},
   "outputs": [
    {
     "data": {
      "image/png": "[encoded data removed]",
      "text/plain": [
       "<Figure size 792x216 with 2 Axes>"
      ]
     },
     "metadata": {
      "needs_background": "light"
     },
     "output_type": "display_data"
    }
   ],
   "source": [
    "fig, (left, right) = plt.subplots(1, 2, figsize=(11, 3))\n",
    "alldata.branch.hist(bins=100, ax=left)\n",
    "left.set_title('Histogram of average branch factor per game');\n",
    "alldata.depth.hist(bins=46, ax=right)\n",
    "right.set_title(\"Histogram of solution depth per game\");"
   ]
  }
 ],
 "metadata": {
  "kernelspec": {
   "display_name": "klonsolve",
   "language": "python",
   "name": "klonsolve"
  },
  "language_info": {
   "codemirror_mode": {
    "name": "ipython",
    "version": 3
   },
   "file_extension": ".py",
   "mimetype": "text/x-python",
   "name": "python",
   "nbconvert_exporter": "python",
   "pygments_lexer": "ipython3",
   "version": "3.6.9"
  }
 },
 "nbformat": 4,
 "nbformat_minor": 2
}
