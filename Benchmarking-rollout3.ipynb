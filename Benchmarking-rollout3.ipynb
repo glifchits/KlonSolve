{
 "cells": [
  {
   "cell_type": "code",
   "execution_count": 1,
   "metadata": {},
   "outputs": [],
   "source": [
    "import os\n",
    "import time\n",
    "import random\n",
    "import shutil\n",
    "import subprocess\n",
    "import numpy as np\n",
    "import pandas as pd\n",
    "import multiprocessing\n",
    "from datetime import datetime\n",
    "from itertools import islice\n",
    "from collections import defaultdict, namedtuple\n",
    "from tuplestate import init_from_solvitaire, to_dict, pprint_st\n",
    "from benchmarking import *\n",
    "from solver import solve"
   ]
  },
  {
   "cell_type": "code",
   "execution_count": 2,
   "metadata": {},
   "outputs": [],
   "source": [
    "def get_state(ret):\n",
    "    deck_json = convert_shootme_to_solvitaire_json(ret)\n",
    "    return init_from_solvitaire(deck_json)\n",
    "\n",
    "\n",
    "def prepare_ui_state(ret):\n",
    "    parsed = parse_winnable(ret)\n",
    "    game_state = to_dict(get_state(ret))\n",
    "    \n",
    "    def card(c):\n",
    "        ''' UI uses 10 instead of T '''\n",
    "        return c.replace('t', '10').replace('T', '10')\n",
    "    \n",
    "    return {\n",
    "        'stock': [card(c).lower() for c in game_state['stock']],\n",
    "        'tableau': [\n",
    "            [card(c) for c in tab] \n",
    "            for tab in game_state['tableau']\n",
    "        ],\n",
    "        'waste': game_state['waste'],\n",
    "        'foundation': game_state['foundation'],\n",
    "        'moveSeq': parsed['moves'].strip().split(' ')\n",
    "    }"
   ]
  },
  {
   "cell_type": "markdown",
   "metadata": {},
   "source": [
    "## Read benchmark output"
   ]
  },
  {
   "cell_type": "code",
   "execution_count": 3,
   "metadata": {},
   "outputs": [
    {
     "name": "stdout",
     "output_type": "stream",
     "text": [
      "Solved-Min      7,876\n",
      "Impossible      1,282\n",
      "Unknown           522\n",
      "Solved            320\n",
      "---------------------\n",
      "Total          10,000\n"
     ]
    }
   ],
   "source": [
    "results = defaultdict(set)\n",
    "\n",
    "all_solutions = os.listdir('./bench/shootme/')\n",
    "seeds = list(map(lambda fname: int(fname[:-4]), all_solutions))\n",
    "\n",
    "def solve_state(ret):\n",
    "    lines = ret.splitlines()\n",
    "    result = lines[15]\n",
    "    if result.startswith('Minimal solution'):\n",
    "        return \"Solved-Min\"\n",
    "    elif result.startswith(\"Solved\"):\n",
    "        return \"Solved\"\n",
    "    elif result.startswith('Impossible'):\n",
    "        return \"Impossible\"\n",
    "    elif result.startswith('Unknown'):\n",
    "        return \"Unknown\"\n",
    "\n",
    "for seed in sorted(seeds):\n",
    "    with open(f\"bench/shootme/{seed}.txt\") as f:\n",
    "        ret = f.read()\n",
    "        result = solve_state(ret)\n",
    "        results[result].add(seed)\n",
    "    \n",
    "seed_class = {}\n",
    "for cls in results.keys():\n",
    "    seeds_cls = results[cls]\n",
    "    for seed in seeds_cls:\n",
    "        seed_class[seed] = cls\n",
    "        \n",
    "for res, seeds in results.items():\n",
    "    print(f\"{res:12} {len(seeds):8,}\")\n",
    "total = sum(len(s) for s in results.values())\n",
    "print(('-'*12) + '-' + ('-'*8))\n",
    "print(f\"{'Total':12} {total:8,}\")"
   ]
  },
  {
   "cell_type": "markdown",
   "metadata": {},
   "source": [
    "## Generate suites"
   ]
  },
  {
   "cell_type": "code",
   "execution_count": 4,
   "metadata": {},
   "outputs": [],
   "source": [
    "seeds = np.fromiter(seed_class.keys(), dtype=np.int16)\n",
    "rand = np.random.RandomState(0)\n",
    "\n",
    "def get_suites(size, max_suites):\n",
    "    rand.shuffle(seeds)\n",
    "    start = 0\n",
    "    suites = 0\n",
    "    for s in range(max_suites):\n",
    "        end = start + size\n",
    "        if end > len(seeds):\n",
    "            return\n",
    "        yield list(map(int, seeds[start:end]))\n",
    "        start = end\n",
    "        suites += 1\n",
    "\n",
    "size = 10\n",
    "for i, suite in enumerate(get_suites(size=size, max_suites=1000)):\n",
    "    with open(f'./bench/suites/{size}/suite_{i:0>4}.txt', 'w') as f:\n",
    "        out = ' '.join(map(str,suite))\n",
    "        f.write(out)"
   ]
  },
  {
   "cell_type": "markdown",
   "metadata": {},
   "source": [
    "## Run suites"
   ]
  },
  {
   "cell_type": "code",
   "execution_count": null,
   "metadata": {},
   "outputs": [],
   "source": [
    "def map_seeds_to_states(seed_seq):\n",
    "    for seed in seed_seq:\n",
    "        with open(f\"bench/shootme/{seed}.txt\") as f:\n",
    "            ret = f.read()\n",
    "            state = get_state(ret)\n",
    "            yield seed, state\n",
    "\n",
    "def get_seeds(fname):\n",
    "    with open(fname) as f:\n",
    "        return map(int, f.read().strip().split(' '))\n",
    "    \n",
    "    \n",
    "def get_suite_states(fname):\n",
    "    return list(map_seeds_to_states(get_seeds(fname)))\n",
    "\n",
    "\n",
    "def get_suite_files(size):\n",
    "    pref = f'./bench/suites/{size}/'\n",
    "    ls = sorted(os.listdir(pref))\n",
    "    if len(ls) == 0:\n",
    "        raise Exception(f\"no suite files in {pref}\")\n",
    "    return [os.path.join(pref, f) for f in ls]"
   ]
  },
  {
   "cell_type": "code",
   "execution_count": 6,
   "metadata": {},
   "outputs": [],
   "source": [
    "result_suite_name = \"rollout-k3\"\n",
    "\n",
    "Result = namedtuple('Result', \n",
    "    ['seed', 'time', \n",
    "     'solved', 'visited', 'msg',\n",
    "     'seq', 'seqlen', \n",
    "     'datetime', 'shootme']\n",
    ")\n",
    "\n",
    "def run_solver(seedstate):\n",
    "    seed, state = seedstate\n",
    "#     print(f\"starting seed {seed}\")\n",
    "    start = time.time()\n",
    "    sol = solve(state, max_states=200_000, k=3)\n",
    "    seq = None\n",
    "    seqlen = -1\n",
    "    if sol.solved:\n",
    "        seq = \" \".join(sol.moveseq)\n",
    "        seqlen = len(seq)\n",
    "    end = time.time()\n",
    "    elapsed = end-start\n",
    "    shootme = seed_class[seed]\n",
    "    now = datetime.now().isoformat()\n",
    "#     print(f\"done solving {seed} after {elapsed:.1f}\")\n",
    "    return Result(\n",
    "        seed=seed, time=elapsed,\n",
    "        solved=sol.solved,\n",
    "        visited=sol.visited,\n",
    "        msg=sol.msg,\n",
    "        seq=seq, seqlen=seqlen, \n",
    "        datetime=now, shootme=shootme\n",
    "    )"
   ]
  },
  {
   "cell_type": "code",
   "execution_count": 7,
   "metadata": {},
   "outputs": [],
   "source": [
    "proc = subprocess.Popen(\"git log --pretty=oneline | head -c 10\", shell=True, stdout=subprocess.PIPE)\n",
    "out, err = proc.communicate()\n",
    "git = out.decode('ascii')\n",
    "foldername = f\"suite-10-{result_suite_name}-{git}\"\n",
    "folderpath = os.path.join(\"./bench/\", foldername)"
   ]
  },
  {
   "cell_type": "code",
   "execution_count": 8,
   "metadata": {},
   "outputs": [
    {
     "name": "stdout",
     "output_type": "stream",
     "text": [
      "./bench/suite-10-rollout-k3-feeac68a81\n"
     ]
    }
   ],
   "source": [
    "try:\n",
    "    shutil.rmtree(folderpath)\n",
    "except FileNotFoundError:\n",
    "    pass\n",
    "print(folderpath)\n",
    "\n",
    "def timestr():\n",
    "    now = datetime.now()\n",
    "    return now.strftime(\"%Y%m%d-%H%M%S\")\n",
    "\n",
    "def save_results(results, suite_file):\n",
    "    df = pd.DataFrame(results)\n",
    "    fname = os.path.join(folderpath, f\"{suite_file}-{timestr()}.csv\")\n",
    "    df.to_csv(fname)"
   ]
  },
  {
   "cell_type": "code",
   "execution_count": 9,
   "metadata": {},
   "outputs": [
    {
     "name": "stdout",
     "output_type": "stream",
     "text": [
      "done ./bench/suites/10/suite_0000.txt\n",
      "done ./bench/suites/10/suite_0169.txt\n"
     ]
    },
    {
     "name": "stderr",
     "output_type": "stream",
     "text": [
      "Process ForkPoolWorker-158:\n",
      "Traceback (most recent call last):\n",
      "  File \"/usr/lib/python3.6/multiprocessing/process.py\", line 258, in _bootstrap\n",
      "    self.run()\n",
      "Process ForkPoolWorker-141:\n",
      "Process ForkPoolWorker-152:\n",
      "Process ForkPoolWorker-135:\n",
      "Process ForkPoolWorker-148:\n",
      "Process ForkPoolWorker-128:\n",
      "Process ForkPoolWorker-122:\n",
      "Process ForkPoolWorker-125:\n",
      "Process ForkPoolWorker-137:\n",
      "Process ForkPoolWorker-42:\n",
      "Process ForkPoolWorker-51:\n",
      "Process ForkPoolWorker-136:\n",
      "Process ForkPoolWorker-129:\n",
      "Process ForkPoolWorker-160:\n",
      "  File \"/usr/lib/python3.6/multiprocessing/process.py\", line 93, in run\n",
      "    self._target(*self._args, **self._kwargs)\n",
      "Process ForkPoolWorker-143:\n",
      "Process ForkPoolWorker-159:\n",
      "Process ForkPoolWorker-140:\n",
      "Process ForkPoolWorker-124:\n",
      "Process ForkPoolWorker-132:\n",
      "Process ForkPoolWorker-142:\n",
      "Process ForkPoolWorker-120:\n",
      "Process ForkPoolWorker-123:\n",
      "Process ForkPoolWorker-92:\n",
      "Process ForkPoolWorker-72:\n",
      "Process ForkPoolWorker-133:\n",
      "Process ForkPoolWorker-155:\n",
      "Process ForkPoolWorker-150:\n",
      "Process ForkPoolWorker-156:\n",
      "Process ForkPoolWorker-66:\n",
      "Process ForkPoolWorker-78:\n",
      "Process ForkPoolWorker-99:\n",
      "Process ForkPoolWorker-30:\n",
      "Process ForkPoolWorker-111:\n",
      "Process ForkPoolWorker-108:\n",
      "Process ForkPoolWorker-49:\n",
      "Process ForkPoolWorker-144:\n",
      "Process ForkPoolWorker-48:\n",
      "Process ForkPoolWorker-116:\n",
      "Process ForkPoolWorker-91:\n",
      "Process ForkPoolWorker-105:\n",
      "Process ForkPoolWorker-90:\n",
      "Process ForkPoolWorker-139:\n",
      "Process ForkPoolWorker-134:\n",
      "Process ForkPoolWorker-102:\n",
      "Process ForkPoolWorker-46:\n",
      "Process ForkPoolWorker-61:\n",
      "Process ForkPoolWorker-146:\n",
      "Process ForkPoolWorker-145:\n",
      "Process ForkPoolWorker-147:\n",
      "Process ForkPoolWorker-53:\n",
      "Process ForkPoolWorker-112:\n",
      "Traceback (most recent call last):\n",
      "Process ForkPoolWorker-154:\n",
      "Process ForkPoolWorker-65:\n",
      "Process ForkPoolWorker-113:\n",
      "Process ForkPoolWorker-87:\n",
      "Process ForkPoolWorker-83:\n",
      "Process ForkPoolWorker-74:\n",
      "  File \"/usr/lib/python3.6/multiprocessing/pool.py\", line 108, in worker\n",
      "    task = get()\n",
      "Process ForkPoolWorker-117:\n",
      "Traceback (most recent call last):\n",
      "Traceback (most recent call last):\n",
      "Traceback (most recent call last):\n",
      "Traceback (most recent call last):\n"
     ]
    },
    {
     "ename": "KeyboardInterrupt",
     "evalue": "",
     "output_type": "error",
     "traceback": [
      "\u001b[0;31m---------------------------------------------------------------------------\u001b[0m",
      "\u001b[0;31mKeyboardInterrupt\u001b[0m                         Traceback (most recent call last)",
      "\u001b[0;32m<ipython-input-9-1122dba830b8>\u001b[0m in \u001b[0;36m<module>\u001b[0;34m\u001b[0m\n\u001b[1;32m      6\u001b[0m \u001b[0;31m#         print(f\"starting {suite_file}\")\u001b[0m\u001b[0;34m\u001b[0m\u001b[0;34m\u001b[0m\u001b[0;34m\u001b[0m\u001b[0m\n\u001b[1;32m      7\u001b[0m         \u001b[0mstates\u001b[0m \u001b[0;34m=\u001b[0m \u001b[0mget_suite_states\u001b[0m\u001b[0;34m(\u001b[0m\u001b[0msuite_file\u001b[0m\u001b[0;34m)\u001b[0m\u001b[0;34m\u001b[0m\u001b[0;34m\u001b[0m\u001b[0m\n\u001b[0;32m----> 8\u001b[0;31m         \u001b[0mret\u001b[0m \u001b[0;34m=\u001b[0m \u001b[0mpool\u001b[0m\u001b[0;34m.\u001b[0m\u001b[0mmap\u001b[0m\u001b[0;34m(\u001b[0m\u001b[0mrun_solver\u001b[0m\u001b[0;34m,\u001b[0m \u001b[0mstates\u001b[0m\u001b[0;34m)\u001b[0m\u001b[0;34m\u001b[0m\u001b[0;34m\u001b[0m\u001b[0m\n\u001b[0m\u001b[1;32m      9\u001b[0m         \u001b[0m_\u001b[0m\u001b[0;34m,\u001b[0m \u001b[0mfname\u001b[0m \u001b[0;34m=\u001b[0m \u001b[0mos\u001b[0m\u001b[0;34m.\u001b[0m\u001b[0mpath\u001b[0m\u001b[0;34m.\u001b[0m\u001b[0msplit\u001b[0m\u001b[0;34m(\u001b[0m\u001b[0msuite_file\u001b[0m\u001b[0;34m)\u001b[0m\u001b[0;34m\u001b[0m\u001b[0;34m\u001b[0m\u001b[0m\n\u001b[1;32m     10\u001b[0m         \u001b[0mfname\u001b[0m\u001b[0;34m,\u001b[0m \u001b[0m_\u001b[0m \u001b[0;34m=\u001b[0m \u001b[0mos\u001b[0m\u001b[0;34m.\u001b[0m\u001b[0mpath\u001b[0m\u001b[0;34m.\u001b[0m\u001b[0msplitext\u001b[0m\u001b[0;34m(\u001b[0m\u001b[0mfname\u001b[0m\u001b[0;34m)\u001b[0m\u001b[0;34m\u001b[0m\u001b[0;34m\u001b[0m\u001b[0m\n",
      "\u001b[0;32m/usr/lib/python3.6/multiprocessing/pool.py\u001b[0m in \u001b[0;36mmap\u001b[0;34m(self, func, iterable, chunksize)\u001b[0m\n\u001b[1;32m    264\u001b[0m         \u001b[0;32min\u001b[0m \u001b[0ma\u001b[0m \u001b[0mlist\u001b[0m \u001b[0mthat\u001b[0m \u001b[0;32mis\u001b[0m \u001b[0mreturned\u001b[0m\u001b[0;34m.\u001b[0m\u001b[0;34m\u001b[0m\u001b[0;34m\u001b[0m\u001b[0m\n\u001b[1;32m    265\u001b[0m         '''\n\u001b[0;32m--> 266\u001b[0;31m         \u001b[0;32mreturn\u001b[0m \u001b[0mself\u001b[0m\u001b[0;34m.\u001b[0m\u001b[0m_map_async\u001b[0m\u001b[0;34m(\u001b[0m\u001b[0mfunc\u001b[0m\u001b[0;34m,\u001b[0m \u001b[0miterable\u001b[0m\u001b[0;34m,\u001b[0m \u001b[0mmapstar\u001b[0m\u001b[0;34m,\u001b[0m \u001b[0mchunksize\u001b[0m\u001b[0;34m)\u001b[0m\u001b[0;34m.\u001b[0m\u001b[0mget\u001b[0m\u001b[0;34m(\u001b[0m\u001b[0;34m)\u001b[0m\u001b[0;34m\u001b[0m\u001b[0;34m\u001b[0m\u001b[0m\n\u001b[0m\u001b[1;32m    267\u001b[0m \u001b[0;34m\u001b[0m\u001b[0m\n\u001b[1;32m    268\u001b[0m     \u001b[0;32mdef\u001b[0m \u001b[0mstarmap\u001b[0m\u001b[0;34m(\u001b[0m\u001b[0mself\u001b[0m\u001b[0;34m,\u001b[0m \u001b[0mfunc\u001b[0m\u001b[0;34m,\u001b[0m \u001b[0miterable\u001b[0m\u001b[0;34m,\u001b[0m \u001b[0mchunksize\u001b[0m\u001b[0;34m=\u001b[0m\u001b[0;32mNone\u001b[0m\u001b[0;34m)\u001b[0m\u001b[0;34m:\u001b[0m\u001b[0;34m\u001b[0m\u001b[0;34m\u001b[0m\u001b[0m\n",
      "\u001b[0;32m/usr/lib/python3.6/multiprocessing/pool.py\u001b[0m in \u001b[0;36mget\u001b[0;34m(self, timeout)\u001b[0m\n\u001b[1;32m    636\u001b[0m \u001b[0;34m\u001b[0m\u001b[0m\n\u001b[1;32m    637\u001b[0m     \u001b[0;32mdef\u001b[0m \u001b[0mget\u001b[0m\u001b[0;34m(\u001b[0m\u001b[0mself\u001b[0m\u001b[0;34m,\u001b[0m \u001b[0mtimeout\u001b[0m\u001b[0;34m=\u001b[0m\u001b[0;32mNone\u001b[0m\u001b[0;34m)\u001b[0m\u001b[0;34m:\u001b[0m\u001b[0;34m\u001b[0m\u001b[0;34m\u001b[0m\u001b[0m\n\u001b[0;32m--> 638\u001b[0;31m         \u001b[0mself\u001b[0m\u001b[0;34m.\u001b[0m\u001b[0mwait\u001b[0m\u001b[0;34m(\u001b[0m\u001b[0mtimeout\u001b[0m\u001b[0;34m)\u001b[0m\u001b[0;34m\u001b[0m\u001b[0;34m\u001b[0m\u001b[0m\n\u001b[0m\u001b[1;32m    639\u001b[0m         \u001b[0;32mif\u001b[0m \u001b[0;32mnot\u001b[0m \u001b[0mself\u001b[0m\u001b[0;34m.\u001b[0m\u001b[0mready\u001b[0m\u001b[0;34m(\u001b[0m\u001b[0;34m)\u001b[0m\u001b[0;34m:\u001b[0m\u001b[0;34m\u001b[0m\u001b[0;34m\u001b[0m\u001b[0m\n\u001b[1;32m    640\u001b[0m             \u001b[0;32mraise\u001b[0m \u001b[0mTimeoutError\u001b[0m\u001b[0;34m\u001b[0m\u001b[0;34m\u001b[0m\u001b[0m\n",
      "\u001b[0;32m/usr/lib/python3.6/multiprocessing/pool.py\u001b[0m in \u001b[0;36mwait\u001b[0;34m(self, timeout)\u001b[0m\n\u001b[1;32m    633\u001b[0m \u001b[0;34m\u001b[0m\u001b[0m\n\u001b[1;32m    634\u001b[0m     \u001b[0;32mdef\u001b[0m \u001b[0mwait\u001b[0m\u001b[0;34m(\u001b[0m\u001b[0mself\u001b[0m\u001b[0;34m,\u001b[0m \u001b[0mtimeout\u001b[0m\u001b[0;34m=\u001b[0m\u001b[0;32mNone\u001b[0m\u001b[0;34m)\u001b[0m\u001b[0;34m:\u001b[0m\u001b[0;34m\u001b[0m\u001b[0;34m\u001b[0m\u001b[0m\n\u001b[0;32m--> 635\u001b[0;31m         \u001b[0mself\u001b[0m\u001b[0;34m.\u001b[0m\u001b[0m_event\u001b[0m\u001b[0;34m.\u001b[0m\u001b[0mwait\u001b[0m\u001b[0;34m(\u001b[0m\u001b[0mtimeout\u001b[0m\u001b[0;34m)\u001b[0m\u001b[0;34m\u001b[0m\u001b[0;34m\u001b[0m\u001b[0m\n\u001b[0m\u001b[1;32m    636\u001b[0m \u001b[0;34m\u001b[0m\u001b[0m\n\u001b[1;32m    637\u001b[0m     \u001b[0;32mdef\u001b[0m \u001b[0mget\u001b[0m\u001b[0;34m(\u001b[0m\u001b[0mself\u001b[0m\u001b[0;34m,\u001b[0m \u001b[0mtimeout\u001b[0m\u001b[0;34m=\u001b[0m\u001b[0;32mNone\u001b[0m\u001b[0;34m)\u001b[0m\u001b[0;34m:\u001b[0m\u001b[0;34m\u001b[0m\u001b[0;34m\u001b[0m\u001b[0m\n",
      "\u001b[0;32m/usr/lib/python3.6/threading.py\u001b[0m in \u001b[0;36mwait\u001b[0;34m(self, timeout)\u001b[0m\n\u001b[1;32m    549\u001b[0m             \u001b[0msignaled\u001b[0m \u001b[0;34m=\u001b[0m \u001b[0mself\u001b[0m\u001b[0;34m.\u001b[0m\u001b[0m_flag\u001b[0m\u001b[0;34m\u001b[0m\u001b[0;34m\u001b[0m\u001b[0m\n\u001b[1;32m    550\u001b[0m             \u001b[0;32mif\u001b[0m \u001b[0;32mnot\u001b[0m \u001b[0msignaled\u001b[0m\u001b[0;34m:\u001b[0m\u001b[0;34m\u001b[0m\u001b[0;34m\u001b[0m\u001b[0m\n\u001b[0;32m--> 551\u001b[0;31m                 \u001b[0msignaled\u001b[0m \u001b[0;34m=\u001b[0m \u001b[0mself\u001b[0m\u001b[0;34m.\u001b[0m\u001b[0m_cond\u001b[0m\u001b[0;34m.\u001b[0m\u001b[0mwait\u001b[0m\u001b[0;34m(\u001b[0m\u001b[0mtimeout\u001b[0m\u001b[0;34m)\u001b[0m\u001b[0;34m\u001b[0m\u001b[0;34m\u001b[0m\u001b[0m\n\u001b[0m\u001b[1;32m    552\u001b[0m             \u001b[0;32mreturn\u001b[0m \u001b[0msignaled\u001b[0m\u001b[0;34m\u001b[0m\u001b[0;34m\u001b[0m\u001b[0m\n\u001b[1;32m    553\u001b[0m \u001b[0;34m\u001b[0m\u001b[0m\n",
      "\u001b[0;32m/usr/lib/python3.6/threading.py\u001b[0m in \u001b[0;36mwait\u001b[0;34m(self, timeout)\u001b[0m\n\u001b[1;32m    293\u001b[0m         \u001b[0;32mtry\u001b[0m\u001b[0;34m:\u001b[0m    \u001b[0;31m# restore state no matter what (e.g., KeyboardInterrupt)\u001b[0m\u001b[0;34m\u001b[0m\u001b[0;34m\u001b[0m\u001b[0m\n\u001b[1;32m    294\u001b[0m             \u001b[0;32mif\u001b[0m \u001b[0mtimeout\u001b[0m \u001b[0;32mis\u001b[0m \u001b[0;32mNone\u001b[0m\u001b[0;34m:\u001b[0m\u001b[0;34m\u001b[0m\u001b[0;34m\u001b[0m\u001b[0m\n\u001b[0;32m--> 295\u001b[0;31m                 \u001b[0mwaiter\u001b[0m\u001b[0;34m.\u001b[0m\u001b[0macquire\u001b[0m\u001b[0;34m(\u001b[0m\u001b[0;34m)\u001b[0m\u001b[0;34m\u001b[0m\u001b[0;34m\u001b[0m\u001b[0m\n\u001b[0m\u001b[1;32m    296\u001b[0m                 \u001b[0mgotit\u001b[0m \u001b[0;34m=\u001b[0m \u001b[0;32mTrue\u001b[0m\u001b[0;34m\u001b[0m\u001b[0;34m\u001b[0m\u001b[0m\n\u001b[1;32m    297\u001b[0m             \u001b[0;32melse\u001b[0m\u001b[0;34m:\u001b[0m\u001b[0;34m\u001b[0m\u001b[0;34m\u001b[0m\u001b[0m\n",
      "\u001b[0;31mKeyboardInterrupt\u001b[0m: "
     ]
    }
   ],
   "source": [
    "if not os.path.exists(folderpath):\n",
    "    os.makedirs(folderpath)\n",
    "\n",
    "with multiprocessing.Pool() as pool:\n",
    "    for suite_file in get_suite_files(size=10):\n",
    "#         print(f\"starting {suite_file}\")\n",
    "        states = get_suite_states(suite_file)\n",
    "        ret = pool.map(run_solver, states)\n",
    "        _, fname = os.path.split(suite_file)\n",
    "        fname, _ = os.path.splitext(fname)\n",
    "        save_results(ret, fname)\n",
    "        print(f'done {suite_file}')"
   ]
  },
  {
   "cell_type": "code",
   "execution_count": null,
   "metadata": {},
   "outputs": [],
   "source": [
    "# suite_file = './bench/suites/10/suite_0027.txt'\n",
    "# states = get_suite_states(suite_file)\n",
    "# ret = list(map(run_solver, states))\n",
    "# ret"
   ]
  }
 ],
 "metadata": {
  "kernelspec": {
   "display_name": "klonsolve",
   "language": "python",
   "name": "klonsolve"
  }
 },
 "nbformat": 4,
 "nbformat_minor": 2
}
