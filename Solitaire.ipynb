{
 "cells": [
  {
   "cell_type": "code",
   "execution_count": 1,
   "metadata": {},
   "outputs": [],
   "source": [
    "SPADE = u'\\u2660'\n",
    "HEART = u'\\u2665'\n",
    "CLUB = u'\\u2663'\n",
    "DIAMOND = u'\\u2666'"
   ]
  },
  {
   "cell_type": "code",
   "execution_count": 2,
   "metadata": {},
   "outputs": [],
   "source": [
    "# implement K+ state representation\n",
    "\n",
    "# implement search tree as a set of available legal moves given a state\n",
    "\n",
    "# implement modular policy (one can be just pick random move from available)\n",
    "\n",
    "# repeat until win or no moves available"
   ]
  },
  {
   "cell_type": "code",
   "execution_count": 3,
   "metadata": {},
   "outputs": [],
   "source": [
    "game = {\n",
    "  \"stock\": [\n",
    "    \"10H\",\n",
    "    \"8D\",\n",
    "    \"7H\",\n",
    "    \"KC\",\n",
    "    \"3D\",\n",
    "    \"10D\",\n",
    "    \"5H\",\n",
    "    \"8C\",\n",
    "    \"QS\",\n",
    "    \"JS\",\n",
    "    \"9H\",\n",
    "    \"7C\",\n",
    "    \"6D\",\n",
    "    \"8S\",\n",
    "    \"QD\",\n",
    "    \"QH\",\n",
    "    \"AC\",\n",
    "    \"9C\",\n",
    "    \"5S\",\n",
    "    \"KH\",\n",
    "    \"QC\",\n",
    "    \"2S\",\n",
    "    \"10C\",\n",
    "    \"9D\"\n",
    "  ],\n",
    "  \"tableau piles\": [\n",
    "    [\"4D\"],\n",
    "    [\"3c\", \"4C\"],\n",
    "    [\"9s\", \"7d\", \"6H\"],\n",
    "    [\"ah\", \"7s\", \"2c\", \"JD\"],\n",
    "    [\"ad\", \"6s\", \"2h\", \"10s\", \"AS\"],\n",
    "    [\"4h\", \"8h\", \"2d\", \"ks\", \"jc\", \"5C\"],\n",
    "    [\"3h\", \"4s\", \"3s\", \"5d\", \"jh\", \"6c\", \"KD\"]\n",
    "  ],\n",
    "  \"waste\": []\n",
    "}"
   ]
  },
  {
   "cell_type": "code",
   "execution_count": 4,
   "metadata": {},
   "outputs": [],
   "source": [
    "from state import State"
   ]
  },
  {
   "cell_type": "code",
   "execution_count": 5,
   "metadata": {},
   "outputs": [
    {
     "name": "stdout",
     "output_type": "stream",
     "text": [
      "{'foundations': ((), (), (), ()),\n",
      " 'stock': ('10H',\n",
      "           '8D',\n",
      "           '7H',\n",
      "           'KC',\n",
      "           '3D',\n",
      "           '10D',\n",
      "           '5H',\n",
      "           '8C',\n",
      "           'QS',\n",
      "           'JS',\n",
      "           '9H',\n",
      "           '7C',\n",
      "           '6D',\n",
      "           '8S',\n",
      "           'QD',\n",
      "           'QH',\n",
      "           'AC',\n",
      "           '9C',\n",
      "           '5S',\n",
      "           'KH',\n",
      "           'QC',\n",
      "           '2S',\n",
      "           '10C',\n",
      "           '9D'),\n",
      " 'tableau piles': (('4D',),\n",
      "                   ('3C', '4C'),\n",
      "                   ('9S', '7D', '6H'),\n",
      "                   ('AH', '7S', '2C', 'JD'),\n",
      "                   ('AD', '6S', '2H', '10S', 'AS'),\n",
      "                   ('4H', '8H', '2D', 'KS', 'JC', '5C'),\n",
      "                   ('3H', '4S', '3S', '5D', 'JH', '6C', 'KD')),\n",
      " 'waste': ()}\n"
     ]
    }
   ],
   "source": [
    "s = State.init_from_game(game)\n",
    "print(s)"
   ]
  },
  {
   "cell_type": "code",
   "execution_count": 6,
   "metadata": {},
   "outputs": [
    {
     "name": "stdout",
     "output_type": "stream",
     "text": [
      "{'foundations': ((), (), (), ()),\n",
      " 'stock': ('10H',\n",
      "           '8D',\n",
      "           '7H',\n",
      "           'KC',\n",
      "           '3D',\n",
      "           '10D',\n",
      "           '5H',\n",
      "           '8C',\n",
      "           'QS',\n",
      "           'JS',\n",
      "           '9H',\n",
      "           '7C',\n",
      "           '6D',\n",
      "           '8S',\n",
      "           'QD',\n",
      "           'QH',\n",
      "           'AC',\n",
      "           '9C',\n",
      "           '5S',\n",
      "           'KH',\n",
      "           'QC',\n",
      "           '2S',\n",
      "           '10C',\n",
      "           '9D'),\n",
      " 'tableau piles': ('4C',\n",
      "                   (('4D',),\n",
      "                    ('3C', '4C'),\n",
      "                    ('9S', '7D', '6H'),\n",
      "                    ('AH', '7S', '2C', 'JD', '4C'),\n",
      "                    ('AD', '6S', '2H', '10S', 'AS'),\n",
      "                    ('4H', '8H', '2D', 'KS', 'JC', '5C'),\n",
      "                    ('3H', '4S', '3S', '5D', 'JH', '6C', 'KD'))),\n",
      " 'waste': ()}\n"
     ]
    }
   ],
   "source": [
    "print(s.move_tableau_to_tableau(1,3))"
   ]
  }
 ],
 "metadata": {
  "kernelspec": {
   "display_name": "Python 3",
   "language": "python",
   "name": "python3"
  },
  "language_info": {
   "codemirror_mode": {
    "name": "ipython",
    "version": 3
   },
   "file_extension": ".py",
   "mimetype": "text/x-python",
   "name": "python",
   "nbconvert_exporter": "python",
   "pygments_lexer": "ipython3",
   "version": "3.7.1"
  }
 },
 "nbformat": 4,
 "nbformat_minor": 2
}
